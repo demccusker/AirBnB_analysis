{
 "cells": [
  {
   "cell_type": "code",
   "execution_count": 10,
   "id": "fa54db19",
   "metadata": {},
   "outputs": [],
   "source": [
    "import numpy as np\n",
    "import pandas as pd\n",
    "import matplotlib.pyplot as plt\n",
    "from sklearn.linear_model import LinearRegression\n",
    "from sklearn.model_selection import train_test_split\n",
    "from sklearn.metrics import r2_score, mean_squared_error\n",
    "import seaborn as sns\n",
    "%matplotlib inline\n",
    "\n",
    "list_df = pd.read_csv('listings.csv.gz', compression='gzip')\n",
    "review_df = pd.read_csv('reviews.csv.gz', compression='gzip')\n",
    "cal_df = pd.read_csv('calendar.csv.gz', compression='gzip')"
   ]
  },
  {
   "cell_type": "markdown",
   "id": "b633574c",
   "metadata": {},
   "source": [
    "### Exploration \n",
    "\n",
    "Let's take a look at the first few rows and some info about each dataframe. "
   ]
  },
  {
   "cell_type": "code",
   "execution_count": 3,
   "id": "295b6259",
   "metadata": {},
   "outputs": [
    {
     "data": {
      "text/html": [
       "<div>\n",
       "<style scoped>\n",
       "    .dataframe tbody tr th:only-of-type {\n",
       "        vertical-align: middle;\n",
       "    }\n",
       "\n",
       "    .dataframe tbody tr th {\n",
       "        vertical-align: top;\n",
       "    }\n",
       "\n",
       "    .dataframe thead th {\n",
       "        text-align: right;\n",
       "    }\n",
       "</style>\n",
       "<table border=\"1\" class=\"dataframe\">\n",
       "  <thead>\n",
       "    <tr style=\"text-align: right;\">\n",
       "      <th></th>\n",
       "      <th>id</th>\n",
       "      <th>listing_url</th>\n",
       "      <th>scrape_id</th>\n",
       "      <th>last_scraped</th>\n",
       "      <th>source</th>\n",
       "      <th>name</th>\n",
       "      <th>description</th>\n",
       "      <th>neighborhood_overview</th>\n",
       "      <th>picture_url</th>\n",
       "      <th>host_id</th>\n",
       "      <th>...</th>\n",
       "      <th>review_scores_communication</th>\n",
       "      <th>review_scores_location</th>\n",
       "      <th>review_scores_value</th>\n",
       "      <th>license</th>\n",
       "      <th>instant_bookable</th>\n",
       "      <th>calculated_host_listings_count</th>\n",
       "      <th>calculated_host_listings_count_entire_homes</th>\n",
       "      <th>calculated_host_listings_count_private_rooms</th>\n",
       "      <th>calculated_host_listings_count_shared_rooms</th>\n",
       "      <th>reviews_per_month</th>\n",
       "    </tr>\n",
       "  </thead>\n",
       "  <tbody>\n",
       "    <tr>\n",
       "      <th>0</th>\n",
       "      <td>6606</td>\n",
       "      <td>https://www.airbnb.com/rooms/6606</td>\n",
       "      <td>20231220185704</td>\n",
       "      <td>2023-12-21</td>\n",
       "      <td>city scrape</td>\n",
       "      <td>Guesthouse in Seattle · ★4.60 · 1 bedroom · 1 ...</td>\n",
       "      <td>NaN</td>\n",
       "      <td>A peaceful yet highly accessible neighborhood,...</td>\n",
       "      <td>https://a0.muscache.com/pictures/45742/21116d7...</td>\n",
       "      <td>14942</td>\n",
       "      <td>...</td>\n",
       "      <td>4.76</td>\n",
       "      <td>4.88</td>\n",
       "      <td>4.57</td>\n",
       "      <td>str-opli-19-002622</td>\n",
       "      <td>f</td>\n",
       "      <td>2</td>\n",
       "      <td>2</td>\n",
       "      <td>0</td>\n",
       "      <td>0</td>\n",
       "      <td>0.91</td>\n",
       "    </tr>\n",
       "    <tr>\n",
       "      <th>1</th>\n",
       "      <td>9419</td>\n",
       "      <td>https://www.airbnb.com/rooms/9419</td>\n",
       "      <td>20231220185704</td>\n",
       "      <td>2023-12-20</td>\n",
       "      <td>city scrape</td>\n",
       "      <td>Rental unit in Seattle · ★4.72 · 1 bedroom · 1...</td>\n",
       "      <td>NaN</td>\n",
       "      <td>Lots of restaurants (see our guide book) bars,...</td>\n",
       "      <td>https://a0.muscache.com/pictures/56645186/e5fb...</td>\n",
       "      <td>30559</td>\n",
       "      <td>...</td>\n",
       "      <td>4.90</td>\n",
       "      <td>4.67</td>\n",
       "      <td>4.66</td>\n",
       "      <td>STR-OPLI-19-003039</td>\n",
       "      <td>f</td>\n",
       "      <td>9</td>\n",
       "      <td>0</td>\n",
       "      <td>9</td>\n",
       "      <td>0</td>\n",
       "      <td>1.19</td>\n",
       "    </tr>\n",
       "    <tr>\n",
       "      <th>2</th>\n",
       "      <td>9531</td>\n",
       "      <td>https://www.airbnb.com/rooms/9531</td>\n",
       "      <td>20231220185704</td>\n",
       "      <td>2023-12-20</td>\n",
       "      <td>city scrape</td>\n",
       "      <td>Home in Seattle · ★4.97 · 2 bedrooms · 3 beds ...</td>\n",
       "      <td>NaN</td>\n",
       "      <td>The neighborhood is awesome!  Just far enough ...</td>\n",
       "      <td>https://a0.muscache.com/pictures/30470355/052c...</td>\n",
       "      <td>31481</td>\n",
       "      <td>...</td>\n",
       "      <td>4.95</td>\n",
       "      <td>4.98</td>\n",
       "      <td>4.91</td>\n",
       "      <td>STR-OPLI-19-002182</td>\n",
       "      <td>f</td>\n",
       "      <td>2</td>\n",
       "      <td>2</td>\n",
       "      <td>0</td>\n",
       "      <td>0</td>\n",
       "      <td>0.59</td>\n",
       "    </tr>\n",
       "    <tr>\n",
       "      <th>3</th>\n",
       "      <td>9534</td>\n",
       "      <td>https://www.airbnb.com/rooms/9534</td>\n",
       "      <td>20231220185704</td>\n",
       "      <td>2023-12-20</td>\n",
       "      <td>city scrape</td>\n",
       "      <td>Guest suite in Seattle · ★4.99 · 2 bedrooms · ...</td>\n",
       "      <td>NaN</td>\n",
       "      <td>The neighborhood is the best of two worlds...w...</td>\n",
       "      <td>https://a0.muscache.com/pictures/30476721/0751...</td>\n",
       "      <td>31481</td>\n",
       "      <td>...</td>\n",
       "      <td>4.99</td>\n",
       "      <td>4.96</td>\n",
       "      <td>4.95</td>\n",
       "      <td>STR-OPLI-19-002182</td>\n",
       "      <td>f</td>\n",
       "      <td>2</td>\n",
       "      <td>2</td>\n",
       "      <td>0</td>\n",
       "      <td>0</td>\n",
       "      <td>0.52</td>\n",
       "    </tr>\n",
       "    <tr>\n",
       "      <th>4</th>\n",
       "      <td>9596</td>\n",
       "      <td>https://www.airbnb.com/rooms/9596</td>\n",
       "      <td>20231220185704</td>\n",
       "      <td>2023-12-21</td>\n",
       "      <td>previous scrape</td>\n",
       "      <td>Rental unit in Seattle · ★4.56 · 1 bedroom · 4...</td>\n",
       "      <td>NaN</td>\n",
       "      <td>if you arrive early for check in at 3,  I reco...</td>\n",
       "      <td>https://a0.muscache.com/pictures/665252/102d18...</td>\n",
       "      <td>14942</td>\n",
       "      <td>...</td>\n",
       "      <td>4.66</td>\n",
       "      <td>4.91</td>\n",
       "      <td>4.56</td>\n",
       "      <td>STR -OPLI-19-002622</td>\n",
       "      <td>f</td>\n",
       "      <td>2</td>\n",
       "      <td>2</td>\n",
       "      <td>0</td>\n",
       "      <td>0</td>\n",
       "      <td>0.63</td>\n",
       "    </tr>\n",
       "  </tbody>\n",
       "</table>\n",
       "<p>5 rows × 75 columns</p>\n",
       "</div>"
      ],
      "text/plain": [
       "     id                        listing_url       scrape_id last_scraped  \\\n",
       "0  6606  https://www.airbnb.com/rooms/6606  20231220185704   2023-12-21   \n",
       "1  9419  https://www.airbnb.com/rooms/9419  20231220185704   2023-12-20   \n",
       "2  9531  https://www.airbnb.com/rooms/9531  20231220185704   2023-12-20   \n",
       "3  9534  https://www.airbnb.com/rooms/9534  20231220185704   2023-12-20   \n",
       "4  9596  https://www.airbnb.com/rooms/9596  20231220185704   2023-12-21   \n",
       "\n",
       "            source                                               name  \\\n",
       "0      city scrape  Guesthouse in Seattle · ★4.60 · 1 bedroom · 1 ...   \n",
       "1      city scrape  Rental unit in Seattle · ★4.72 · 1 bedroom · 1...   \n",
       "2      city scrape  Home in Seattle · ★4.97 · 2 bedrooms · 3 beds ...   \n",
       "3      city scrape  Guest suite in Seattle · ★4.99 · 2 bedrooms · ...   \n",
       "4  previous scrape  Rental unit in Seattle · ★4.56 · 1 bedroom · 4...   \n",
       "\n",
       "   description                              neighborhood_overview  \\\n",
       "0          NaN  A peaceful yet highly accessible neighborhood,...   \n",
       "1          NaN  Lots of restaurants (see our guide book) bars,...   \n",
       "2          NaN  The neighborhood is awesome!  Just far enough ...   \n",
       "3          NaN  The neighborhood is the best of two worlds...w...   \n",
       "4          NaN  if you arrive early for check in at 3,  I reco...   \n",
       "\n",
       "                                         picture_url  host_id  ...  \\\n",
       "0  https://a0.muscache.com/pictures/45742/21116d7...    14942  ...   \n",
       "1  https://a0.muscache.com/pictures/56645186/e5fb...    30559  ...   \n",
       "2  https://a0.muscache.com/pictures/30470355/052c...    31481  ...   \n",
       "3  https://a0.muscache.com/pictures/30476721/0751...    31481  ...   \n",
       "4  https://a0.muscache.com/pictures/665252/102d18...    14942  ...   \n",
       "\n",
       "  review_scores_communication review_scores_location review_scores_value  \\\n",
       "0                        4.76                   4.88                4.57   \n",
       "1                        4.90                   4.67                4.66   \n",
       "2                        4.95                   4.98                4.91   \n",
       "3                        4.99                   4.96                4.95   \n",
       "4                        4.66                   4.91                4.56   \n",
       "\n",
       "               license instant_bookable calculated_host_listings_count  \\\n",
       "0   str-opli-19-002622                f                              2   \n",
       "1   STR-OPLI-19-003039                f                              9   \n",
       "2   STR-OPLI-19-002182                f                              2   \n",
       "3   STR-OPLI-19-002182                f                              2   \n",
       "4  STR -OPLI-19-002622                f                              2   \n",
       "\n",
       "  calculated_host_listings_count_entire_homes  \\\n",
       "0                                           2   \n",
       "1                                           0   \n",
       "2                                           2   \n",
       "3                                           2   \n",
       "4                                           2   \n",
       "\n",
       "  calculated_host_listings_count_private_rooms  \\\n",
       "0                                            0   \n",
       "1                                            9   \n",
       "2                                            0   \n",
       "3                                            0   \n",
       "4                                            0   \n",
       "\n",
       "  calculated_host_listings_count_shared_rooms reviews_per_month  \n",
       "0                                           0              0.91  \n",
       "1                                           0              1.19  \n",
       "2                                           0              0.59  \n",
       "3                                           0              0.52  \n",
       "4                                           0              0.63  \n",
       "\n",
       "[5 rows x 75 columns]"
      ]
     },
     "execution_count": 3,
     "metadata": {},
     "output_type": "execute_result"
    }
   ],
   "source": [
    "list_df.head()"
   ]
  },
  {
   "cell_type": "code",
   "execution_count": 4,
   "id": "b0db31b1",
   "metadata": {},
   "outputs": [
    {
     "data": {
      "text/html": [
       "<div>\n",
       "<style scoped>\n",
       "    .dataframe tbody tr th:only-of-type {\n",
       "        vertical-align: middle;\n",
       "    }\n",
       "\n",
       "    .dataframe tbody tr th {\n",
       "        vertical-align: top;\n",
       "    }\n",
       "\n",
       "    .dataframe thead th {\n",
       "        text-align: right;\n",
       "    }\n",
       "</style>\n",
       "<table border=\"1\" class=\"dataframe\">\n",
       "  <thead>\n",
       "    <tr style=\"text-align: right;\">\n",
       "      <th></th>\n",
       "      <th>listing_id</th>\n",
       "      <th>id</th>\n",
       "      <th>date</th>\n",
       "      <th>reviewer_id</th>\n",
       "      <th>reviewer_name</th>\n",
       "      <th>comments</th>\n",
       "    </tr>\n",
       "  </thead>\n",
       "  <tbody>\n",
       "    <tr>\n",
       "      <th>0</th>\n",
       "      <td>6606</td>\n",
       "      <td>5664</td>\n",
       "      <td>2009-07-17</td>\n",
       "      <td>18085</td>\n",
       "      <td>Vivian</td>\n",
       "      <td>The Urban Cottage is comfortable, beautiful, f...</td>\n",
       "    </tr>\n",
       "    <tr>\n",
       "      <th>1</th>\n",
       "      <td>6606</td>\n",
       "      <td>338761</td>\n",
       "      <td>2011-06-27</td>\n",
       "      <td>434031</td>\n",
       "      <td>Elliott</td>\n",
       "      <td>Joyce was a wonderful host and the urban cotta...</td>\n",
       "    </tr>\n",
       "    <tr>\n",
       "      <th>2</th>\n",
       "      <td>6606</td>\n",
       "      <td>467904</td>\n",
       "      <td>2011-08-22</td>\n",
       "      <td>976182</td>\n",
       "      <td>Allegra</td>\n",
       "      <td>Beautiful cottage and warm hospitality from Jo...</td>\n",
       "    </tr>\n",
       "    <tr>\n",
       "      <th>3</th>\n",
       "      <td>6606</td>\n",
       "      <td>480017</td>\n",
       "      <td>2011-08-27</td>\n",
       "      <td>997921</td>\n",
       "      <td>Brittney</td>\n",
       "      <td>Joyce is a wonderful host! She is warm, helpfu...</td>\n",
       "    </tr>\n",
       "    <tr>\n",
       "      <th>4</th>\n",
       "      <td>6606</td>\n",
       "      <td>487278</td>\n",
       "      <td>2011-08-30</td>\n",
       "      <td>206901</td>\n",
       "      <td>Pascal</td>\n",
       "      <td>Joyce's cottage is the perfect Seattle locatio...</td>\n",
       "    </tr>\n",
       "  </tbody>\n",
       "</table>\n",
       "</div>"
      ],
      "text/plain": [
       "   listing_id      id        date  reviewer_id reviewer_name  \\\n",
       "0        6606    5664  2009-07-17        18085        Vivian   \n",
       "1        6606  338761  2011-06-27       434031       Elliott   \n",
       "2        6606  467904  2011-08-22       976182       Allegra   \n",
       "3        6606  480017  2011-08-27       997921      Brittney   \n",
       "4        6606  487278  2011-08-30       206901        Pascal   \n",
       "\n",
       "                                            comments  \n",
       "0  The Urban Cottage is comfortable, beautiful, f...  \n",
       "1  Joyce was a wonderful host and the urban cotta...  \n",
       "2  Beautiful cottage and warm hospitality from Jo...  \n",
       "3  Joyce is a wonderful host! She is warm, helpfu...  \n",
       "4  Joyce's cottage is the perfect Seattle locatio...  "
      ]
     },
     "execution_count": 4,
     "metadata": {},
     "output_type": "execute_result"
    }
   ],
   "source": [
    "review_df.head()"
   ]
  },
  {
   "cell_type": "code",
   "execution_count": 5,
   "id": "5f1048ee",
   "metadata": {},
   "outputs": [
    {
     "data": {
      "text/html": [
       "<div>\n",
       "<style scoped>\n",
       "    .dataframe tbody tr th:only-of-type {\n",
       "        vertical-align: middle;\n",
       "    }\n",
       "\n",
       "    .dataframe tbody tr th {\n",
       "        vertical-align: top;\n",
       "    }\n",
       "\n",
       "    .dataframe thead th {\n",
       "        text-align: right;\n",
       "    }\n",
       "</style>\n",
       "<table border=\"1\" class=\"dataframe\">\n",
       "  <thead>\n",
       "    <tr style=\"text-align: right;\">\n",
       "      <th></th>\n",
       "      <th>listing_id</th>\n",
       "      <th>date</th>\n",
       "      <th>available</th>\n",
       "      <th>price</th>\n",
       "      <th>adjusted_price</th>\n",
       "      <th>minimum_nights</th>\n",
       "      <th>maximum_nights</th>\n",
       "    </tr>\n",
       "  </thead>\n",
       "  <tbody>\n",
       "    <tr>\n",
       "      <th>0</th>\n",
       "      <td>6606</td>\n",
       "      <td>2023-12-21</td>\n",
       "      <td>f</td>\n",
       "      <td>$90.00</td>\n",
       "      <td>NaN</td>\n",
       "      <td>30.0</td>\n",
       "      <td>1125.0</td>\n",
       "    </tr>\n",
       "    <tr>\n",
       "      <th>1</th>\n",
       "      <td>6606</td>\n",
       "      <td>2023-12-22</td>\n",
       "      <td>f</td>\n",
       "      <td>$90.00</td>\n",
       "      <td>NaN</td>\n",
       "      <td>30.0</td>\n",
       "      <td>1125.0</td>\n",
       "    </tr>\n",
       "    <tr>\n",
       "      <th>2</th>\n",
       "      <td>6606</td>\n",
       "      <td>2023-12-23</td>\n",
       "      <td>t</td>\n",
       "      <td>$90.00</td>\n",
       "      <td>NaN</td>\n",
       "      <td>30.0</td>\n",
       "      <td>1125.0</td>\n",
       "    </tr>\n",
       "    <tr>\n",
       "      <th>3</th>\n",
       "      <td>6606</td>\n",
       "      <td>2023-12-24</td>\n",
       "      <td>t</td>\n",
       "      <td>$90.00</td>\n",
       "      <td>NaN</td>\n",
       "      <td>30.0</td>\n",
       "      <td>1125.0</td>\n",
       "    </tr>\n",
       "    <tr>\n",
       "      <th>4</th>\n",
       "      <td>6606</td>\n",
       "      <td>2023-12-25</td>\n",
       "      <td>t</td>\n",
       "      <td>$90.00</td>\n",
       "      <td>NaN</td>\n",
       "      <td>30.0</td>\n",
       "      <td>1125.0</td>\n",
       "    </tr>\n",
       "  </tbody>\n",
       "</table>\n",
       "</div>"
      ],
      "text/plain": [
       "   listing_id        date available   price  adjusted_price  minimum_nights  \\\n",
       "0        6606  2023-12-21         f  $90.00             NaN            30.0   \n",
       "1        6606  2023-12-22         f  $90.00             NaN            30.0   \n",
       "2        6606  2023-12-23         t  $90.00             NaN            30.0   \n",
       "3        6606  2023-12-24         t  $90.00             NaN            30.0   \n",
       "4        6606  2023-12-25         t  $90.00             NaN            30.0   \n",
       "\n",
       "   maximum_nights  \n",
       "0          1125.0  \n",
       "1          1125.0  \n",
       "2          1125.0  \n",
       "3          1125.0  \n",
       "4          1125.0  "
      ]
     },
     "execution_count": 5,
     "metadata": {},
     "output_type": "execute_result"
    }
   ],
   "source": [
    "cal_df.head()"
   ]
  },
  {
   "cell_type": "code",
   "execution_count": 6,
   "id": "ec6e4f76",
   "metadata": {},
   "outputs": [
    {
     "name": "stdout",
     "output_type": "stream",
     "text": [
      "<class 'pandas.core.frame.DataFrame'>\n",
      "RangeIndex: 6882 entries, 0 to 6881\n",
      "Data columns (total 75 columns):\n",
      " #   Column                                        Non-Null Count  Dtype  \n",
      "---  ------                                        --------------  -----  \n",
      " 0   id                                            6882 non-null   int64  \n",
      " 1   listing_url                                   6882 non-null   object \n",
      " 2   scrape_id                                     6882 non-null   int64  \n",
      " 3   last_scraped                                  6882 non-null   object \n",
      " 4   source                                        6882 non-null   object \n",
      " 5   name                                          6882 non-null   object \n",
      " 6   description                                   0 non-null      float64\n",
      " 7   neighborhood_overview                         5013 non-null   object \n",
      " 8   picture_url                                   6882 non-null   object \n",
      " 9   host_id                                       6882 non-null   int64  \n",
      " 10  host_url                                      6882 non-null   object \n",
      " 11  host_name                                     6882 non-null   object \n",
      " 12  host_since                                    6882 non-null   object \n",
      " 13  host_location                                 5816 non-null   object \n",
      " 14  host_about                                    4747 non-null   object \n",
      " 15  host_response_time                            5940 non-null   object \n",
      " 16  host_response_rate                            5940 non-null   object \n",
      " 17  host_acceptance_rate                          6297 non-null   object \n",
      " 18  host_is_superhost                             6864 non-null   object \n",
      " 19  host_thumbnail_url                            6882 non-null   object \n",
      " 20  host_picture_url                              6882 non-null   object \n",
      " 21  host_neighbourhood                            6552 non-null   object \n",
      " 22  host_listings_count                           6882 non-null   int64  \n",
      " 23  host_total_listings_count                     6882 non-null   int64  \n",
      " 24  host_verifications                            6882 non-null   object \n",
      " 25  host_has_profile_pic                          6882 non-null   object \n",
      " 26  host_identity_verified                        6882 non-null   object \n",
      " 27  neighbourhood                                 5013 non-null   object \n",
      " 28  neighbourhood_cleansed                        6882 non-null   object \n",
      " 29  neighbourhood_group_cleansed                  6882 non-null   object \n",
      " 30  latitude                                      6882 non-null   float64\n",
      " 31  longitude                                     6882 non-null   float64\n",
      " 32  property_type                                 6882 non-null   object \n",
      " 33  room_type                                     6882 non-null   object \n",
      " 34  accommodates                                  6882 non-null   int64  \n",
      " 35  bathrooms                                     0 non-null      float64\n",
      " 36  bathrooms_text                                6882 non-null   object \n",
      " 37  bedrooms                                      0 non-null      float64\n",
      " 38  beds                                          6826 non-null   float64\n",
      " 39  amenities                                     6882 non-null   object \n",
      " 40  price                                         6504 non-null   object \n",
      " 41  minimum_nights                                6882 non-null   int64  \n",
      " 42  maximum_nights                                6882 non-null   int64  \n",
      " 43  minimum_minimum_nights                        6882 non-null   int64  \n",
      " 44  maximum_minimum_nights                        6882 non-null   int64  \n",
      " 45  minimum_maximum_nights                        6882 non-null   int64  \n",
      " 46  maximum_maximum_nights                        6882 non-null   int64  \n",
      " 47  minimum_nights_avg_ntm                        6882 non-null   float64\n",
      " 48  maximum_nights_avg_ntm                        6882 non-null   float64\n",
      " 49  calendar_updated                              0 non-null      float64\n",
      " 50  has_availability                              6504 non-null   object \n",
      " 51  availability_30                               6882 non-null   int64  \n",
      " 52  availability_60                               6882 non-null   int64  \n",
      " 53  availability_90                               6882 non-null   int64  \n",
      " 54  availability_365                              6882 non-null   int64  \n",
      " 55  calendar_last_scraped                         6882 non-null   object \n",
      " 56  number_of_reviews                             6882 non-null   int64  \n",
      " 57  number_of_reviews_ltm                         6882 non-null   int64  \n",
      " 58  number_of_reviews_l30d                        6882 non-null   int64  \n",
      " 59  first_review                                  5809 non-null   object \n",
      " 60  last_review                                   5809 non-null   object \n",
      " 61  review_scores_rating                          5812 non-null   float64\n",
      " 62  review_scores_accuracy                        5812 non-null   float64\n",
      " 63  review_scores_cleanliness                     5812 non-null   float64\n",
      " 64  review_scores_checkin                         5812 non-null   float64\n",
      " 65  review_scores_communication                   5812 non-null   float64\n",
      " 66  review_scores_location                        5812 non-null   float64\n",
      " 67  review_scores_value                           5811 non-null   float64\n",
      " 68  license                                       5462 non-null   object \n",
      " 69  instant_bookable                              6882 non-null   object \n",
      " 70  calculated_host_listings_count                6882 non-null   int64  \n",
      " 71  calculated_host_listings_count_entire_homes   6882 non-null   int64  \n",
      " 72  calculated_host_listings_count_private_rooms  6882 non-null   int64  \n",
      " 73  calculated_host_listings_count_shared_rooms   6882 non-null   int64  \n",
      " 74  reviews_per_month                             5809 non-null   float64\n",
      "dtypes: float64(17), int64(23), object(35)\n",
      "memory usage: 3.9+ MB\n"
     ]
    }
   ],
   "source": [
    "list_df.info()"
   ]
  },
  {
   "cell_type": "code",
   "execution_count": 7,
   "id": "9d68ccf3",
   "metadata": {},
   "outputs": [
    {
     "name": "stdout",
     "output_type": "stream",
     "text": [
      "<class 'pandas.core.frame.DataFrame'>\n",
      "RangeIndex: 468790 entries, 0 to 468789\n",
      "Data columns (total 6 columns):\n",
      " #   Column         Non-Null Count   Dtype \n",
      "---  ------         --------------   ----- \n",
      " 0   listing_id     468790 non-null  int64 \n",
      " 1   id             468790 non-null  int64 \n",
      " 2   date           468790 non-null  object\n",
      " 3   reviewer_id    468790 non-null  int64 \n",
      " 4   reviewer_name  468790 non-null  object\n",
      " 5   comments       468730 non-null  object\n",
      "dtypes: int64(3), object(3)\n",
      "memory usage: 21.5+ MB\n"
     ]
    }
   ],
   "source": [
    "review_df.info()"
   ]
  },
  {
   "cell_type": "code",
   "execution_count": 9,
   "id": "ce9b1a2c",
   "metadata": {
    "scrolled": true
   },
   "outputs": [
    {
     "name": "stdout",
     "output_type": "stream",
     "text": [
      "<class 'pandas.core.frame.DataFrame'>\n",
      "RangeIndex: 2512306 entries, 0 to 2512305\n",
      "Data columns (total 7 columns):\n",
      " #   Column          Dtype  \n",
      "---  ------          -----  \n",
      " 0   listing_id      int64  \n",
      " 1   date            object \n",
      " 2   available       object \n",
      " 3   price           object \n",
      " 4   adjusted_price  float64\n",
      " 5   minimum_nights  float64\n",
      " 6   maximum_nights  float64\n",
      "dtypes: float64(3), int64(1), object(3)\n",
      "memory usage: 134.2+ MB\n"
     ]
    }
   ],
   "source": [
    "cal_df.info()"
   ]
  },
  {
   "cell_type": "markdown",
   "id": "56f42710",
   "metadata": {},
   "source": [
    "Price is the output we're most interested in, so let's make sure prices are an float. "
   ]
  },
  {
   "cell_type": "code",
   "execution_count": 156,
   "id": "752338ed",
   "metadata": {
    "scrolled": true
   },
   "outputs": [
    {
     "data": {
      "text/plain": [
       "NaN        378\n",
       "$100.00    103\n",
       "$80.00     102\n",
       "$85.00      83\n",
       "$99.00      83\n",
       "          ... \n",
       "$799.00      1\n",
       "$247.00      1\n",
       "$513.00      1\n",
       "$338.00      1\n",
       "$476.00      1\n",
       "Name: price, Length: 534, dtype: int64"
      ]
     },
     "execution_count": 156,
     "metadata": {},
     "output_type": "execute_result"
    }
   ],
   "source": [
    "list_df['price'].value_counts(dropna=False)"
   ]
  },
  {
   "cell_type": "markdown",
   "id": "e12142fe",
   "metadata": {},
   "source": [
    "Well... that's annoying. We're missing prices and the price is stored as a string because it contains the currency symbol. As a global company, it makes perfect sense for AirBNB to use the currency symbol, but every listing in Seattle should use USD as its currency. \n",
    "\n",
    "Let's get rid of those $ and any commas that might appear in large prices. "
   ]
  },
  {
   "cell_type": "code",
   "execution_count": 46,
   "id": "5b2f6209",
   "metadata": {},
   "outputs": [],
   "source": [
    "list_df['price_float'] = list_df['price'].str.split(\"$\").str[1]\n",
    "list_df['price_float'] = list_df['price_float'].str.replace(\",\",\"\")\n",
    "list_df['price_float'] = list_df['price_float'].astype('float64')"
   ]
  },
  {
   "cell_type": "markdown",
   "id": "ec3ee56b",
   "metadata": {},
   "source": [
    "I would like to graph the distribution of prices, but the fact that there are still NaNs will cause an issue. Getting those prices will also make any analysis stronger. We'll return to the issue of missing prices later on.\n",
    "\n",
    "First, let's turn out attention to reviews. Let's look at the number of reviews. "
   ]
  },
  {
   "cell_type": "code",
   "execution_count": 69,
   "id": "a37f5f4b",
   "metadata": {
    "scrolled": false
   },
   "outputs": [
    {
     "data": {
      "image/png": "[encoded data removed]",
      "text/plain": [
       "<Figure size 720x432 with 1 Axes>"
      ]
     },
     "metadata": {},
     "output_type": "display_data"
    }
   ],
   "source": [
    "plt.hist(data=list_df, x = \"number_of_reviews\",bins = 50);"
   ]
  },
  {
   "cell_type": "markdown",
   "id": "b925cc2e",
   "metadata": {},
   "source": [
    "It looks like many places have few reivews, but there are a few properties with lots of reviews that stretch this graph out. Let's zoom into the places with the fewest reviews. "
   ]
  },
  {
   "cell_type": "code",
   "execution_count": 158,
   "id": "7366d902",
   "metadata": {
    "scrolled": true
   },
   "outputs": [
    {
     "data": {
      "image/png": "[encoded data removed]",
      "text/plain": [
       "<Figure size 720x432 with 1 Axes>"
      ]
     },
     "metadata": {},
     "output_type": "display_data"
    }
   ],
   "source": [
    "plt.hist(data=list_df, x = \"number_of_reviews\",bins = 1000);\n",
    "plt.xlim(0,200);"
   ]
  },
  {
   "cell_type": "markdown",
   "id": "f8c9a1fd",
   "metadata": {},
   "source": [
    "The first bucket is capturing places with 0 or 1 reviews, which accounts for most properties. Now let's look at those review scores. "
   ]
  },
  {
   "cell_type": "code",
   "execution_count": 19,
   "id": "d273f067",
   "metadata": {
    "scrolled": false
   },
   "outputs": [
    {
     "data": {
      "image/png": "[encoded data removed]",
      "text/plain": [
       "<Figure size 432x288 with 1 Axes>"
      ]
     },
     "metadata": {
      "needs_background": "light"
     },
     "output_type": "display_data"
    }
   ],
   "source": [
    "plt.hist(data=list_df, x = \"review_scores_rating\",bins = 50);\n"
   ]
  },
  {
   "cell_type": "markdown",
   "id": "41ac3d04",
   "metadata": {},
   "source": [
    "Most places have pretty high reviews! Let's try looking at some of the component review scores. "
   ]
  },
  {
   "cell_type": "code",
   "execution_count": 48,
   "id": "a86761e3",
   "metadata": {},
   "outputs": [
    {
     "data": {
      "image/png": "[encoded data removed]",
      "text/plain": [
       "<Figure size 1440x864 with 6 Axes>"
      ]
     },
     "metadata": {
      "needs_background": "light"
     },
     "output_type": "display_data"
    }
   ],
   "source": [
    "plt.figure(figsize = [20, 12]) \n",
    "\n",
    "plt.subplot(2, 3, 1) \n",
    "plt.hist(data=list_df, x='review_scores_accuracy', bins=50);\n",
    "\n",
    "\n",
    "plt.subplot(2, 3, 2) \n",
    "plt.hist(data=df, x='review_scores_cleanliness', bins=50);\n",
    "\n",
    "\n",
    "plt.subplot(2, 3, 3)  \n",
    "plt.hist(data=df, x='review_scores_checkin', bins=50);\n",
    "\n",
    "\n",
    "plt.subplot(2, 3, 4) \n",
    "plt.hist(data=df, x='review_scores_communication', bins=50);\n",
    "\n",
    "plt.subplot(2, 3, 5)  \n",
    "plt.hist(data=df, x='review_scores_location', bins=50);\n",
    "\n",
    "\n",
    "plt.subplot(2, 3, 6) \n",
    "plt.hist(data=df, x='review_scores_value', bins=50);"
   ]
  },
  {
   "cell_type": "markdown",
   "id": "d7d1d733",
   "metadata": {},
   "source": [
    "People are almost always very happy with host communication, but the reviews for the value for their money varies the most. \n",
    "\n",
    "Now we can look at some info about neighborhoods. "
   ]
  },
  {
   "cell_type": "code",
   "execution_count": 50,
   "id": "a0e655aa",
   "metadata": {},
   "outputs": [
    {
     "data": {
      "text/plain": [
       "Broadway               388\n",
       "Belltown               351\n",
       "Wallingford            259\n",
       "Fremont                254\n",
       "University District    229\n",
       "                      ... \n",
       "Meadowbrook             13\n",
       "Rainier View            12\n",
       "Industrial District      2\n",
       "Harbor Island            1\n",
       "Holly Park               1\n",
       "Name: neighbourhood_cleansed, Length: 89, dtype: int64"
      ]
     },
     "execution_count": 50,
     "metadata": {},
     "output_type": "execute_result"
    }
   ],
   "source": [
    "list_df['neighbourhood_cleansed'].value_counts()"
   ]
  },
  {
   "cell_type": "code",
   "execution_count": 55,
   "id": "7309becc",
   "metadata": {},
   "outputs": [
    {
     "name": "stdout",
     "output_type": "stream",
     "text": [
      "Broadway               388\n",
      "Belltown               351\n",
      "Wallingford            259\n",
      "Fremont                254\n",
      "University District    229\n",
      "                      ... \n",
      "Meadowbrook             13\n",
      "Rainier View            12\n",
      "Industrial District      2\n",
      "Harbor Island            1\n",
      "Holly Park               1\n",
      "Name: neighbourhood_cleansed, Length: 89, dtype: int64\n"
     ]
    }
   ],
   "source": [
    "neighborhood_counts = list_df['neighbourhood_cleansed'].value_counts()\n",
    "print(neighborhood_counts)"
   ]
  },
  {
   "cell_type": "code",
   "execution_count": 63,
   "id": "bb2030eb",
   "metadata": {
    "scrolled": true
   },
   "outputs": [
    {
     "data": {
      "image/png": "[encoded data removed]",
      "text/plain": [
       "<Figure size 1440x1080 with 1 Axes>"
      ]
     },
     "metadata": {},
     "output_type": "display_data"
    }
   ],
   "source": [
    "sns.countplot(data=list_df, x='neighbourhood_cleansed')\n",
    "sns.set(rc={'figure.figsize':(25,20)})\n",
    "plt.xticks(rotation = 90);"
   ]
  },
  {
   "cell_type": "markdown",
   "id": "9de0ecc3",
   "metadata": {},
   "source": [
    "I'll take a look at prices by neighborhood. I'll make a quick function to do so. "
   ]
  },
  {
   "cell_type": "code",
   "execution_count": 127,
   "id": "a4684817",
   "metadata": {},
   "outputs": [],
   "source": [
    "def grouped_means_graph(df, x_axis, y_axis, fig_size):\n",
    "    grouped_df = df.groupby([x_axis])[y_axis].mean()\n",
    "    grouped_df.plot.bar(figsize=(fig_size),title = f\"{x_axis} vs mean of {y_axis}\", xlabel = x_axis, ylabel = (f'Mean {y_axis}'))"
   ]
  },
  {
   "cell_type": "code",
   "execution_count": 159,
   "id": "2ea0b7a6",
   "metadata": {
    "scrolled": true
   },
   "outputs": [
    {
     "data": {
      "image/png": "[encoded data removed]",
      "text/plain": [
       "<Figure size 1800x1440 with 1 Axes>"
      ]
     },
     "metadata": {},
     "output_type": "display_data"
    }
   ],
   "source": [
    "grouped_means_graph(list_df, 'neighbourhood_cleansed', 'price_float',(25,20))"
   ]
  },
  {
   "cell_type": "markdown",
   "id": "26730b6b",
   "metadata": {},
   "source": [
    "There are only a few listings in the industrial district, and at least one of them must be quite expensive!Some other pricy neighborhoods include Fremont, Greenwood, and Phinney Ridge. \n",
    "\n",
    "AirBNB also has info about larger neighborhood groups. "
   ]
  },
  {
   "cell_type": "code",
   "execution_count": 66,
   "id": "2ff3dca4",
   "metadata": {
    "scrolled": false
   },
   "outputs": [
    {
     "data": {
      "image/png": "[encoded data removed]",
      "text/plain": [
       "<Figure size 1080x720 with 1 Axes>"
      ]
     },
     "metadata": {},
     "output_type": "display_data"
    }
   ],
   "source": [
    "sns.countplot(data=list_df, x='neighbourhood_group_cleansed')\n",
    "sns.set(rc={'figure.figsize':(10,6)})\n",
    "plt.xticks(rotation = 90);"
   ]
  },
  {
   "cell_type": "code",
   "execution_count": 129,
   "id": "d7ad0c60",
   "metadata": {},
   "outputs": [
    {
     "data": {
      "image/png": "[encoded data removed]",
      "text/plain": [
       "<Figure size 1080x720 with 1 Axes>"
      ]
     },
     "metadata": {},
     "output_type": "display_data"
    }
   ],
   "source": [
    "grouped_means_graph(list_df, 'neighbourhood_group_cleansed', 'price_float',(15,10))"
   ]
  },
  {
   "cell_type": "markdown",
   "id": "475f0f5a",
   "metadata": {},
   "source": [
    "The catch-all other neighborhoods category is the highest, which makes sense since many of the highest price neighborhoods from above will end up in this category. Queen Anne has the highest average price per night. \n",
    "\n",
    "Let's look at some attributes of the AirBNBs. "
   ]
  },
  {
   "cell_type": "code",
   "execution_count": 160,
   "id": "ef146a8a",
   "metadata": {},
   "outputs": [
    {
     "data": {
      "text/plain": [
       "1.0     2902\n",
       "2.0     1874\n",
       "3.0     1077\n",
       "4.0      495\n",
       "5.0      216\n",
       "6.0      122\n",
       "7.0       64\n",
       "NaN       56\n",
       "8.0       36\n",
       "9.0       20\n",
       "10.0      11\n",
       "12.0       3\n",
       "14.0       2\n",
       "15.0       2\n",
       "16.0       1\n",
       "11.0       1\n",
       "Name: beds, dtype: int64"
      ]
     },
     "execution_count": 160,
     "metadata": {},
     "output_type": "execute_result"
    }
   ],
   "source": [
    "list_df['beds'].value_counts(dropna=False)"
   ]
  },
  {
   "cell_type": "code",
   "execution_count": 161,
   "id": "9f942628",
   "metadata": {
    "scrolled": false
   },
   "outputs": [
    {
     "data": {
      "text/plain": [
       "2     2457\n",
       "4     1607\n",
       "6      818\n",
       "3      531\n",
       "5      358\n",
       "8      325\n",
       "1      269\n",
       "7      141\n",
       "10     132\n",
       "12      74\n",
       "16      60\n",
       "9       46\n",
       "11      28\n",
       "14      23\n",
       "15       7\n",
       "13       6\n",
       "Name: accommodates, dtype: int64"
      ]
     },
     "execution_count": 161,
     "metadata": {},
     "output_type": "execute_result"
    }
   ],
   "source": [
    "list_df['accommodates'].value_counts(dropna=False)"
   ]
  },
  {
   "cell_type": "code",
   "execution_count": 91,
   "id": "ce3cbc39",
   "metadata": {
    "scrolled": true
   },
   "outputs": [
    {
     "data": {
      "text/plain": [
       "1 bath               3940\n",
       "2 baths              1029\n",
       "2.5 baths             367\n",
       "1 private bath        329\n",
       "1.5 baths             313\n",
       "1 shared bath         298\n",
       "3 baths               229\n",
       "3.5 baths             136\n",
       "2 shared baths         68\n",
       "1.5 shared baths       60\n",
       "4 baths                34\n",
       "3 shared baths         23\n",
       "4.5 baths              10\n",
       "Half-bath               9\n",
       "0 baths                 8\n",
       "0 shared baths          6\n",
       "6 baths                 5\n",
       "16 shared baths         4\n",
       "4 shared baths          2\n",
       "2.5 shared baths        2\n",
       "6.5 baths               2\n",
       "7 baths                 2\n",
       "5 baths                 2\n",
       "3.5 shared baths        1\n",
       "Shared half-bath        1\n",
       "Private half-bath       1\n",
       "5.5 baths               1\n",
       "Name: bathrooms_text, dtype: int64"
      ]
     },
     "execution_count": 91,
     "metadata": {},
     "output_type": "execute_result"
    }
   ],
   "source": [
    "list_df['bathrooms_text'].value_counts(dropna=False)"
   ]
  },
  {
   "cell_type": "markdown",
   "id": "f09e1b35",
   "metadata": {},
   "source": [
    "The number of beds and people accomodated are already in good shape, but bathrooms will take some work. There's two variables here: how many bathrooms, and whether those bathrooms are shared. We'll need number of baths and a binary variable for shared or not. First, let's turn half-bath into .5"
   ]
  },
  {
   "cell_type": "code",
   "execution_count": 99,
   "id": "13675296",
   "metadata": {},
   "outputs": [],
   "source": [
    "list_df['bathrooms_text'] = list_df['bathrooms_text'].str.replace('half-bath', \"0.5\")\n",
    "list_df['bathrooms_text'] = list_df['bathrooms_text'].str.replace('Half-bath', \"0.5\")"
   ]
  },
  {
   "cell_type": "code",
   "execution_count": 100,
   "id": "da7b1b7d",
   "metadata": {},
   "outputs": [
    {
     "data": {
      "text/plain": [
       "1 bath              3940\n",
       "2 baths             1029\n",
       "2.5 baths            367\n",
       "1 private bath       329\n",
       "1.5 baths            313\n",
       "1 shared bath        298\n",
       "3 baths              229\n",
       "3.5 baths            136\n",
       "2 shared baths        68\n",
       "1.5 shared baths      60\n",
       "4 baths               34\n",
       "3 shared baths        23\n",
       "4.5 baths             10\n",
       "0.5                    9\n",
       "0 baths                8\n",
       "0 shared baths         6\n",
       "6 baths                5\n",
       "16 shared baths        4\n",
       "4 shared baths         2\n",
       "2.5 shared baths       2\n",
       "6.5 baths              2\n",
       "7 baths                2\n",
       "5 baths                2\n",
       "3.5 shared baths       1\n",
       "Shared 0.5             1\n",
       "Private 0.5            1\n",
       "5.5 baths              1\n",
       "Name: bathrooms_text, dtype: int64"
      ]
     },
     "execution_count": 100,
     "metadata": {},
     "output_type": "execute_result"
    }
   ],
   "source": [
    "list_df['bathrooms_text'].value_counts(dropna=False)"
   ]
  },
  {
   "cell_type": "markdown",
   "id": "1f408e9c",
   "metadata": {},
   "source": [
    "Now, let's extract the number of bathrooms. "
   ]
  },
  {
   "cell_type": "code",
   "execution_count": 113,
   "id": "7da513b9",
   "metadata": {},
   "outputs": [],
   "source": [
    "list_df['no_of_bathrooms'] = list_df['bathrooms_text'].str.extract('(\\d+.?\\d*)').astype(float)"
   ]
  },
  {
   "cell_type": "code",
   "execution_count": 114,
   "id": "d14e3e50",
   "metadata": {},
   "outputs": [
    {
     "data": {
      "text/plain": [
       "1.0     4567\n",
       "2.0     1097\n",
       "1.5      373\n",
       "2.5      369\n",
       "3.0      252\n",
       "3.5      137\n",
       "4.0       36\n",
       "0.0       14\n",
       "0.5       11\n",
       "4.5       10\n",
       "6.0        5\n",
       "16.0       4\n",
       "6.5        2\n",
       "7.0        2\n",
       "5.0        2\n",
       "5.5        1\n",
       "Name: no_of_bathrooms, dtype: int64"
      ]
     },
     "execution_count": 114,
     "metadata": {},
     "output_type": "execute_result"
    }
   ],
   "source": [
    "list_df['no_of_bathrooms'].value_counts(dropna=False)"
   ]
  },
  {
   "cell_type": "markdown",
   "id": "52ef197d",
   "metadata": {},
   "source": [
    "Next, let's pick out the shared bathrooms. "
   ]
  },
  {
   "cell_type": "code",
   "execution_count": 110,
   "id": "6a02a06c",
   "metadata": {},
   "outputs": [],
   "source": [
    "list_df['shared'] = list_df['bathrooms_text'].str.contains('shared').astype(int)"
   ]
  },
  {
   "cell_type": "code",
   "execution_count": 111,
   "id": "c53c38b6",
   "metadata": {},
   "outputs": [
    {
     "data": {
      "text/plain": [
       "0    6418\n",
       "1     464\n",
       "Name: shared, dtype: int64"
      ]
     },
     "execution_count": 111,
     "metadata": {},
     "output_type": "execute_result"
    }
   ],
   "source": [
    "list_df['shared'].value_counts(dropna=False)"
   ]
  },
  {
   "cell_type": "code",
   "execution_count": 118,
   "id": "f6a92921",
   "metadata": {},
   "outputs": [
    {
     "data": {
      "text/html": [
       "<div>\n",
       "<style scoped>\n",
       "    .dataframe tbody tr th:only-of-type {\n",
       "        vertical-align: middle;\n",
       "    }\n",
       "\n",
       "    .dataframe tbody tr th {\n",
       "        vertical-align: top;\n",
       "    }\n",
       "\n",
       "    .dataframe thead th {\n",
       "        text-align: right;\n",
       "    }\n",
       "</style>\n",
       "<table border=\"1\" class=\"dataframe\">\n",
       "  <thead>\n",
       "    <tr style=\"text-align: right;\">\n",
       "      <th></th>\n",
       "      <th>id</th>\n",
       "      <th>listing_url</th>\n",
       "      <th>scrape_id</th>\n",
       "      <th>last_scraped</th>\n",
       "      <th>source</th>\n",
       "      <th>name</th>\n",
       "      <th>description</th>\n",
       "      <th>neighborhood_overview</th>\n",
       "      <th>picture_url</th>\n",
       "      <th>host_id</th>\n",
       "      <th>...</th>\n",
       "      <th>license</th>\n",
       "      <th>instant_bookable</th>\n",
       "      <th>calculated_host_listings_count</th>\n",
       "      <th>calculated_host_listings_count_entire_homes</th>\n",
       "      <th>calculated_host_listings_count_private_rooms</th>\n",
       "      <th>calculated_host_listings_count_shared_rooms</th>\n",
       "      <th>reviews_per_month</th>\n",
       "      <th>price_float</th>\n",
       "      <th>no_of_bathrooms</th>\n",
       "      <th>shared</th>\n",
       "    </tr>\n",
       "  </thead>\n",
       "  <tbody>\n",
       "    <tr>\n",
       "      <th>0</th>\n",
       "      <td>6606</td>\n",
       "      <td>https://www.airbnb.com/rooms/6606</td>\n",
       "      <td>20231220185704</td>\n",
       "      <td>2023-12-21</td>\n",
       "      <td>city scrape</td>\n",
       "      <td>Guesthouse in Seattle · ★4.60 · 1 bedroom · 1 ...</td>\n",
       "      <td>NaN</td>\n",
       "      <td>A peaceful yet highly accessible neighborhood,...</td>\n",
       "      <td>https://a0.muscache.com/pictures/45742/21116d7...</td>\n",
       "      <td>14942</td>\n",
       "      <td>...</td>\n",
       "      <td>str-opli-19-002622</td>\n",
       "      <td>f</td>\n",
       "      <td>2</td>\n",
       "      <td>2</td>\n",
       "      <td>0</td>\n",
       "      <td>0</td>\n",
       "      <td>0.91</td>\n",
       "      <td>99.0</td>\n",
       "      <td>1.0</td>\n",
       "      <td>0</td>\n",
       "    </tr>\n",
       "    <tr>\n",
       "      <th>1</th>\n",
       "      <td>9419</td>\n",
       "      <td>https://www.airbnb.com/rooms/9419</td>\n",
       "      <td>20231220185704</td>\n",
       "      <td>2023-12-20</td>\n",
       "      <td>city scrape</td>\n",
       "      <td>Rental unit in Seattle · ★4.72 · 1 bedroom · 1...</td>\n",
       "      <td>NaN</td>\n",
       "      <td>Lots of restaurants (see our guide book) bars,...</td>\n",
       "      <td>https://a0.muscache.com/pictures/56645186/e5fb...</td>\n",
       "      <td>30559</td>\n",
       "      <td>...</td>\n",
       "      <td>STR-OPLI-19-003039</td>\n",
       "      <td>f</td>\n",
       "      <td>9</td>\n",
       "      <td>0</td>\n",
       "      <td>9</td>\n",
       "      <td>0</td>\n",
       "      <td>1.19</td>\n",
       "      <td>67.0</td>\n",
       "      <td>3.0</td>\n",
       "      <td>1</td>\n",
       "    </tr>\n",
       "    <tr>\n",
       "      <th>2</th>\n",
       "      <td>9531</td>\n",
       "      <td>https://www.airbnb.com/rooms/9531</td>\n",
       "      <td>20231220185704</td>\n",
       "      <td>2023-12-20</td>\n",
       "      <td>city scrape</td>\n",
       "      <td>Home in Seattle · ★4.97 · 2 bedrooms · 3 beds ...</td>\n",
       "      <td>NaN</td>\n",
       "      <td>The neighborhood is awesome!  Just far enough ...</td>\n",
       "      <td>https://a0.muscache.com/pictures/30470355/052c...</td>\n",
       "      <td>31481</td>\n",
       "      <td>...</td>\n",
       "      <td>STR-OPLI-19-002182</td>\n",
       "      <td>f</td>\n",
       "      <td>2</td>\n",
       "      <td>2</td>\n",
       "      <td>0</td>\n",
       "      <td>0</td>\n",
       "      <td>0.59</td>\n",
       "      <td>184.0</td>\n",
       "      <td>1.0</td>\n",
       "      <td>0</td>\n",
       "    </tr>\n",
       "    <tr>\n",
       "      <th>3</th>\n",
       "      <td>9534</td>\n",
       "      <td>https://www.airbnb.com/rooms/9534</td>\n",
       "      <td>20231220185704</td>\n",
       "      <td>2023-12-20</td>\n",
       "      <td>city scrape</td>\n",
       "      <td>Guest suite in Seattle · ★4.99 · 2 bedrooms · ...</td>\n",
       "      <td>NaN</td>\n",
       "      <td>The neighborhood is the best of two worlds...w...</td>\n",
       "      <td>https://a0.muscache.com/pictures/30476721/0751...</td>\n",
       "      <td>31481</td>\n",
       "      <td>...</td>\n",
       "      <td>STR-OPLI-19-002182</td>\n",
       "      <td>f</td>\n",
       "      <td>2</td>\n",
       "      <td>2</td>\n",
       "      <td>0</td>\n",
       "      <td>0</td>\n",
       "      <td>0.52</td>\n",
       "      <td>155.0</td>\n",
       "      <td>1.0</td>\n",
       "      <td>0</td>\n",
       "    </tr>\n",
       "    <tr>\n",
       "      <th>4</th>\n",
       "      <td>9596</td>\n",
       "      <td>https://www.airbnb.com/rooms/9596</td>\n",
       "      <td>20231220185704</td>\n",
       "      <td>2023-12-21</td>\n",
       "      <td>previous scrape</td>\n",
       "      <td>Rental unit in Seattle · ★4.56 · 1 bedroom · 4...</td>\n",
       "      <td>NaN</td>\n",
       "      <td>if you arrive early for check in at 3,  I reco...</td>\n",
       "      <td>https://a0.muscache.com/pictures/665252/102d18...</td>\n",
       "      <td>14942</td>\n",
       "      <td>...</td>\n",
       "      <td>STR -OPLI-19-002622</td>\n",
       "      <td>f</td>\n",
       "      <td>2</td>\n",
       "      <td>2</td>\n",
       "      <td>0</td>\n",
       "      <td>0</td>\n",
       "      <td>0.63</td>\n",
       "      <td>NaN</td>\n",
       "      <td>1.0</td>\n",
       "      <td>0</td>\n",
       "    </tr>\n",
       "  </tbody>\n",
       "</table>\n",
       "<p>5 rows × 78 columns</p>\n",
       "</div>"
      ],
      "text/plain": [
       "     id                        listing_url       scrape_id last_scraped  \\\n",
       "0  6606  https://www.airbnb.com/rooms/6606  20231220185704   2023-12-21   \n",
       "1  9419  https://www.airbnb.com/rooms/9419  20231220185704   2023-12-20   \n",
       "2  9531  https://www.airbnb.com/rooms/9531  20231220185704   2023-12-20   \n",
       "3  9534  https://www.airbnb.com/rooms/9534  20231220185704   2023-12-20   \n",
       "4  9596  https://www.airbnb.com/rooms/9596  20231220185704   2023-12-21   \n",
       "\n",
       "            source                                               name  \\\n",
       "0      city scrape  Guesthouse in Seattle · ★4.60 · 1 bedroom · 1 ...   \n",
       "1      city scrape  Rental unit in Seattle · ★4.72 · 1 bedroom · 1...   \n",
       "2      city scrape  Home in Seattle · ★4.97 · 2 bedrooms · 3 beds ...   \n",
       "3      city scrape  Guest suite in Seattle · ★4.99 · 2 bedrooms · ...   \n",
       "4  previous scrape  Rental unit in Seattle · ★4.56 · 1 bedroom · 4...   \n",
       "\n",
       "   description                              neighborhood_overview  \\\n",
       "0          NaN  A peaceful yet highly accessible neighborhood,...   \n",
       "1          NaN  Lots of restaurants (see our guide book) bars,...   \n",
       "2          NaN  The neighborhood is awesome!  Just far enough ...   \n",
       "3          NaN  The neighborhood is the best of two worlds...w...   \n",
       "4          NaN  if you arrive early for check in at 3,  I reco...   \n",
       "\n",
       "                                         picture_url  host_id  ...  \\\n",
       "0  https://a0.muscache.com/pictures/45742/21116d7...    14942  ...   \n",
       "1  https://a0.muscache.com/pictures/56645186/e5fb...    30559  ...   \n",
       "2  https://a0.muscache.com/pictures/30470355/052c...    31481  ...   \n",
       "3  https://a0.muscache.com/pictures/30476721/0751...    31481  ...   \n",
       "4  https://a0.muscache.com/pictures/665252/102d18...    14942  ...   \n",
       "\n",
       "               license instant_bookable calculated_host_listings_count  \\\n",
       "0   str-opli-19-002622                f                              2   \n",
       "1   STR-OPLI-19-003039                f                              9   \n",
       "2   STR-OPLI-19-002182                f                              2   \n",
       "3   STR-OPLI-19-002182                f                              2   \n",
       "4  STR -OPLI-19-002622                f                              2   \n",
       "\n",
       "  calculated_host_listings_count_entire_homes  \\\n",
       "0                                           2   \n",
       "1                                           0   \n",
       "2                                           2   \n",
       "3                                           2   \n",
       "4                                           2   \n",
       "\n",
       "  calculated_host_listings_count_private_rooms  \\\n",
       "0                                            0   \n",
       "1                                            9   \n",
       "2                                            0   \n",
       "3                                            0   \n",
       "4                                            0   \n",
       "\n",
       "  calculated_host_listings_count_shared_rooms reviews_per_month price_float  \\\n",
       "0                                           0              0.91        99.0   \n",
       "1                                           0              1.19        67.0   \n",
       "2                                           0              0.59       184.0   \n",
       "3                                           0              0.52       155.0   \n",
       "4                                           0              0.63         NaN   \n",
       "\n",
       "  no_of_bathrooms shared  \n",
       "0             1.0      0  \n",
       "1             3.0      1  \n",
       "2             1.0      0  \n",
       "3             1.0      0  \n",
       "4             1.0      0  \n",
       "\n",
       "[5 rows x 78 columns]"
      ]
     },
     "execution_count": 118,
     "metadata": {},
     "output_type": "execute_result"
    }
   ],
   "source": [
    "list_df.head()"
   ]
  },
  {
   "cell_type": "code",
   "execution_count": 162,
   "id": "35e23708",
   "metadata": {},
   "outputs": [
    {
     "data": {
      "text/plain": [
       "Entire home                           1842\n",
       "Entire rental unit                    1701\n",
       "Private room in home                   689\n",
       "Entire guest suite                     585\n",
       "Entire condo                           559\n",
       "Entire townhouse                       525\n",
       "Entire guesthouse                      269\n",
       "Private room in townhouse              108\n",
       "Entire serviced apartment               88\n",
       "Room in boutique hotel                  73\n",
       "Private room in rental unit             71\n",
       "Entire loft                             50\n",
       "Entire cottage                          48\n",
       "Room in hotel                           39\n",
       "Private room in guest suite             30\n",
       "Entire bungalow                         29\n",
       "Tiny home                               22\n",
       "Private room in bed and breakfast       21\n",
       "Entire vacation home                    18\n",
       "Private room in bungalow                11\n",
       "Private room in condo                   11\n",
       "Private room in villa                    8\n",
       "Entire villa                             6\n",
       "Entire cabin                             6\n",
       "Shared room in rental unit               6\n",
       "Houseboat                                6\n",
       "Room in aparthotel                       6\n",
       "Camper/RV                                5\n",
       "Boat                                     5\n",
       "Private room                             5\n",
       "Private room in serviced apartment       4\n",
       "Shared room                              4\n",
       "Shared room in home                      3\n",
       "Private room in loft                     3\n",
       "Entire place                             3\n",
       "Casa particular                          3\n",
       "Shared room in hostel                    2\n",
       "Private room in guesthouse               2\n",
       "Private room in boat                     2\n",
       "Private room in cottage                  2\n",
       "Farm stay                                1\n",
       "Private room in casa particular          1\n",
       "Bus                                      1\n",
       "Shared room in condo                     1\n",
       "Tent                                     1\n",
       "Shared room in bed and breakfast         1\n",
       "Private room in tiny home                1\n",
       "Shared room in townhouse                 1\n",
       "Shared room in loft                      1\n",
       "Private room in hostel                   1\n",
       "Private room in treehouse                1\n",
       "Barn                                     1\n",
       "Name: property_type, dtype: int64"
      ]
     },
     "execution_count": 162,
     "metadata": {},
     "output_type": "execute_result"
    }
   ],
   "source": [
    "list_df['property_type'].value_counts(dropna=False)"
   ]
  },
  {
   "cell_type": "code",
   "execution_count": 163,
   "id": "54859af2",
   "metadata": {},
   "outputs": [
    {
     "data": {
      "text/plain": [
       "Entire home/apt    5780\n",
       "Private room       1083\n",
       "Shared room          19\n",
       "Name: room_type, dtype: int64"
      ]
     },
     "execution_count": 163,
     "metadata": {},
     "output_type": "execute_result"
    }
   ],
   "source": [
    "list_df['room_type'].value_counts(dropna=False)"
   ]
  },
  {
   "cell_type": "code",
   "execution_count": null,
   "id": "05287913",
   "metadata": {},
   "outputs": [],
   "source": []
  },
  {
   "cell_type": "markdown",
   "id": "1141e3b4",
   "metadata": {},
   "source": [
    "Time to return to the missing prices. What can we learn about the properties with missing prices? "
   ]
  },
  {
   "cell_type": "code",
   "execution_count": 119,
   "id": "a9789f06",
   "metadata": {},
   "outputs": [
    {
     "data": {
      "text/html": [
       "<div>\n",
       "<style scoped>\n",
       "    .dataframe tbody tr th:only-of-type {\n",
       "        vertical-align: middle;\n",
       "    }\n",
       "\n",
       "    .dataframe tbody tr th {\n",
       "        vertical-align: top;\n",
       "    }\n",
       "\n",
       "    .dataframe thead th {\n",
       "        text-align: right;\n",
       "    }\n",
       "</style>\n",
       "<table border=\"1\" class=\"dataframe\">\n",
       "  <thead>\n",
       "    <tr style=\"text-align: right;\">\n",
       "      <th></th>\n",
       "      <th>id</th>\n",
       "      <th>listing_url</th>\n",
       "      <th>scrape_id</th>\n",
       "      <th>last_scraped</th>\n",
       "      <th>source</th>\n",
       "      <th>name</th>\n",
       "      <th>description</th>\n",
       "      <th>neighborhood_overview</th>\n",
       "      <th>picture_url</th>\n",
       "      <th>host_id</th>\n",
       "      <th>...</th>\n",
       "      <th>review_scores_location</th>\n",
       "      <th>review_scores_value</th>\n",
       "      <th>license</th>\n",
       "      <th>instant_bookable</th>\n",
       "      <th>calculated_host_listings_count</th>\n",
       "      <th>calculated_host_listings_count_entire_homes</th>\n",
       "      <th>calculated_host_listings_count_private_rooms</th>\n",
       "      <th>calculated_host_listings_count_shared_rooms</th>\n",
       "      <th>reviews_per_month</th>\n",
       "      <th>price_float</th>\n",
       "    </tr>\n",
       "  </thead>\n",
       "  <tbody>\n",
       "    <tr>\n",
       "      <th>4</th>\n",
       "      <td>9596</td>\n",
       "      <td>https://www.airbnb.com/rooms/9596</td>\n",
       "      <td>20231220185704</td>\n",
       "      <td>2023-12-21</td>\n",
       "      <td>previous scrape</td>\n",
       "      <td>Rental unit in Seattle · ★4.56 · 1 bedroom · 4...</td>\n",
       "      <td>NaN</td>\n",
       "      <td>if you arrive early for check in at 3,  I reco...</td>\n",
       "      <td>https://a0.muscache.com/pictures/665252/102d18...</td>\n",
       "      <td>14942</td>\n",
       "      <td>...</td>\n",
       "      <td>4.91</td>\n",
       "      <td>4.56</td>\n",
       "      <td>STR -OPLI-19-002622</td>\n",
       "      <td>f</td>\n",
       "      <td>2</td>\n",
       "      <td>2</td>\n",
       "      <td>0</td>\n",
       "      <td>0</td>\n",
       "      <td>0.63</td>\n",
       "      <td>NaN</td>\n",
       "    </tr>\n",
       "    <tr>\n",
       "      <th>9</th>\n",
       "      <td>116221</td>\n",
       "      <td>https://www.airbnb.com/rooms/116221</td>\n",
       "      <td>20231220185704</td>\n",
       "      <td>2023-12-21</td>\n",
       "      <td>previous scrape</td>\n",
       "      <td>Rental unit in Seattle · ★4.74 · 1 bedroom · 1...</td>\n",
       "      <td>NaN</td>\n",
       "      <td>The apartment is conveniently located in the h...</td>\n",
       "      <td>https://a0.muscache.com/pictures/17918750/5304...</td>\n",
       "      <td>587302</td>\n",
       "      <td>...</td>\n",
       "      <td>4.91</td>\n",
       "      <td>4.52</td>\n",
       "      <td>NaN</td>\n",
       "      <td>f</td>\n",
       "      <td>1</td>\n",
       "      <td>1</td>\n",
       "      <td>0</td>\n",
       "      <td>0</td>\n",
       "      <td>0.32</td>\n",
       "      <td>NaN</td>\n",
       "    </tr>\n",
       "    <tr>\n",
       "      <th>63</th>\n",
       "      <td>681866</td>\n",
       "      <td>https://www.airbnb.com/rooms/681866</td>\n",
       "      <td>20231220185704</td>\n",
       "      <td>2023-12-21</td>\n",
       "      <td>previous scrape</td>\n",
       "      <td>Home in Seattle · ★4.98 · 1 bedroom · 1 bed · ...</td>\n",
       "      <td>NaN</td>\n",
       "      <td>NaN</td>\n",
       "      <td>https://a0.muscache.com/pictures/9949681/74e4c...</td>\n",
       "      <td>103825</td>\n",
       "      <td>...</td>\n",
       "      <td>4.63</td>\n",
       "      <td>4.95</td>\n",
       "      <td>NaN</td>\n",
       "      <td>f</td>\n",
       "      <td>1</td>\n",
       "      <td>0</td>\n",
       "      <td>1</td>\n",
       "      <td>0</td>\n",
       "      <td>0.31</td>\n",
       "      <td>NaN</td>\n",
       "    </tr>\n",
       "    <tr>\n",
       "      <th>72</th>\n",
       "      <td>752483</td>\n",
       "      <td>https://www.airbnb.com/rooms/752483</td>\n",
       "      <td>20231220185704</td>\n",
       "      <td>2023-12-21</td>\n",
       "      <td>previous scrape</td>\n",
       "      <td>Townhouse in Seattle · ★4.84 · 2 bedrooms · 2 ...</td>\n",
       "      <td>NaN</td>\n",
       "      <td>Capitol Hill is the most lively neighborhood i...</td>\n",
       "      <td>https://a0.muscache.com/pictures/10411745/888f...</td>\n",
       "      <td>450548</td>\n",
       "      <td>...</td>\n",
       "      <td>4.95</td>\n",
       "      <td>4.72</td>\n",
       "      <td>STR-OPLI-19-000434</td>\n",
       "      <td>f</td>\n",
       "      <td>1</td>\n",
       "      <td>1</td>\n",
       "      <td>0</td>\n",
       "      <td>0</td>\n",
       "      <td>1.52</td>\n",
       "      <td>NaN</td>\n",
       "    </tr>\n",
       "    <tr>\n",
       "      <th>74</th>\n",
       "      <td>789229</td>\n",
       "      <td>https://www.airbnb.com/rooms/789229</td>\n",
       "      <td>20231220185704</td>\n",
       "      <td>2023-12-21</td>\n",
       "      <td>previous scrape</td>\n",
       "      <td>Rental unit in Seattle · ★4.75 · 1 bedroom · 1...</td>\n",
       "      <td>NaN</td>\n",
       "      <td>NaN</td>\n",
       "      <td>https://a0.muscache.com/pictures/39865057/7c00...</td>\n",
       "      <td>1872473</td>\n",
       "      <td>...</td>\n",
       "      <td>4.73</td>\n",
       "      <td>4.71</td>\n",
       "      <td>NaN</td>\n",
       "      <td>f</td>\n",
       "      <td>1</td>\n",
       "      <td>1</td>\n",
       "      <td>0</td>\n",
       "      <td>0</td>\n",
       "      <td>0.93</td>\n",
       "      <td>NaN</td>\n",
       "    </tr>\n",
       "    <tr>\n",
       "      <th>...</th>\n",
       "      <td>...</td>\n",
       "      <td>...</td>\n",
       "      <td>...</td>\n",
       "      <td>...</td>\n",
       "      <td>...</td>\n",
       "      <td>...</td>\n",
       "      <td>...</td>\n",
       "      <td>...</td>\n",
       "      <td>...</td>\n",
       "      <td>...</td>\n",
       "      <td>...</td>\n",
       "      <td>...</td>\n",
       "      <td>...</td>\n",
       "      <td>...</td>\n",
       "      <td>...</td>\n",
       "      <td>...</td>\n",
       "      <td>...</td>\n",
       "      <td>...</td>\n",
       "      <td>...</td>\n",
       "      <td>...</td>\n",
       "      <td>...</td>\n",
       "    </tr>\n",
       "    <tr>\n",
       "      <th>6566</th>\n",
       "      <td>1012273978357374108</td>\n",
       "      <td>https://www.airbnb.com/rooms/1012273978357374108</td>\n",
       "      <td>20231220185704</td>\n",
       "      <td>2023-12-20</td>\n",
       "      <td>city scrape</td>\n",
       "      <td>Home in Seattle · ★New · 1 bedroom · 1 bed · 1...</td>\n",
       "      <td>NaN</td>\n",
       "      <td>Wedgwood is a quiet residential neighborhood k...</td>\n",
       "      <td>https://a0.muscache.com/pictures/miso/Hosting-...</td>\n",
       "      <td>61462577</td>\n",
       "      <td>...</td>\n",
       "      <td>NaN</td>\n",
       "      <td>NaN</td>\n",
       "      <td>NaN</td>\n",
       "      <td>f</td>\n",
       "      <td>1</td>\n",
       "      <td>0</td>\n",
       "      <td>1</td>\n",
       "      <td>0</td>\n",
       "      <td>NaN</td>\n",
       "      <td>NaN</td>\n",
       "    </tr>\n",
       "    <tr>\n",
       "      <th>6568</th>\n",
       "      <td>1012403644076732882</td>\n",
       "      <td>https://www.airbnb.com/rooms/1012403644076732882</td>\n",
       "      <td>20231220185704</td>\n",
       "      <td>2023-12-21</td>\n",
       "      <td>city scrape</td>\n",
       "      <td>Home in Seattle · ★New · 2 bedrooms · 2 beds ·...</td>\n",
       "      <td>NaN</td>\n",
       "      <td>We are in one of the most vibrant and diverse ...</td>\n",
       "      <td>https://a0.muscache.com/pictures/miso/Hosting-...</td>\n",
       "      <td>82113427</td>\n",
       "      <td>...</td>\n",
       "      <td>NaN</td>\n",
       "      <td>NaN</td>\n",
       "      <td>NaN</td>\n",
       "      <td>f</td>\n",
       "      <td>1</td>\n",
       "      <td>1</td>\n",
       "      <td>0</td>\n",
       "      <td>0</td>\n",
       "      <td>NaN</td>\n",
       "      <td>NaN</td>\n",
       "    </tr>\n",
       "    <tr>\n",
       "      <th>6786</th>\n",
       "      <td>1035703340290478360</td>\n",
       "      <td>https://www.airbnb.com/rooms/1035703340290478360</td>\n",
       "      <td>20231220185704</td>\n",
       "      <td>2023-12-21</td>\n",
       "      <td>city scrape</td>\n",
       "      <td>Rental unit in Seattle · ★New · 3 bedrooms · 3...</td>\n",
       "      <td>NaN</td>\n",
       "      <td>The unit is on a quiet residential neighborhoo...</td>\n",
       "      <td>https://a0.muscache.com/pictures/miso/Hosting-...</td>\n",
       "      <td>565526</td>\n",
       "      <td>...</td>\n",
       "      <td>NaN</td>\n",
       "      <td>NaN</td>\n",
       "      <td>NaN</td>\n",
       "      <td>f</td>\n",
       "      <td>1</td>\n",
       "      <td>1</td>\n",
       "      <td>0</td>\n",
       "      <td>0</td>\n",
       "      <td>NaN</td>\n",
       "      <td>NaN</td>\n",
       "    </tr>\n",
       "    <tr>\n",
       "      <th>6816</th>\n",
       "      <td>1042867741784045446</td>\n",
       "      <td>https://www.airbnb.com/rooms/1042867741784045446</td>\n",
       "      <td>20231220185704</td>\n",
       "      <td>2023-12-21</td>\n",
       "      <td>city scrape</td>\n",
       "      <td>Home in Seattle · ★New · 2 bedrooms · 2 baths</td>\n",
       "      <td>NaN</td>\n",
       "      <td>NaN</td>\n",
       "      <td>https://a0.muscache.com/pictures/hosting/Hosti...</td>\n",
       "      <td>193757240</td>\n",
       "      <td>...</td>\n",
       "      <td>NaN</td>\n",
       "      <td>NaN</td>\n",
       "      <td>NaN</td>\n",
       "      <td>f</td>\n",
       "      <td>1</td>\n",
       "      <td>1</td>\n",
       "      <td>0</td>\n",
       "      <td>0</td>\n",
       "      <td>NaN</td>\n",
       "      <td>NaN</td>\n",
       "    </tr>\n",
       "    <tr>\n",
       "      <th>6874</th>\n",
       "      <td>1048700694440085983</td>\n",
       "      <td>https://www.airbnb.com/rooms/1048700694440085983</td>\n",
       "      <td>20231220185704</td>\n",
       "      <td>2023-12-20</td>\n",
       "      <td>city scrape</td>\n",
       "      <td>Home in Seattle · ★New · 3 bedrooms · 3 beds ·...</td>\n",
       "      <td>NaN</td>\n",
       "      <td>NaN</td>\n",
       "      <td>https://a0.muscache.com/pictures/miso/Hosting-...</td>\n",
       "      <td>406592946</td>\n",
       "      <td>...</td>\n",
       "      <td>NaN</td>\n",
       "      <td>NaN</td>\n",
       "      <td>NaN</td>\n",
       "      <td>f</td>\n",
       "      <td>2</td>\n",
       "      <td>1</td>\n",
       "      <td>1</td>\n",
       "      <td>0</td>\n",
       "      <td>NaN</td>\n",
       "      <td>NaN</td>\n",
       "    </tr>\n",
       "  </tbody>\n",
       "</table>\n",
       "<p>378 rows × 76 columns</p>\n",
       "</div>"
      ],
      "text/plain": [
       "                       id                                       listing_url  \\\n",
       "4                    9596                 https://www.airbnb.com/rooms/9596   \n",
       "9                  116221               https://www.airbnb.com/rooms/116221   \n",
       "63                 681866               https://www.airbnb.com/rooms/681866   \n",
       "72                 752483               https://www.airbnb.com/rooms/752483   \n",
       "74                 789229               https://www.airbnb.com/rooms/789229   \n",
       "...                   ...                                               ...   \n",
       "6566  1012273978357374108  https://www.airbnb.com/rooms/1012273978357374108   \n",
       "6568  1012403644076732882  https://www.airbnb.com/rooms/1012403644076732882   \n",
       "6786  1035703340290478360  https://www.airbnb.com/rooms/1035703340290478360   \n",
       "6816  1042867741784045446  https://www.airbnb.com/rooms/1042867741784045446   \n",
       "6874  1048700694440085983  https://www.airbnb.com/rooms/1048700694440085983   \n",
       "\n",
       "           scrape_id last_scraped           source  \\\n",
       "4     20231220185704   2023-12-21  previous scrape   \n",
       "9     20231220185704   2023-12-21  previous scrape   \n",
       "63    20231220185704   2023-12-21  previous scrape   \n",
       "72    20231220185704   2023-12-21  previous scrape   \n",
       "74    20231220185704   2023-12-21  previous scrape   \n",
       "...              ...          ...              ...   \n",
       "6566  20231220185704   2023-12-20      city scrape   \n",
       "6568  20231220185704   2023-12-21      city scrape   \n",
       "6786  20231220185704   2023-12-21      city scrape   \n",
       "6816  20231220185704   2023-12-21      city scrape   \n",
       "6874  20231220185704   2023-12-20      city scrape   \n",
       "\n",
       "                                                   name  description  \\\n",
       "4     Rental unit in Seattle · ★4.56 · 1 bedroom · 4...          NaN   \n",
       "9     Rental unit in Seattle · ★4.74 · 1 bedroom · 1...          NaN   \n",
       "63    Home in Seattle · ★4.98 · 1 bedroom · 1 bed · ...          NaN   \n",
       "72    Townhouse in Seattle · ★4.84 · 2 bedrooms · 2 ...          NaN   \n",
       "74    Rental unit in Seattle · ★4.75 · 1 bedroom · 1...          NaN   \n",
       "...                                                 ...          ...   \n",
       "6566  Home in Seattle · ★New · 1 bedroom · 1 bed · 1...          NaN   \n",
       "6568  Home in Seattle · ★New · 2 bedrooms · 2 beds ·...          NaN   \n",
       "6786  Rental unit in Seattle · ★New · 3 bedrooms · 3...          NaN   \n",
       "6816      Home in Seattle · ★New · 2 bedrooms · 2 baths          NaN   \n",
       "6874  Home in Seattle · ★New · 3 bedrooms · 3 beds ·...          NaN   \n",
       "\n",
       "                                  neighborhood_overview  \\\n",
       "4     if you arrive early for check in at 3,  I reco...   \n",
       "9     The apartment is conveniently located in the h...   \n",
       "63                                                  NaN   \n",
       "72    Capitol Hill is the most lively neighborhood i...   \n",
       "74                                                  NaN   \n",
       "...                                                 ...   \n",
       "6566  Wedgwood is a quiet residential neighborhood k...   \n",
       "6568  We are in one of the most vibrant and diverse ...   \n",
       "6786  The unit is on a quiet residential neighborhoo...   \n",
       "6816                                                NaN   \n",
       "6874                                                NaN   \n",
       "\n",
       "                                            picture_url    host_id  ...  \\\n",
       "4     https://a0.muscache.com/pictures/665252/102d18...      14942  ...   \n",
       "9     https://a0.muscache.com/pictures/17918750/5304...     587302  ...   \n",
       "63    https://a0.muscache.com/pictures/9949681/74e4c...     103825  ...   \n",
       "72    https://a0.muscache.com/pictures/10411745/888f...     450548  ...   \n",
       "74    https://a0.muscache.com/pictures/39865057/7c00...    1872473  ...   \n",
       "...                                                 ...        ...  ...   \n",
       "6566  https://a0.muscache.com/pictures/miso/Hosting-...   61462577  ...   \n",
       "6568  https://a0.muscache.com/pictures/miso/Hosting-...   82113427  ...   \n",
       "6786  https://a0.muscache.com/pictures/miso/Hosting-...     565526  ...   \n",
       "6816  https://a0.muscache.com/pictures/hosting/Hosti...  193757240  ...   \n",
       "6874  https://a0.muscache.com/pictures/miso/Hosting-...  406592946  ...   \n",
       "\n",
       "     review_scores_location review_scores_value              license  \\\n",
       "4                      4.91                4.56  STR -OPLI-19-002622   \n",
       "9                      4.91                4.52                  NaN   \n",
       "63                     4.63                4.95                  NaN   \n",
       "72                     4.95                4.72   STR-OPLI-19-000434   \n",
       "74                     4.73                4.71                  NaN   \n",
       "...                     ...                 ...                  ...   \n",
       "6566                    NaN                 NaN                  NaN   \n",
       "6568                    NaN                 NaN                  NaN   \n",
       "6786                    NaN                 NaN                  NaN   \n",
       "6816                    NaN                 NaN                  NaN   \n",
       "6874                    NaN                 NaN                  NaN   \n",
       "\n",
       "     instant_bookable calculated_host_listings_count  \\\n",
       "4                   f                              2   \n",
       "9                   f                              1   \n",
       "63                  f                              1   \n",
       "72                  f                              1   \n",
       "74                  f                              1   \n",
       "...               ...                            ...   \n",
       "6566                f                              1   \n",
       "6568                f                              1   \n",
       "6786                f                              1   \n",
       "6816                f                              1   \n",
       "6874                f                              2   \n",
       "\n",
       "     calculated_host_listings_count_entire_homes  \\\n",
       "4                                              2   \n",
       "9                                              1   \n",
       "63                                             0   \n",
       "72                                             1   \n",
       "74                                             1   \n",
       "...                                          ...   \n",
       "6566                                           0   \n",
       "6568                                           1   \n",
       "6786                                           1   \n",
       "6816                                           1   \n",
       "6874                                           1   \n",
       "\n",
       "     calculated_host_listings_count_private_rooms  \\\n",
       "4                                               0   \n",
       "9                                               0   \n",
       "63                                              1   \n",
       "72                                              0   \n",
       "74                                              0   \n",
       "...                                           ...   \n",
       "6566                                            1   \n",
       "6568                                            0   \n",
       "6786                                            0   \n",
       "6816                                            0   \n",
       "6874                                            1   \n",
       "\n",
       "     calculated_host_listings_count_shared_rooms reviews_per_month price_float  \n",
       "4                                              0              0.63         NaN  \n",
       "9                                              0              0.32         NaN  \n",
       "63                                             0              0.31         NaN  \n",
       "72                                             0              1.52         NaN  \n",
       "74                                             0              0.93         NaN  \n",
       "...                                          ...               ...         ...  \n",
       "6566                                           0               NaN         NaN  \n",
       "6568                                           0               NaN         NaN  \n",
       "6786                                           0               NaN         NaN  \n",
       "6816                                           0               NaN         NaN  \n",
       "6874                                           0               NaN         NaN  \n",
       "\n",
       "[378 rows x 76 columns]"
      ]
     },
     "execution_count": 119,
     "metadata": {},
     "output_type": "execute_result"
    }
   ],
   "source": [
    "df[df[\"price_float\"].isnull()]"
   ]
  },
  {
   "cell_type": "markdown",
   "id": "0139c2cf",
   "metadata": {},
   "source": [
    "There's also another source of price data, in the calendar dataframe. Let's see if this listing has price info there. "
   ]
  },
  {
   "cell_type": "code",
   "execution_count": 126,
   "id": "fb779a9e",
   "metadata": {},
   "outputs": [
    {
     "data": {
      "text/html": [
       "<div>\n",
       "<style scoped>\n",
       "    .dataframe tbody tr th:only-of-type {\n",
       "        vertical-align: middle;\n",
       "    }\n",
       "\n",
       "    .dataframe tbody tr th {\n",
       "        vertical-align: top;\n",
       "    }\n",
       "\n",
       "    .dataframe thead th {\n",
       "        text-align: right;\n",
       "    }\n",
       "</style>\n",
       "<table border=\"1\" class=\"dataframe\">\n",
       "  <thead>\n",
       "    <tr style=\"text-align: right;\">\n",
       "      <th></th>\n",
       "      <th>listing_id</th>\n",
       "      <th>date</th>\n",
       "      <th>available</th>\n",
       "      <th>price</th>\n",
       "      <th>adjusted_price</th>\n",
       "      <th>minimum_nights</th>\n",
       "      <th>maximum_nights</th>\n",
       "    </tr>\n",
       "  </thead>\n",
       "  <tbody>\n",
       "    <tr>\n",
       "      <th>2488254</th>\n",
       "      <td>1042867741784045446</td>\n",
       "      <td>2023-12-21</td>\n",
       "      <td>f</td>\n",
       "      <td>$125.00</td>\n",
       "      <td>NaN</td>\n",
       "      <td>30.0</td>\n",
       "      <td>90.0</td>\n",
       "    </tr>\n",
       "    <tr>\n",
       "      <th>2488255</th>\n",
       "      <td>1042867741784045446</td>\n",
       "      <td>2023-12-22</td>\n",
       "      <td>t</td>\n",
       "      <td>$125.00</td>\n",
       "      <td>NaN</td>\n",
       "      <td>30.0</td>\n",
       "      <td>90.0</td>\n",
       "    </tr>\n",
       "    <tr>\n",
       "      <th>2488256</th>\n",
       "      <td>1042867741784045446</td>\n",
       "      <td>2023-12-23</td>\n",
       "      <td>t</td>\n",
       "      <td>$125.00</td>\n",
       "      <td>NaN</td>\n",
       "      <td>30.0</td>\n",
       "      <td>90.0</td>\n",
       "    </tr>\n",
       "    <tr>\n",
       "      <th>2488257</th>\n",
       "      <td>1042867741784045446</td>\n",
       "      <td>2023-12-24</td>\n",
       "      <td>t</td>\n",
       "      <td>$125.00</td>\n",
       "      <td>NaN</td>\n",
       "      <td>30.0</td>\n",
       "      <td>90.0</td>\n",
       "    </tr>\n",
       "    <tr>\n",
       "      <th>2488258</th>\n",
       "      <td>1042867741784045446</td>\n",
       "      <td>2023-12-25</td>\n",
       "      <td>t</td>\n",
       "      <td>$125.00</td>\n",
       "      <td>NaN</td>\n",
       "      <td>30.0</td>\n",
       "      <td>90.0</td>\n",
       "    </tr>\n",
       "    <tr>\n",
       "      <th>...</th>\n",
       "      <td>...</td>\n",
       "      <td>...</td>\n",
       "      <td>...</td>\n",
       "      <td>...</td>\n",
       "      <td>...</td>\n",
       "      <td>...</td>\n",
       "      <td>...</td>\n",
       "    </tr>\n",
       "    <tr>\n",
       "      <th>2488614</th>\n",
       "      <td>1042867741784045446</td>\n",
       "      <td>2024-12-15</td>\n",
       "      <td>f</td>\n",
       "      <td>$125.00</td>\n",
       "      <td>NaN</td>\n",
       "      <td>30.0</td>\n",
       "      <td>90.0</td>\n",
       "    </tr>\n",
       "    <tr>\n",
       "      <th>2488615</th>\n",
       "      <td>1042867741784045446</td>\n",
       "      <td>2024-12-16</td>\n",
       "      <td>f</td>\n",
       "      <td>$125.00</td>\n",
       "      <td>NaN</td>\n",
       "      <td>30.0</td>\n",
       "      <td>90.0</td>\n",
       "    </tr>\n",
       "    <tr>\n",
       "      <th>2488616</th>\n",
       "      <td>1042867741784045446</td>\n",
       "      <td>2024-12-17</td>\n",
       "      <td>f</td>\n",
       "      <td>$125.00</td>\n",
       "      <td>NaN</td>\n",
       "      <td>30.0</td>\n",
       "      <td>90.0</td>\n",
       "    </tr>\n",
       "    <tr>\n",
       "      <th>2488617</th>\n",
       "      <td>1042867741784045446</td>\n",
       "      <td>2024-12-18</td>\n",
       "      <td>f</td>\n",
       "      <td>$125.00</td>\n",
       "      <td>NaN</td>\n",
       "      <td>30.0</td>\n",
       "      <td>90.0</td>\n",
       "    </tr>\n",
       "    <tr>\n",
       "      <th>2488618</th>\n",
       "      <td>1042867741784045446</td>\n",
       "      <td>2024-12-19</td>\n",
       "      <td>f</td>\n",
       "      <td>$125.00</td>\n",
       "      <td>NaN</td>\n",
       "      <td>30.0</td>\n",
       "      <td>90.0</td>\n",
       "    </tr>\n",
       "  </tbody>\n",
       "</table>\n",
       "<p>365 rows × 7 columns</p>\n",
       "</div>"
      ],
      "text/plain": [
       "                  listing_id        date available    price  adjusted_price  \\\n",
       "2488254  1042867741784045446  2023-12-21         f  $125.00             NaN   \n",
       "2488255  1042867741784045446  2023-12-22         t  $125.00             NaN   \n",
       "2488256  1042867741784045446  2023-12-23         t  $125.00             NaN   \n",
       "2488257  1042867741784045446  2023-12-24         t  $125.00             NaN   \n",
       "2488258  1042867741784045446  2023-12-25         t  $125.00             NaN   \n",
       "...                      ...         ...       ...      ...             ...   \n",
       "2488614  1042867741784045446  2024-12-15         f  $125.00             NaN   \n",
       "2488615  1042867741784045446  2024-12-16         f  $125.00             NaN   \n",
       "2488616  1042867741784045446  2024-12-17         f  $125.00             NaN   \n",
       "2488617  1042867741784045446  2024-12-18         f  $125.00             NaN   \n",
       "2488618  1042867741784045446  2024-12-19         f  $125.00             NaN   \n",
       "\n",
       "         minimum_nights  maximum_nights  \n",
       "2488254            30.0            90.0  \n",
       "2488255            30.0            90.0  \n",
       "2488256            30.0            90.0  \n",
       "2488257            30.0            90.0  \n",
       "2488258            30.0            90.0  \n",
       "...                 ...             ...  \n",
       "2488614            30.0            90.0  \n",
       "2488615            30.0            90.0  \n",
       "2488616            30.0            90.0  \n",
       "2488617            30.0            90.0  \n",
       "2488618            30.0            90.0  \n",
       "\n",
       "[365 rows x 7 columns]"
      ]
     },
     "execution_count": 126,
     "metadata": {},
     "output_type": "execute_result"
    }
   ],
   "source": [
    "cal_df[cal_df[\"listing_id\"] == 1042867741784045446]"
   ]
  },
  {
   "cell_type": "markdown",
   "id": "03ad9c53",
   "metadata": {},
   "source": [
    "Aha! The calendar dataframe may have the info we need for price. "
   ]
  },
  {
   "cell_type": "code",
   "execution_count": 134,
   "id": "50ecfedf",
   "metadata": {},
   "outputs": [
    {
     "data": {
      "text/plain": [
       "$150.00      70458\n",
       "$100.00      67868\n",
       "$125.00      60241\n",
       "$250.00      54758\n",
       "$200.00      47457\n",
       "             ...  \n",
       "$36.00         365\n",
       "$316.00        365\n",
       "$795.00        365\n",
       "$1,051.00      365\n",
       "$616.00        365\n",
       "Name: price, Length: 526, dtype: int64"
      ]
     },
     "execution_count": 134,
     "metadata": {},
     "output_type": "execute_result"
    }
   ],
   "source": [
    "cal_df['price'].value_counts(dropna=False)"
   ]
  },
  {
   "cell_type": "code",
   "execution_count": 135,
   "id": "7a96a3fe",
   "metadata": {
    "scrolled": false
   },
   "outputs": [
    {
     "data": {
      "text/plain": [
       "0"
      ]
     },
     "execution_count": 135,
     "metadata": {},
     "output_type": "execute_result"
    }
   ],
   "source": [
    "cal_df['price'].isnull().sum()"
   ]
  },
  {
   "cell_type": "markdown",
   "id": "13eb4bab",
   "metadata": {},
   "source": [
    "Perfect. There are no properties with missing prices. Let's turn them into numbers and figure out how to combine them with the listing dataframe. "
   ]
  },
  {
   "cell_type": "code",
   "execution_count": 144,
   "id": "bd04a43c",
   "metadata": {},
   "outputs": [],
   "source": [
    "cal_df['price_float'] = cal_df['price'].str.split(\"$\").str[1]\n",
    "cal_df['price_float'] = cal_df['price_float'].str.replace(\",\",\"\")\n",
    "cal_df['price_float'] = cal_df['price_float'].astype('float64')"
   ]
  },
  {
   "cell_type": "markdown",
   "id": "0ce22b79",
   "metadata": {},
   "source": [
    "Great. There's a line in the calendar dataframe for every night in the next year; we don't need to bring each of those lines into this new database. We can create a new dataframe that groups each listing by the mean that will have the same number of rows as our listing dataframe. "
   ]
  },
  {
   "cell_type": "code",
   "execution_count": 145,
   "id": "11495bbd",
   "metadata": {},
   "outputs": [],
   "source": [
    "df3 = cal_df.groupby('listing_id').mean().reset_index()"
   ]
  },
  {
   "cell_type": "code",
   "execution_count": 146,
   "id": "7550d70b",
   "metadata": {
    "scrolled": true
   },
   "outputs": [
    {
     "name": "stdout",
     "output_type": "stream",
     "text": [
      "<class 'pandas.core.frame.DataFrame'>\n",
      "RangeIndex: 6882 entries, 0 to 6881\n",
      "Data columns (total 5 columns):\n",
      " #   Column          Non-Null Count  Dtype  \n",
      "---  ------          --------------  -----  \n",
      " 0   listing_id      6882 non-null   int64  \n",
      " 1   adjusted_price  0 non-null      float64\n",
      " 2   minimum_nights  6882 non-null   float64\n",
      " 3   maximum_nights  6882 non-null   float64\n",
      " 4   price_float     6882 non-null   float64\n",
      "dtypes: float64(4), int64(1)\n",
      "memory usage: 269.0 KB\n"
     ]
    }
   ],
   "source": [
    "df3.info()"
   ]
  },
  {
   "cell_type": "markdown",
   "id": "768ec667",
   "metadata": {},
   "source": [
    "Perfect. Now we can merge this mean price dataframe into the listing data frame. "
   ]
  },
  {
   "cell_type": "code",
   "execution_count": null,
   "id": "c6604007",
   "metadata": {},
   "outputs": [],
   "source": [
    "merged_df = list_df.merge(df3, left_on='id', right_on='listing_id')"
   ]
  },
  {
   "cell_type": "code",
   "execution_count": 151,
   "id": "4e4c4002",
   "metadata": {},
   "outputs": [
    {
     "name": "stdout",
     "output_type": "stream",
     "text": [
      "<class 'pandas.core.frame.DataFrame'>\n",
      "Int64Index: 6882 entries, 0 to 6881\n",
      "Data columns (total 83 columns):\n",
      " #   Column                                        Non-Null Count  Dtype  \n",
      "---  ------                                        --------------  -----  \n",
      " 0   id                                            6882 non-null   int64  \n",
      " 1   listing_url                                   6882 non-null   object \n",
      " 2   scrape_id                                     6882 non-null   int64  \n",
      " 3   last_scraped                                  6882 non-null   object \n",
      " 4   source                                        6882 non-null   object \n",
      " 5   name                                          6882 non-null   object \n",
      " 6   description                                   0 non-null      float64\n",
      " 7   neighborhood_overview                         5013 non-null   object \n",
      " 8   picture_url                                   6882 non-null   object \n",
      " 9   host_id                                       6882 non-null   int64  \n",
      " 10  host_url                                      6882 non-null   object \n",
      " 11  host_name                                     6882 non-null   object \n",
      " 12  host_since                                    6882 non-null   object \n",
      " 13  host_location                                 5816 non-null   object \n",
      " 14  host_about                                    4747 non-null   object \n",
      " 15  host_response_time                            5940 non-null   object \n",
      " 16  host_response_rate                            5940 non-null   object \n",
      " 17  host_acceptance_rate                          6297 non-null   object \n",
      " 18  host_is_superhost                             6864 non-null   object \n",
      " 19  host_thumbnail_url                            6882 non-null   object \n",
      " 20  host_picture_url                              6882 non-null   object \n",
      " 21  host_neighbourhood                            6552 non-null   object \n",
      " 22  host_listings_count                           6882 non-null   int64  \n",
      " 23  host_total_listings_count                     6882 non-null   int64  \n",
      " 24  host_verifications                            6882 non-null   object \n",
      " 25  host_has_profile_pic                          6882 non-null   object \n",
      " 26  host_identity_verified                        6882 non-null   object \n",
      " 27  neighbourhood                                 5013 non-null   object \n",
      " 28  neighbourhood_cleansed                        6882 non-null   object \n",
      " 29  neighbourhood_group_cleansed                  6882 non-null   object \n",
      " 30  latitude                                      6882 non-null   float64\n",
      " 31  longitude                                     6882 non-null   float64\n",
      " 32  property_type                                 6882 non-null   object \n",
      " 33  room_type                                     6882 non-null   object \n",
      " 34  accommodates                                  6882 non-null   int64  \n",
      " 35  bathrooms                                     0 non-null      float64\n",
      " 36  bathrooms_text                                6882 non-null   object \n",
      " 37  bedrooms                                      0 non-null      float64\n",
      " 38  beds                                          6826 non-null   float64\n",
      " 39  amenities                                     6882 non-null   object \n",
      " 40  price                                         6504 non-null   object \n",
      " 41  minimum_nights_x                              6882 non-null   int64  \n",
      " 42  maximum_nights_x                              6882 non-null   int64  \n",
      " 43  minimum_minimum_nights                        6882 non-null   int64  \n",
      " 44  maximum_minimum_nights                        6882 non-null   int64  \n",
      " 45  minimum_maximum_nights                        6882 non-null   int64  \n",
      " 46  maximum_maximum_nights                        6882 non-null   int64  \n",
      " 47  minimum_nights_avg_ntm                        6882 non-null   float64\n",
      " 48  maximum_nights_avg_ntm                        6882 non-null   float64\n",
      " 49  calendar_updated                              0 non-null      float64\n",
      " 50  has_availability                              6504 non-null   object \n",
      " 51  availability_30                               6882 non-null   int64  \n",
      " 52  availability_60                               6882 non-null   int64  \n",
      " 53  availability_90                               6882 non-null   int64  \n",
      " 54  availability_365                              6882 non-null   int64  \n",
      " 55  calendar_last_scraped                         6882 non-null   object \n",
      " 56  number_of_reviews                             6882 non-null   int64  \n",
      " 57  number_of_reviews_ltm                         6882 non-null   int64  \n",
      " 58  number_of_reviews_l30d                        6882 non-null   int64  \n",
      " 59  first_review                                  5809 non-null   object \n",
      " 60  last_review                                   5809 non-null   object \n",
      " 61  review_scores_rating                          5812 non-null   float64\n",
      " 62  review_scores_accuracy                        5812 non-null   float64\n",
      " 63  review_scores_cleanliness                     5812 non-null   float64\n",
      " 64  review_scores_checkin                         5812 non-null   float64\n",
      " 65  review_scores_communication                   5812 non-null   float64\n",
      " 66  review_scores_location                        5812 non-null   float64\n",
      " 67  review_scores_value                           5811 non-null   float64\n",
      " 68  license                                       5462 non-null   object \n",
      " 69  instant_bookable                              6882 non-null   object \n",
      " 70  calculated_host_listings_count                6882 non-null   int64  \n",
      " 71  calculated_host_listings_count_entire_homes   6882 non-null   int64  \n",
      " 72  calculated_host_listings_count_private_rooms  6882 non-null   int64  \n",
      " 73  calculated_host_listings_count_shared_rooms   6882 non-null   int64  \n",
      " 74  reviews_per_month                             5809 non-null   float64\n",
      " 75  price_float_x                                 6504 non-null   float64\n",
      " 76  no_of_bathrooms                               6882 non-null   float64\n",
      " 77  shared                                        6882 non-null   int32  \n",
      " 78  listing_id                                    6882 non-null   int64  \n",
      " 79  adjusted_price                                0 non-null      float64\n",
      " 80  minimum_nights_y                              6882 non-null   float64\n",
      " 81  maximum_nights_y                              6882 non-null   float64\n",
      " 82  price_float_y                                 6882 non-null   float64\n",
      "dtypes: float64(23), int32(1), int64(24), object(35)\n",
      "memory usage: 4.4+ MB\n"
     ]
    }
   ],
   "source": [
    "merged_df.info()"
   ]
  },
  {
   "cell_type": "code",
   "execution_count": 153,
   "id": "cd0bd0ec",
   "metadata": {},
   "outputs": [
    {
     "data": {
      "text/plain": [
       "150.0    193\n",
       "100.0    186\n",
       "125.0    165\n",
       "250.0    150\n",
       "200.0    130\n",
       "        ... \n",
       "331.0      1\n",
       "364.0      1\n",
       "530.0      1\n",
       "316.0      1\n",
       "616.0      1\n",
       "Name: price_float_y, Length: 527, dtype: int64"
      ]
     },
     "execution_count": 153,
     "metadata": {},
     "output_type": "execute_result"
    }
   ],
   "source": [
    "merged_df['price_float_y'].value_counts(dropna=False)"
   ]
  },
  {
   "cell_type": "code",
   "execution_count": 154,
   "id": "cdb198a2",
   "metadata": {},
   "outputs": [
    {
     "data": {
      "text/plain": [
       "0"
      ]
     },
     "execution_count": 154,
     "metadata": {},
     "output_type": "execute_result"
    }
   ],
   "source": [
    "merged_df['price_float_y'].isnull().sum()"
   ]
  },
  {
   "cell_type": "markdown",
   "id": "0d26e385",
   "metadata": {},
   "source": [
    "Excellent. Every listing has a price pulled from the listing dataframe. \n",
    "\n",
    "Now that we've been able to impute the missing price information, let's look at properties that have no reivews. "
   ]
  }
 ],
 "metadata": {
  "kernelspec": {
   "display_name": "Python 3 (ipykernel)",
   "language": "python",
   "name": "python3"
  },
  "language_info": {
   "codemirror_mode": {
    "name": "ipython",
    "version": 3
   },
   "file_extension": ".py",
   "mimetype": "text/x-python",
   "name": "python",
   "nbconvert_exporter": "python",
   "pygments_lexer": "ipython3",
   "version": "3.9.12"
  }
 },
 "nbformat": 4,
 "nbformat_minor": 5
}
