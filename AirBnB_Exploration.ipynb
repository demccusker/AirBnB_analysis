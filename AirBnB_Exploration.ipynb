{
 "cells": [
  {
   "cell_type": "markdown",
   "id": "bb6890b8",
   "metadata": {},
   "source": [
    "This is an exploration of the data from AirBNB on Seattle's 2023 bookings. I will be looking at a few questions and seeing if I can answer them from the provided data\n",
    "> 1. What neighborhoods have the highest average prices?\n",
    "> 2. What neighborhoods have the highest average reviews?\n",
    "> 3. What predicts price? \n",
    "> 4. What predicts avaiability?\n",
    "> 3. What predicts number of reviews?"
   ]
  },
  {
   "cell_type": "code",
   "execution_count": 1,
   "id": "5cdc8d3a",
   "metadata": {},
   "outputs": [],
   "source": [
    "import numpy as np\n",
    "import pandas as pd\n",
    "import matplotlib.pyplot as plt\n",
    "from sklearn.linear_model import LinearRegression\n",
    "from sklearn.model_selection import train_test_split\n",
    "from sklearn.metrics import r2_score, mean_squared_error\n",
    "import seaborn as sns\n",
    "import datetime as dt\n",
    "%matplotlib inline\n",
    "\n",
    "list_df = pd.read_csv('listings.csv.gz', compression='gzip')\n",
    "review_df = pd.read_csv('reviews.csv.gz', compression='gzip')\n",
    "cal_df = pd.read_csv('calendar.csv.gz', compression='gzip')"
   ]
  },
  {
   "cell_type": "markdown",
   "id": "d38f0ecb",
   "metadata": {},
   "source": [
    "### Exploration \n",
    "\n",
    "Let's take a look at the first few rows and some info about each dataframe. "
   ]
  },
  {
   "cell_type": "code",
   "execution_count": 2,
   "id": "276d9483",
   "metadata": {},
   "outputs": [
    {
     "data": {
      "text/html": [
       "<div>\n",
       "<style scoped>\n",
       "    .dataframe tbody tr th:only-of-type {\n",
       "        vertical-align: middle;\n",
       "    }\n",
       "\n",
       "    .dataframe tbody tr th {\n",
       "        vertical-align: top;\n",
       "    }\n",
       "\n",
       "    .dataframe thead th {\n",
       "        text-align: right;\n",
       "    }\n",
       "</style>\n",
       "<table border=\"1\" class=\"dataframe\">\n",
       "  <thead>\n",
       "    <tr style=\"text-align: right;\">\n",
       "      <th></th>\n",
       "      <th>id</th>\n",
       "      <th>listing_url</th>\n",
       "      <th>scrape_id</th>\n",
       "      <th>last_scraped</th>\n",
       "      <th>source</th>\n",
       "      <th>name</th>\n",
       "      <th>description</th>\n",
       "      <th>neighborhood_overview</th>\n",
       "      <th>picture_url</th>\n",
       "      <th>host_id</th>\n",
       "      <th>...</th>\n",
       "      <th>review_scores_communication</th>\n",
       "      <th>review_scores_location</th>\n",
       "      <th>review_scores_value</th>\n",
       "      <th>license</th>\n",
       "      <th>instant_bookable</th>\n",
       "      <th>calculated_host_listings_count</th>\n",
       "      <th>calculated_host_listings_count_entire_homes</th>\n",
       "      <th>calculated_host_listings_count_private_rooms</th>\n",
       "      <th>calculated_host_listings_count_shared_rooms</th>\n",
       "      <th>reviews_per_month</th>\n",
       "    </tr>\n",
       "  </thead>\n",
       "  <tbody>\n",
       "    <tr>\n",
       "      <th>0</th>\n",
       "      <td>6606</td>\n",
       "      <td>https://www.airbnb.com/rooms/6606</td>\n",
       "      <td>20231220185704</td>\n",
       "      <td>2023-12-21</td>\n",
       "      <td>city scrape</td>\n",
       "      <td>Guesthouse in Seattle · ★4.60 · 1 bedroom · 1 ...</td>\n",
       "      <td>NaN</td>\n",
       "      <td>A peaceful yet highly accessible neighborhood,...</td>\n",
       "      <td>https://a0.muscache.com/pictures/45742/21116d7...</td>\n",
       "      <td>14942</td>\n",
       "      <td>...</td>\n",
       "      <td>4.76</td>\n",
       "      <td>4.88</td>\n",
       "      <td>4.57</td>\n",
       "      <td>str-opli-19-002622</td>\n",
       "      <td>f</td>\n",
       "      <td>2</td>\n",
       "      <td>2</td>\n",
       "      <td>0</td>\n",
       "      <td>0</td>\n",
       "      <td>0.91</td>\n",
       "    </tr>\n",
       "    <tr>\n",
       "      <th>1</th>\n",
       "      <td>9419</td>\n",
       "      <td>https://www.airbnb.com/rooms/9419</td>\n",
       "      <td>20231220185704</td>\n",
       "      <td>2023-12-20</td>\n",
       "      <td>city scrape</td>\n",
       "      <td>Rental unit in Seattle · ★4.72 · 1 bedroom · 1...</td>\n",
       "      <td>NaN</td>\n",
       "      <td>Lots of restaurants (see our guide book) bars,...</td>\n",
       "      <td>https://a0.muscache.com/pictures/56645186/e5fb...</td>\n",
       "      <td>30559</td>\n",
       "      <td>...</td>\n",
       "      <td>4.90</td>\n",
       "      <td>4.67</td>\n",
       "      <td>4.66</td>\n",
       "      <td>STR-OPLI-19-003039</td>\n",
       "      <td>f</td>\n",
       "      <td>9</td>\n",
       "      <td>0</td>\n",
       "      <td>9</td>\n",
       "      <td>0</td>\n",
       "      <td>1.19</td>\n",
       "    </tr>\n",
       "    <tr>\n",
       "      <th>2</th>\n",
       "      <td>9531</td>\n",
       "      <td>https://www.airbnb.com/rooms/9531</td>\n",
       "      <td>20231220185704</td>\n",
       "      <td>2023-12-20</td>\n",
       "      <td>city scrape</td>\n",
       "      <td>Home in Seattle · ★4.97 · 2 bedrooms · 3 beds ...</td>\n",
       "      <td>NaN</td>\n",
       "      <td>The neighborhood is awesome!  Just far enough ...</td>\n",
       "      <td>https://a0.muscache.com/pictures/30470355/052c...</td>\n",
       "      <td>31481</td>\n",
       "      <td>...</td>\n",
       "      <td>4.95</td>\n",
       "      <td>4.98</td>\n",
       "      <td>4.91</td>\n",
       "      <td>STR-OPLI-19-002182</td>\n",
       "      <td>f</td>\n",
       "      <td>2</td>\n",
       "      <td>2</td>\n",
       "      <td>0</td>\n",
       "      <td>0</td>\n",
       "      <td>0.59</td>\n",
       "    </tr>\n",
       "    <tr>\n",
       "      <th>3</th>\n",
       "      <td>9534</td>\n",
       "      <td>https://www.airbnb.com/rooms/9534</td>\n",
       "      <td>20231220185704</td>\n",
       "      <td>2023-12-20</td>\n",
       "      <td>city scrape</td>\n",
       "      <td>Guest suite in Seattle · ★4.99 · 2 bedrooms · ...</td>\n",
       "      <td>NaN</td>\n",
       "      <td>The neighborhood is the best of two worlds...w...</td>\n",
       "      <td>https://a0.muscache.com/pictures/30476721/0751...</td>\n",
       "      <td>31481</td>\n",
       "      <td>...</td>\n",
       "      <td>4.99</td>\n",
       "      <td>4.96</td>\n",
       "      <td>4.95</td>\n",
       "      <td>STR-OPLI-19-002182</td>\n",
       "      <td>f</td>\n",
       "      <td>2</td>\n",
       "      <td>2</td>\n",
       "      <td>0</td>\n",
       "      <td>0</td>\n",
       "      <td>0.52</td>\n",
       "    </tr>\n",
       "    <tr>\n",
       "      <th>4</th>\n",
       "      <td>9596</td>\n",
       "      <td>https://www.airbnb.com/rooms/9596</td>\n",
       "      <td>20231220185704</td>\n",
       "      <td>2023-12-21</td>\n",
       "      <td>previous scrape</td>\n",
       "      <td>Rental unit in Seattle · ★4.56 · 1 bedroom · 4...</td>\n",
       "      <td>NaN</td>\n",
       "      <td>if you arrive early for check in at 3,  I reco...</td>\n",
       "      <td>https://a0.muscache.com/pictures/665252/102d18...</td>\n",
       "      <td>14942</td>\n",
       "      <td>...</td>\n",
       "      <td>4.66</td>\n",
       "      <td>4.91</td>\n",
       "      <td>4.56</td>\n",
       "      <td>STR -OPLI-19-002622</td>\n",
       "      <td>f</td>\n",
       "      <td>2</td>\n",
       "      <td>2</td>\n",
       "      <td>0</td>\n",
       "      <td>0</td>\n",
       "      <td>0.63</td>\n",
       "    </tr>\n",
       "  </tbody>\n",
       "</table>\n",
       "<p>5 rows × 75 columns</p>\n",
       "</div>"
      ],
      "text/plain": [
       "     id                        listing_url       scrape_id last_scraped  \\\n",
       "0  6606  https://www.airbnb.com/rooms/6606  20231220185704   2023-12-21   \n",
       "1  9419  https://www.airbnb.com/rooms/9419  20231220185704   2023-12-20   \n",
       "2  9531  https://www.airbnb.com/rooms/9531  20231220185704   2023-12-20   \n",
       "3  9534  https://www.airbnb.com/rooms/9534  20231220185704   2023-12-20   \n",
       "4  9596  https://www.airbnb.com/rooms/9596  20231220185704   2023-12-21   \n",
       "\n",
       "            source                                               name  \\\n",
       "0      city scrape  Guesthouse in Seattle · ★4.60 · 1 bedroom · 1 ...   \n",
       "1      city scrape  Rental unit in Seattle · ★4.72 · 1 bedroom · 1...   \n",
       "2      city scrape  Home in Seattle · ★4.97 · 2 bedrooms · 3 beds ...   \n",
       "3      city scrape  Guest suite in Seattle · ★4.99 · 2 bedrooms · ...   \n",
       "4  previous scrape  Rental unit in Seattle · ★4.56 · 1 bedroom · 4...   \n",
       "\n",
       "   description                              neighborhood_overview  \\\n",
       "0          NaN  A peaceful yet highly accessible neighborhood,...   \n",
       "1          NaN  Lots of restaurants (see our guide book) bars,...   \n",
       "2          NaN  The neighborhood is awesome!  Just far enough ...   \n",
       "3          NaN  The neighborhood is the best of two worlds...w...   \n",
       "4          NaN  if you arrive early for check in at 3,  I reco...   \n",
       "\n",
       "                                         picture_url  host_id  ...  \\\n",
       "0  https://a0.muscache.com/pictures/45742/21116d7...    14942  ...   \n",
       "1  https://a0.muscache.com/pictures/56645186/e5fb...    30559  ...   \n",
       "2  https://a0.muscache.com/pictures/30470355/052c...    31481  ...   \n",
       "3  https://a0.muscache.com/pictures/30476721/0751...    31481  ...   \n",
       "4  https://a0.muscache.com/pictures/665252/102d18...    14942  ...   \n",
       "\n",
       "  review_scores_communication review_scores_location review_scores_value  \\\n",
       "0                        4.76                   4.88                4.57   \n",
       "1                        4.90                   4.67                4.66   \n",
       "2                        4.95                   4.98                4.91   \n",
       "3                        4.99                   4.96                4.95   \n",
       "4                        4.66                   4.91                4.56   \n",
       "\n",
       "               license instant_bookable calculated_host_listings_count  \\\n",
       "0   str-opli-19-002622                f                              2   \n",
       "1   STR-OPLI-19-003039                f                              9   \n",
       "2   STR-OPLI-19-002182                f                              2   \n",
       "3   STR-OPLI-19-002182                f                              2   \n",
       "4  STR -OPLI-19-002622                f                              2   \n",
       "\n",
       "  calculated_host_listings_count_entire_homes  \\\n",
       "0                                           2   \n",
       "1                                           0   \n",
       "2                                           2   \n",
       "3                                           2   \n",
       "4                                           2   \n",
       "\n",
       "  calculated_host_listings_count_private_rooms  \\\n",
       "0                                            0   \n",
       "1                                            9   \n",
       "2                                            0   \n",
       "3                                            0   \n",
       "4                                            0   \n",
       "\n",
       "  calculated_host_listings_count_shared_rooms reviews_per_month  \n",
       "0                                           0              0.91  \n",
       "1                                           0              1.19  \n",
       "2                                           0              0.59  \n",
       "3                                           0              0.52  \n",
       "4                                           0              0.63  \n",
       "\n",
       "[5 rows x 75 columns]"
      ]
     },
     "execution_count": 2,
     "metadata": {},
     "output_type": "execute_result"
    }
   ],
   "source": [
    "list_df.head()"
   ]
  },
  {
   "cell_type": "code",
   "execution_count": 3,
   "id": "86d394f8",
   "metadata": {},
   "outputs": [
    {
     "data": {
      "text/html": [
       "<div>\n",
       "<style scoped>\n",
       "    .dataframe tbody tr th:only-of-type {\n",
       "        vertical-align: middle;\n",
       "    }\n",
       "\n",
       "    .dataframe tbody tr th {\n",
       "        vertical-align: top;\n",
       "    }\n",
       "\n",
       "    .dataframe thead th {\n",
       "        text-align: right;\n",
       "    }\n",
       "</style>\n",
       "<table border=\"1\" class=\"dataframe\">\n",
       "  <thead>\n",
       "    <tr style=\"text-align: right;\">\n",
       "      <th></th>\n",
       "      <th>listing_id</th>\n",
       "      <th>id</th>\n",
       "      <th>date</th>\n",
       "      <th>reviewer_id</th>\n",
       "      <th>reviewer_name</th>\n",
       "      <th>comments</th>\n",
       "    </tr>\n",
       "  </thead>\n",
       "  <tbody>\n",
       "    <tr>\n",
       "      <th>0</th>\n",
       "      <td>6606</td>\n",
       "      <td>5664</td>\n",
       "      <td>2009-07-17</td>\n",
       "      <td>18085</td>\n",
       "      <td>Vivian</td>\n",
       "      <td>The Urban Cottage is comfortable, beautiful, f...</td>\n",
       "    </tr>\n",
       "    <tr>\n",
       "      <th>1</th>\n",
       "      <td>6606</td>\n",
       "      <td>338761</td>\n",
       "      <td>2011-06-27</td>\n",
       "      <td>434031</td>\n",
       "      <td>Elliott</td>\n",
       "      <td>Joyce was a wonderful host and the urban cotta...</td>\n",
       "    </tr>\n",
       "    <tr>\n",
       "      <th>2</th>\n",
       "      <td>6606</td>\n",
       "      <td>467904</td>\n",
       "      <td>2011-08-22</td>\n",
       "      <td>976182</td>\n",
       "      <td>Allegra</td>\n",
       "      <td>Beautiful cottage and warm hospitality from Jo...</td>\n",
       "    </tr>\n",
       "    <tr>\n",
       "      <th>3</th>\n",
       "      <td>6606</td>\n",
       "      <td>480017</td>\n",
       "      <td>2011-08-27</td>\n",
       "      <td>997921</td>\n",
       "      <td>Brittney</td>\n",
       "      <td>Joyce is a wonderful host! She is warm, helpfu...</td>\n",
       "    </tr>\n",
       "    <tr>\n",
       "      <th>4</th>\n",
       "      <td>6606</td>\n",
       "      <td>487278</td>\n",
       "      <td>2011-08-30</td>\n",
       "      <td>206901</td>\n",
       "      <td>Pascal</td>\n",
       "      <td>Joyce's cottage is the perfect Seattle locatio...</td>\n",
       "    </tr>\n",
       "  </tbody>\n",
       "</table>\n",
       "</div>"
      ],
      "text/plain": [
       "   listing_id      id        date  reviewer_id reviewer_name  \\\n",
       "0        6606    5664  2009-07-17        18085        Vivian   \n",
       "1        6606  338761  2011-06-27       434031       Elliott   \n",
       "2        6606  467904  2011-08-22       976182       Allegra   \n",
       "3        6606  480017  2011-08-27       997921      Brittney   \n",
       "4        6606  487278  2011-08-30       206901        Pascal   \n",
       "\n",
       "                                            comments  \n",
       "0  The Urban Cottage is comfortable, beautiful, f...  \n",
       "1  Joyce was a wonderful host and the urban cotta...  \n",
       "2  Beautiful cottage and warm hospitality from Jo...  \n",
       "3  Joyce is a wonderful host! She is warm, helpfu...  \n",
       "4  Joyce's cottage is the perfect Seattle locatio...  "
      ]
     },
     "execution_count": 3,
     "metadata": {},
     "output_type": "execute_result"
    }
   ],
   "source": [
    "review_df.head()"
   ]
  },
  {
   "cell_type": "code",
   "execution_count": 4,
   "id": "2a79117f",
   "metadata": {},
   "outputs": [
    {
     "data": {
      "text/html": [
       "<div>\n",
       "<style scoped>\n",
       "    .dataframe tbody tr th:only-of-type {\n",
       "        vertical-align: middle;\n",
       "    }\n",
       "\n",
       "    .dataframe tbody tr th {\n",
       "        vertical-align: top;\n",
       "    }\n",
       "\n",
       "    .dataframe thead th {\n",
       "        text-align: right;\n",
       "    }\n",
       "</style>\n",
       "<table border=\"1\" class=\"dataframe\">\n",
       "  <thead>\n",
       "    <tr style=\"text-align: right;\">\n",
       "      <th></th>\n",
       "      <th>listing_id</th>\n",
       "      <th>date</th>\n",
       "      <th>available</th>\n",
       "      <th>price</th>\n",
       "      <th>adjusted_price</th>\n",
       "      <th>minimum_nights</th>\n",
       "      <th>maximum_nights</th>\n",
       "    </tr>\n",
       "  </thead>\n",
       "  <tbody>\n",
       "    <tr>\n",
       "      <th>0</th>\n",
       "      <td>6606</td>\n",
       "      <td>2023-12-21</td>\n",
       "      <td>f</td>\n",
       "      <td>$90.00</td>\n",
       "      <td>NaN</td>\n",
       "      <td>30.0</td>\n",
       "      <td>1125.0</td>\n",
       "    </tr>\n",
       "    <tr>\n",
       "      <th>1</th>\n",
       "      <td>6606</td>\n",
       "      <td>2023-12-22</td>\n",
       "      <td>f</td>\n",
       "      <td>$90.00</td>\n",
       "      <td>NaN</td>\n",
       "      <td>30.0</td>\n",
       "      <td>1125.0</td>\n",
       "    </tr>\n",
       "    <tr>\n",
       "      <th>2</th>\n",
       "      <td>6606</td>\n",
       "      <td>2023-12-23</td>\n",
       "      <td>t</td>\n",
       "      <td>$90.00</td>\n",
       "      <td>NaN</td>\n",
       "      <td>30.0</td>\n",
       "      <td>1125.0</td>\n",
       "    </tr>\n",
       "    <tr>\n",
       "      <th>3</th>\n",
       "      <td>6606</td>\n",
       "      <td>2023-12-24</td>\n",
       "      <td>t</td>\n",
       "      <td>$90.00</td>\n",
       "      <td>NaN</td>\n",
       "      <td>30.0</td>\n",
       "      <td>1125.0</td>\n",
       "    </tr>\n",
       "    <tr>\n",
       "      <th>4</th>\n",
       "      <td>6606</td>\n",
       "      <td>2023-12-25</td>\n",
       "      <td>t</td>\n",
       "      <td>$90.00</td>\n",
       "      <td>NaN</td>\n",
       "      <td>30.0</td>\n",
       "      <td>1125.0</td>\n",
       "    </tr>\n",
       "  </tbody>\n",
       "</table>\n",
       "</div>"
      ],
      "text/plain": [
       "   listing_id        date available   price  adjusted_price  minimum_nights  \\\n",
       "0        6606  2023-12-21         f  $90.00             NaN            30.0   \n",
       "1        6606  2023-12-22         f  $90.00             NaN            30.0   \n",
       "2        6606  2023-12-23         t  $90.00             NaN            30.0   \n",
       "3        6606  2023-12-24         t  $90.00             NaN            30.0   \n",
       "4        6606  2023-12-25         t  $90.00             NaN            30.0   \n",
       "\n",
       "   maximum_nights  \n",
       "0          1125.0  \n",
       "1          1125.0  \n",
       "2          1125.0  \n",
       "3          1125.0  \n",
       "4          1125.0  "
      ]
     },
     "execution_count": 4,
     "metadata": {},
     "output_type": "execute_result"
    }
   ],
   "source": [
    "cal_df.head()"
   ]
  },
  {
   "cell_type": "code",
   "execution_count": 5,
   "id": "963cc8b6",
   "metadata": {},
   "outputs": [
    {
     "name": "stdout",
     "output_type": "stream",
     "text": [
      "<class 'pandas.core.frame.DataFrame'>\n",
      "RangeIndex: 6882 entries, 0 to 6881\n",
      "Data columns (total 75 columns):\n",
      " #   Column                                        Non-Null Count  Dtype  \n",
      "---  ------                                        --------------  -----  \n",
      " 0   id                                            6882 non-null   int64  \n",
      " 1   listing_url                                   6882 non-null   object \n",
      " 2   scrape_id                                     6882 non-null   int64  \n",
      " 3   last_scraped                                  6882 non-null   object \n",
      " 4   source                                        6882 non-null   object \n",
      " 5   name                                          6882 non-null   object \n",
      " 6   description                                   0 non-null      float64\n",
      " 7   neighborhood_overview                         5013 non-null   object \n",
      " 8   picture_url                                   6882 non-null   object \n",
      " 9   host_id                                       6882 non-null   int64  \n",
      " 10  host_url                                      6882 non-null   object \n",
      " 11  host_name                                     6882 non-null   object \n",
      " 12  host_since                                    6882 non-null   object \n",
      " 13  host_location                                 5816 non-null   object \n",
      " 14  host_about                                    4747 non-null   object \n",
      " 15  host_response_time                            5940 non-null   object \n",
      " 16  host_response_rate                            5940 non-null   object \n",
      " 17  host_acceptance_rate                          6297 non-null   object \n",
      " 18  host_is_superhost                             6864 non-null   object \n",
      " 19  host_thumbnail_url                            6882 non-null   object \n",
      " 20  host_picture_url                              6882 non-null   object \n",
      " 21  host_neighbourhood                            6552 non-null   object \n",
      " 22  host_listings_count                           6882 non-null   int64  \n",
      " 23  host_total_listings_count                     6882 non-null   int64  \n",
      " 24  host_verifications                            6882 non-null   object \n",
      " 25  host_has_profile_pic                          6882 non-null   object \n",
      " 26  host_identity_verified                        6882 non-null   object \n",
      " 27  neighbourhood                                 5013 non-null   object \n",
      " 28  neighbourhood_cleansed                        6882 non-null   object \n",
      " 29  neighbourhood_group_cleansed                  6882 non-null   object \n",
      " 30  latitude                                      6882 non-null   float64\n",
      " 31  longitude                                     6882 non-null   float64\n",
      " 32  property_type                                 6882 non-null   object \n",
      " 33  room_type                                     6882 non-null   object \n",
      " 34  accommodates                                  6882 non-null   int64  \n",
      " 35  bathrooms                                     0 non-null      float64\n",
      " 36  bathrooms_text                                6882 non-null   object \n",
      " 37  bedrooms                                      0 non-null      float64\n",
      " 38  beds                                          6826 non-null   float64\n",
      " 39  amenities                                     6882 non-null   object \n",
      " 40  price                                         6504 non-null   object \n",
      " 41  minimum_nights                                6882 non-null   int64  \n",
      " 42  maximum_nights                                6882 non-null   int64  \n",
      " 43  minimum_minimum_nights                        6882 non-null   int64  \n",
      " 44  maximum_minimum_nights                        6882 non-null   int64  \n",
      " 45  minimum_maximum_nights                        6882 non-null   int64  \n",
      " 46  maximum_maximum_nights                        6882 non-null   int64  \n",
      " 47  minimum_nights_avg_ntm                        6882 non-null   float64\n",
      " 48  maximum_nights_avg_ntm                        6882 non-null   float64\n",
      " 49  calendar_updated                              0 non-null      float64\n",
      " 50  has_availability                              6504 non-null   object \n",
      " 51  availability_30                               6882 non-null   int64  \n",
      " 52  availability_60                               6882 non-null   int64  \n",
      " 53  availability_90                               6882 non-null   int64  \n",
      " 54  availability_365                              6882 non-null   int64  \n",
      " 55  calendar_last_scraped                         6882 non-null   object \n",
      " 56  number_of_reviews                             6882 non-null   int64  \n",
      " 57  number_of_reviews_ltm                         6882 non-null   int64  \n",
      " 58  number_of_reviews_l30d                        6882 non-null   int64  \n",
      " 59  first_review                                  5809 non-null   object \n",
      " 60  last_review                                   5809 non-null   object \n",
      " 61  review_scores_rating                          5812 non-null   float64\n",
      " 62  review_scores_accuracy                        5812 non-null   float64\n",
      " 63  review_scores_cleanliness                     5812 non-null   float64\n",
      " 64  review_scores_checkin                         5812 non-null   float64\n",
      " 65  review_scores_communication                   5812 non-null   float64\n",
      " 66  review_scores_location                        5812 non-null   float64\n",
      " 67  review_scores_value                           5811 non-null   float64\n",
      " 68  license                                       5462 non-null   object \n",
      " 69  instant_bookable                              6882 non-null   object \n",
      " 70  calculated_host_listings_count                6882 non-null   int64  \n",
      " 71  calculated_host_listings_count_entire_homes   6882 non-null   int64  \n",
      " 72  calculated_host_listings_count_private_rooms  6882 non-null   int64  \n",
      " 73  calculated_host_listings_count_shared_rooms   6882 non-null   int64  \n",
      " 74  reviews_per_month                             5809 non-null   float64\n",
      "dtypes: float64(17), int64(23), object(35)\n",
      "memory usage: 3.9+ MB\n"
     ]
    }
   ],
   "source": [
    "list_df.info()"
   ]
  },
  {
   "cell_type": "code",
   "execution_count": 6,
   "id": "a8a752ac",
   "metadata": {},
   "outputs": [
    {
     "name": "stdout",
     "output_type": "stream",
     "text": [
      "<class 'pandas.core.frame.DataFrame'>\n",
      "RangeIndex: 468790 entries, 0 to 468789\n",
      "Data columns (total 6 columns):\n",
      " #   Column         Non-Null Count   Dtype \n",
      "---  ------         --------------   ----- \n",
      " 0   listing_id     468790 non-null  int64 \n",
      " 1   id             468790 non-null  int64 \n",
      " 2   date           468790 non-null  object\n",
      " 3   reviewer_id    468790 non-null  int64 \n",
      " 4   reviewer_name  468790 non-null  object\n",
      " 5   comments       468730 non-null  object\n",
      "dtypes: int64(3), object(3)\n",
      "memory usage: 21.5+ MB\n"
     ]
    }
   ],
   "source": [
    "review_df.info()"
   ]
  },
  {
   "cell_type": "code",
   "execution_count": 7,
   "id": "74a4fb43",
   "metadata": {
    "scrolled": true
   },
   "outputs": [
    {
     "name": "stdout",
     "output_type": "stream",
     "text": [
      "<class 'pandas.core.frame.DataFrame'>\n",
      "RangeIndex: 2512306 entries, 0 to 2512305\n",
      "Data columns (total 7 columns):\n",
      " #   Column          Dtype  \n",
      "---  ------          -----  \n",
      " 0   listing_id      int64  \n",
      " 1   date            object \n",
      " 2   available       object \n",
      " 3   price           object \n",
      " 4   adjusted_price  float64\n",
      " 5   minimum_nights  float64\n",
      " 6   maximum_nights  float64\n",
      "dtypes: float64(3), int64(1), object(3)\n",
      "memory usage: 134.2+ MB\n"
     ]
    }
   ],
   "source": [
    "cal_df.info()"
   ]
  },
  {
   "cell_type": "markdown",
   "id": "905b413d",
   "metadata": {},
   "source": [
    "Price is the output we're most interested in, so let's make sure prices are an float. "
   ]
  },
  {
   "cell_type": "code",
   "execution_count": 8,
   "id": "05dc654d",
   "metadata": {
    "scrolled": true
   },
   "outputs": [
    {
     "data": {
      "text/plain": [
       "NaN        378\n",
       "$100.00    103\n",
       "$80.00     102\n",
       "$85.00      83\n",
       "$99.00      83\n",
       "          ... \n",
       "$799.00      1\n",
       "$247.00      1\n",
       "$513.00      1\n",
       "$338.00      1\n",
       "$476.00      1\n",
       "Name: price, Length: 534, dtype: int64"
      ]
     },
     "execution_count": 8,
     "metadata": {},
     "output_type": "execute_result"
    }
   ],
   "source": [
    "list_df['price'].value_counts(dropna=False)"
   ]
  },
  {
   "cell_type": "markdown",
   "id": "56e317fa",
   "metadata": {},
   "source": [
    "Well... that's annoying. We're missing prices and the price is stored as a string because it contains the currency symbol. As a global company, it makes perfect sense for AirBNB to use the currency symbol, but every listing in Seattle should use USD as its currency. \n",
    "\n",
    "Let's get rid of those $ and any commas that might appear in large prices. "
   ]
  },
  {
   "cell_type": "code",
   "execution_count": 9,
   "id": "026c3761",
   "metadata": {},
   "outputs": [],
   "source": [
    "list_df['price_float'] = list_df['price'].str.split(\"$\").str[1]\n",
    "list_df['price_float'] = list_df['price_float'].str.replace(\",\",\"\")\n",
    "list_df['price_float'] = list_df['price_float'].astype('float64')"
   ]
  },
  {
   "cell_type": "markdown",
   "id": "42a50ecf",
   "metadata": {},
   "source": [
    "I would like to graph the distribution of prices, but the fact that there are still NaNs will cause an issue. Getting those prices will also make any analysis stronger. We'll return to the issue of missing prices later on.\n",
    "\n",
    "First, let's turn out attention to reviews. Let's look at the number of reviews. "
   ]
  },
  {
   "cell_type": "code",
   "execution_count": 10,
   "id": "e2aecd1c",
   "metadata": {
    "scrolled": false
   },
   "outputs": [
    {
     "data": {
      "image/png": "[encoded data removed]",
      "text/plain": [
       "<Figure size 432x288 with 1 Axes>"
      ]
     },
     "metadata": {
      "needs_background": "light"
     },
     "output_type": "display_data"
    }
   ],
   "source": [
    "plt.hist(data=list_df, x = \"number_of_reviews\",bins = 50);"
   ]
  },
  {
   "cell_type": "markdown",
   "id": "7416022d",
   "metadata": {},
   "source": [
    "It looks like many places have few reivews, but there are a few properties with lots of reviews that stretch this graph out. Let's zoom into the places with the fewest reviews. "
   ]
  },
  {
   "cell_type": "code",
   "execution_count": 11,
   "id": "bdb8b89c",
   "metadata": {
    "scrolled": true
   },
   "outputs": [
    {
     "data": {
      "image/png": "[encoded data removed]",
      "text/plain": [
       "<Figure size 432x288 with 1 Axes>"
      ]
     },
     "metadata": {
      "needs_background": "light"
     },
     "output_type": "display_data"
    }
   ],
   "source": [
    "plt.hist(data=list_df, x = \"number_of_reviews\",bins = 1000);\n",
    "plt.xlim(0,200);"
   ]
  },
  {
   "cell_type": "markdown",
   "id": "64bdc9da",
   "metadata": {},
   "source": [
    "The first bucket is capturing places with 0 or 1 reviews, which accounts for most properties. Now let's look at those review scores. "
   ]
  },
  {
   "cell_type": "code",
   "execution_count": 12,
   "id": "22ecce0a",
   "metadata": {
    "scrolled": false
   },
   "outputs": [
    {
     "data": {
      "image/png": "[encoded data removed]",
      "text/plain": [
       "<Figure size 432x288 with 1 Axes>"
      ]
     },
     "metadata": {
      "needs_background": "light"
     },
     "output_type": "display_data"
    }
   ],
   "source": [
    "plt.hist(data=list_df, x = \"review_scores_rating\",bins = 50);\n"
   ]
  },
  {
   "cell_type": "markdown",
   "id": "ea414103",
   "metadata": {},
   "source": [
    "Most places have pretty high reviews! Let's try looking at some of the component review scores. "
   ]
  },
  {
   "cell_type": "code",
   "execution_count": 13,
   "id": "9dbf9125",
   "metadata": {},
   "outputs": [
    {
     "data": {
      "image/png": "[encoded data removed]",
      "text/plain": [
       "<Figure size 1440x864 with 6 Axes>"
      ]
     },
     "metadata": {
      "needs_background": "light"
     },
     "output_type": "display_data"
    }
   ],
   "source": [
    "plt.figure(figsize = [20, 12]) \n",
    "\n",
    "plt.subplot(2, 3, 1) \n",
    "plt.hist(data=list_df, x='review_scores_accuracy', bins=50);\n",
    "\n",
    "\n",
    "plt.subplot(2, 3, 2) \n",
    "plt.hist(data=list_df, x='review_scores_cleanliness', bins=50);\n",
    "\n",
    "\n",
    "plt.subplot(2, 3, 3)  \n",
    "plt.hist(data=list_df, x='review_scores_checkin', bins=50);\n",
    "\n",
    "\n",
    "plt.subplot(2, 3, 4) \n",
    "plt.hist(data=list_df, x='review_scores_communication', bins=50);\n",
    "\n",
    "plt.subplot(2, 3, 5)  \n",
    "plt.hist(data=list_df, x='review_scores_location', bins=50);\n",
    "\n",
    "\n",
    "plt.subplot(2, 3, 6) \n",
    "plt.hist(data=list_df, x='review_scores_value', bins=50);"
   ]
  },
  {
   "cell_type": "markdown",
   "id": "8246779c",
   "metadata": {},
   "source": [
    "People are almost always very happy with host communication, but the reviews for the value for their money varies the most. \n",
    "\n",
    "\n",
    "### What are the most expensive neighborhoods?\n",
    "Now we can look at some info about neighborhoods. "
   ]
  },
  {
   "cell_type": "code",
   "execution_count": 14,
   "id": "aa2150dd",
   "metadata": {},
   "outputs": [
    {
     "data": {
      "text/plain": [
       "Broadway               388\n",
       "Belltown               351\n",
       "Wallingford            259\n",
       "Fremont                254\n",
       "University District    229\n",
       "                      ... \n",
       "Meadowbrook             13\n",
       "Rainier View            12\n",
       "Industrial District      2\n",
       "Harbor Island            1\n",
       "Holly Park               1\n",
       "Name: neighbourhood_cleansed, Length: 89, dtype: int64"
      ]
     },
     "execution_count": 14,
     "metadata": {},
     "output_type": "execute_result"
    }
   ],
   "source": [
    "list_df['neighbourhood_cleansed'].value_counts()"
   ]
  },
  {
   "cell_type": "code",
   "execution_count": 15,
   "id": "21bd9a89",
   "metadata": {},
   "outputs": [
    {
     "name": "stdout",
     "output_type": "stream",
     "text": [
      "Broadway               388\n",
      "Belltown               351\n",
      "Wallingford            259\n",
      "Fremont                254\n",
      "University District    229\n",
      "                      ... \n",
      "Meadowbrook             13\n",
      "Rainier View            12\n",
      "Industrial District      2\n",
      "Harbor Island            1\n",
      "Holly Park               1\n",
      "Name: neighbourhood_cleansed, Length: 89, dtype: int64\n"
     ]
    }
   ],
   "source": [
    "neighborhood_counts = list_df['neighbourhood_cleansed'].value_counts()\n",
    "print(neighborhood_counts)"
   ]
  },
  {
   "cell_type": "code",
   "execution_count": 16,
   "id": "d620d325",
   "metadata": {
    "scrolled": true
   },
   "outputs": [
    {
     "data": {
      "image/png": "[encoded data removed]",
      "text/plain": [
       "<Figure size 432x288 with 1 Axes>"
      ]
     },
     "metadata": {
      "needs_background": "light"
     },
     "output_type": "display_data"
    }
   ],
   "source": [
    "sns.countplot(data=list_df, x='neighbourhood_cleansed')\n",
    "sns.set(rc={'figure.figsize':(25,20)})\n",
    "plt.xticks(rotation = 90);"
   ]
  },
  {
   "cell_type": "markdown",
   "id": "2bf887a8",
   "metadata": {},
   "source": [
    "I'll take a look at prices by neighborhood. I'll make a quick function to do so. "
   ]
  },
  {
   "cell_type": "code",
   "execution_count": 17,
   "id": "2df1655c",
   "metadata": {},
   "outputs": [],
   "source": [
    "def grouped_means_graph(df, x_axis, y_axis, fig_size):\n",
    "    '''INPUT: dataframe, the group by column as the x axis, the groupby outcome as the y axis, and the figure size\n",
    "    \n",
    "    OUTPUT: A correctly labeled graph where the mean of each y outcome grouped by the x outcome is shown\n",
    "    '''\n",
    "    \n",
    "    grouped_df = df.groupby([x_axis])[y_axis].mean()\n",
    "    grouped_df.plot.bar(figsize=(fig_size),title = f\"{x_axis} vs mean of {y_axis}\", xlabel = x_axis, ylabel = (f'Mean {y_axis}'))"
   ]
  },
  {
   "cell_type": "code",
   "execution_count": 18,
   "id": "211a254c",
   "metadata": {
    "scrolled": true
   },
   "outputs": [
    {
     "data": {
      "image/png": "[encoded data removed]",
      "text/plain": [
       "<Figure size 1800x1440 with 1 Axes>"
      ]
     },
     "metadata": {},
     "output_type": "display_data"
    }
   ],
   "source": [
    "grouped_means_graph(list_df, 'neighbourhood_cleansed', 'price_float',(25,20))"
   ]
  },
  {
   "cell_type": "markdown",
   "id": "61736e6f",
   "metadata": {},
   "source": [
    "There are only a few listings in the industrial district, and at least one of them must be quite expensive!Some other pricy neighborhoods include Fremont, Greenwood, and Phinney Ridge. \n",
    "\n",
    "AirBNB also has info about larger neighborhood groups. "
   ]
  },
  {
   "cell_type": "code",
   "execution_count": 19,
   "id": "deab6f28",
   "metadata": {
    "scrolled": false
   },
   "outputs": [
    {
     "data": {
      "image/png": "[encoded data removed]",
      "text/plain": [
       "<Figure size 1800x1440 with 1 Axes>"
      ]
     },
     "metadata": {},
     "output_type": "display_data"
    }
   ],
   "source": [
    "sns.countplot(data=list_df, x='neighbourhood_group_cleansed')\n",
    "sns.set(rc={'figure.figsize':(10,6)})\n",
    "plt.xticks(rotation = 90);"
   ]
  },
  {
   "cell_type": "code",
   "execution_count": 20,
   "id": "3a9964b0",
   "metadata": {},
   "outputs": [
    {
     "data": {
      "image/png": "[encoded data removed]",
      "text/plain": [
       "<Figure size 1080x720 with 1 Axes>"
      ]
     },
     "metadata": {},
     "output_type": "display_data"
    }
   ],
   "source": [
    "grouped_means_graph(list_df, 'neighbourhood_group_cleansed', 'price_float',(15,10))"
   ]
  },
  {
   "cell_type": "markdown",
   "id": "7e3db53f",
   "metadata": {},
   "source": [
    "The catch-all other neighborhoods category is the highest, which makes sense since many of the highest price neighborhoods from above will end up in this category. Queen Anne has the highest average price per night otherwise. \n",
    "\n",
    "### What are the best reviewed neighborhoods?"
   ]
  },
  {
   "cell_type": "code",
   "execution_count": 21,
   "id": "eb3ada6f",
   "metadata": {
    "scrolled": false
   },
   "outputs": [
    {
     "data": {
      "text/plain": [
       "(4.0, 5.0)"
      ]
     },
     "execution_count": 21,
     "metadata": {},
     "output_type": "execute_result"
    },
    {
     "data": {
      "image/png": "[encoded data removed]",
      "text/plain": [
       "<Figure size 1080x720 with 1 Axes>"
      ]
     },
     "metadata": {},
     "output_type": "display_data"
    }
   ],
   "source": [
    "grouped_means_graph(list_df, 'neighbourhood_group_cleansed', 'review_scores_rating',(15,10))\n",
    "plt.ylim(4,5)"
   ]
  },
  {
   "cell_type": "code",
   "execution_count": 22,
   "id": "8ef71d34",
   "metadata": {},
   "outputs": [
    {
     "data": {
      "image/png": "[encoded data removed]",
      "text/plain": [
       "<Figure size 1800x1080 with 1 Axes>"
      ]
     },
     "metadata": {},
     "output_type": "display_data"
    }
   ],
   "source": [
    "grouped_means_graph(list_df, 'neighbourhood_cleansed', 'review_scores_rating',(25,15))\n",
    "plt.ylim(4,5);"
   ]
  },
  {
   "cell_type": "code",
   "execution_count": 23,
   "id": "73f2106f",
   "metadata": {},
   "outputs": [
    {
     "data": {
      "text/html": [
       "<div>\n",
       "<style scoped>\n",
       "    .dataframe tbody tr th:only-of-type {\n",
       "        vertical-align: middle;\n",
       "    }\n",
       "\n",
       "    .dataframe tbody tr th {\n",
       "        vertical-align: top;\n",
       "    }\n",
       "\n",
       "    .dataframe thead th {\n",
       "        text-align: right;\n",
       "    }\n",
       "</style>\n",
       "<table border=\"1\" class=\"dataframe\">\n",
       "  <thead>\n",
       "    <tr style=\"text-align: right;\">\n",
       "      <th></th>\n",
       "      <th>id</th>\n",
       "      <th>listing_url</th>\n",
       "      <th>scrape_id</th>\n",
       "      <th>last_scraped</th>\n",
       "      <th>source</th>\n",
       "      <th>name</th>\n",
       "      <th>description</th>\n",
       "      <th>neighborhood_overview</th>\n",
       "      <th>picture_url</th>\n",
       "      <th>host_id</th>\n",
       "      <th>...</th>\n",
       "      <th>review_scores_value</th>\n",
       "      <th>license</th>\n",
       "      <th>instant_bookable</th>\n",
       "      <th>calculated_host_listings_count</th>\n",
       "      <th>calculated_host_listings_count_entire_homes</th>\n",
       "      <th>calculated_host_listings_count_private_rooms</th>\n",
       "      <th>calculated_host_listings_count_shared_rooms</th>\n",
       "      <th>reviews_per_month</th>\n",
       "      <th>price_float</th>\n",
       "      <th>review_count</th>\n",
       "    </tr>\n",
       "  </thead>\n",
       "  <tbody>\n",
       "    <tr>\n",
       "      <th>0</th>\n",
       "      <td>6606</td>\n",
       "      <td>https://www.airbnb.com/rooms/6606</td>\n",
       "      <td>20231220185704</td>\n",
       "      <td>2023-12-21</td>\n",
       "      <td>city scrape</td>\n",
       "      <td>Guesthouse in Seattle · ★4.60 · 1 bedroom · 1 ...</td>\n",
       "      <td>NaN</td>\n",
       "      <td>A peaceful yet highly accessible neighborhood,...</td>\n",
       "      <td>https://a0.muscache.com/pictures/45742/21116d7...</td>\n",
       "      <td>14942</td>\n",
       "      <td>...</td>\n",
       "      <td>4.57</td>\n",
       "      <td>str-opli-19-002622</td>\n",
       "      <td>f</td>\n",
       "      <td>2</td>\n",
       "      <td>2</td>\n",
       "      <td>0</td>\n",
       "      <td>0</td>\n",
       "      <td>0.91</td>\n",
       "      <td>99.0</td>\n",
       "      <td>225</td>\n",
       "    </tr>\n",
       "    <tr>\n",
       "      <th>1</th>\n",
       "      <td>9419</td>\n",
       "      <td>https://www.airbnb.com/rooms/9419</td>\n",
       "      <td>20231220185704</td>\n",
       "      <td>2023-12-20</td>\n",
       "      <td>city scrape</td>\n",
       "      <td>Rental unit in Seattle · ★4.72 · 1 bedroom · 1...</td>\n",
       "      <td>NaN</td>\n",
       "      <td>Lots of restaurants (see our guide book) bars,...</td>\n",
       "      <td>https://a0.muscache.com/pictures/56645186/e5fb...</td>\n",
       "      <td>30559</td>\n",
       "      <td>...</td>\n",
       "      <td>4.66</td>\n",
       "      <td>STR-OPLI-19-003039</td>\n",
       "      <td>f</td>\n",
       "      <td>9</td>\n",
       "      <td>0</td>\n",
       "      <td>9</td>\n",
       "      <td>0</td>\n",
       "      <td>1.19</td>\n",
       "      <td>67.0</td>\n",
       "      <td>23</td>\n",
       "    </tr>\n",
       "    <tr>\n",
       "      <th>2</th>\n",
       "      <td>9531</td>\n",
       "      <td>https://www.airbnb.com/rooms/9531</td>\n",
       "      <td>20231220185704</td>\n",
       "      <td>2023-12-20</td>\n",
       "      <td>city scrape</td>\n",
       "      <td>Home in Seattle · ★4.97 · 2 bedrooms · 3 beds ...</td>\n",
       "      <td>NaN</td>\n",
       "      <td>The neighborhood is awesome!  Just far enough ...</td>\n",
       "      <td>https://a0.muscache.com/pictures/30470355/052c...</td>\n",
       "      <td>31481</td>\n",
       "      <td>...</td>\n",
       "      <td>4.91</td>\n",
       "      <td>STR-OPLI-19-002182</td>\n",
       "      <td>f</td>\n",
       "      <td>2</td>\n",
       "      <td>2</td>\n",
       "      <td>0</td>\n",
       "      <td>0</td>\n",
       "      <td>0.59</td>\n",
       "      <td>184.0</td>\n",
       "      <td>49</td>\n",
       "    </tr>\n",
       "    <tr>\n",
       "      <th>3</th>\n",
       "      <td>9534</td>\n",
       "      <td>https://www.airbnb.com/rooms/9534</td>\n",
       "      <td>20231220185704</td>\n",
       "      <td>2023-12-20</td>\n",
       "      <td>city scrape</td>\n",
       "      <td>Guest suite in Seattle · ★4.99 · 2 bedrooms · ...</td>\n",
       "      <td>NaN</td>\n",
       "      <td>The neighborhood is the best of two worlds...w...</td>\n",
       "      <td>https://a0.muscache.com/pictures/30476721/0751...</td>\n",
       "      <td>31481</td>\n",
       "      <td>...</td>\n",
       "      <td>4.95</td>\n",
       "      <td>STR-OPLI-19-002182</td>\n",
       "      <td>f</td>\n",
       "      <td>2</td>\n",
       "      <td>2</td>\n",
       "      <td>0</td>\n",
       "      <td>0</td>\n",
       "      <td>0.52</td>\n",
       "      <td>155.0</td>\n",
       "      <td>49</td>\n",
       "    </tr>\n",
       "    <tr>\n",
       "      <th>4</th>\n",
       "      <td>9596</td>\n",
       "      <td>https://www.airbnb.com/rooms/9596</td>\n",
       "      <td>20231220185704</td>\n",
       "      <td>2023-12-21</td>\n",
       "      <td>previous scrape</td>\n",
       "      <td>Rental unit in Seattle · ★4.56 · 1 bedroom · 4...</td>\n",
       "      <td>NaN</td>\n",
       "      <td>if you arrive early for check in at 3,  I reco...</td>\n",
       "      <td>https://a0.muscache.com/pictures/665252/102d18...</td>\n",
       "      <td>14942</td>\n",
       "      <td>...</td>\n",
       "      <td>4.56</td>\n",
       "      <td>STR -OPLI-19-002622</td>\n",
       "      <td>f</td>\n",
       "      <td>2</td>\n",
       "      <td>2</td>\n",
       "      <td>0</td>\n",
       "      <td>0</td>\n",
       "      <td>0.63</td>\n",
       "      <td>NaN</td>\n",
       "      <td>225</td>\n",
       "    </tr>\n",
       "  </tbody>\n",
       "</table>\n",
       "<p>5 rows × 77 columns</p>\n",
       "</div>"
      ],
      "text/plain": [
       "     id                        listing_url       scrape_id last_scraped  \\\n",
       "0  6606  https://www.airbnb.com/rooms/6606  20231220185704   2023-12-21   \n",
       "1  9419  https://www.airbnb.com/rooms/9419  20231220185704   2023-12-20   \n",
       "2  9531  https://www.airbnb.com/rooms/9531  20231220185704   2023-12-20   \n",
       "3  9534  https://www.airbnb.com/rooms/9534  20231220185704   2023-12-20   \n",
       "4  9596  https://www.airbnb.com/rooms/9596  20231220185704   2023-12-21   \n",
       "\n",
       "            source                                               name  \\\n",
       "0      city scrape  Guesthouse in Seattle · ★4.60 · 1 bedroom · 1 ...   \n",
       "1      city scrape  Rental unit in Seattle · ★4.72 · 1 bedroom · 1...   \n",
       "2      city scrape  Home in Seattle · ★4.97 · 2 bedrooms · 3 beds ...   \n",
       "3      city scrape  Guest suite in Seattle · ★4.99 · 2 bedrooms · ...   \n",
       "4  previous scrape  Rental unit in Seattle · ★4.56 · 1 bedroom · 4...   \n",
       "\n",
       "   description                              neighborhood_overview  \\\n",
       "0          NaN  A peaceful yet highly accessible neighborhood,...   \n",
       "1          NaN  Lots of restaurants (see our guide book) bars,...   \n",
       "2          NaN  The neighborhood is awesome!  Just far enough ...   \n",
       "3          NaN  The neighborhood is the best of two worlds...w...   \n",
       "4          NaN  if you arrive early for check in at 3,  I reco...   \n",
       "\n",
       "                                         picture_url  host_id  ...  \\\n",
       "0  https://a0.muscache.com/pictures/45742/21116d7...    14942  ...   \n",
       "1  https://a0.muscache.com/pictures/56645186/e5fb...    30559  ...   \n",
       "2  https://a0.muscache.com/pictures/30470355/052c...    31481  ...   \n",
       "3  https://a0.muscache.com/pictures/30476721/0751...    31481  ...   \n",
       "4  https://a0.muscache.com/pictures/665252/102d18...    14942  ...   \n",
       "\n",
       "  review_scores_value              license instant_bookable  \\\n",
       "0                4.57   str-opli-19-002622                f   \n",
       "1                4.66   STR-OPLI-19-003039                f   \n",
       "2                4.91   STR-OPLI-19-002182                f   \n",
       "3                4.95   STR-OPLI-19-002182                f   \n",
       "4                4.56  STR -OPLI-19-002622                f   \n",
       "\n",
       "  calculated_host_listings_count calculated_host_listings_count_entire_homes  \\\n",
       "0                              2                                           2   \n",
       "1                              9                                           0   \n",
       "2                              2                                           2   \n",
       "3                              2                                           2   \n",
       "4                              2                                           2   \n",
       "\n",
       "  calculated_host_listings_count_private_rooms  \\\n",
       "0                                            0   \n",
       "1                                            9   \n",
       "2                                            0   \n",
       "3                                            0   \n",
       "4                                            0   \n",
       "\n",
       "  calculated_host_listings_count_shared_rooms reviews_per_month price_float  \\\n",
       "0                                           0              0.91        99.0   \n",
       "1                                           0              1.19        67.0   \n",
       "2                                           0              0.59       184.0   \n",
       "3                                           0              0.52       155.0   \n",
       "4                                           0              0.63         NaN   \n",
       "\n",
       "  review_count  \n",
       "0          225  \n",
       "1           23  \n",
       "2           49  \n",
       "3           49  \n",
       "4          225  \n",
       "\n",
       "[5 rows x 77 columns]"
      ]
     },
     "execution_count": 23,
     "metadata": {},
     "output_type": "execute_result"
    }
   ],
   "source": [
    "# Group the DataFrame by \"neighborhood\" and count the number of reviews in each group\n",
    "list_df['review_count'] = list_df.groupby('neighbourhood_cleansed')['review_scores_rating'].transform('count')\n",
    "\n",
    "# Filter the DataFrame to include only the rows where the review count is greater than or equal to ten\n",
    "filtered1_df = list_df[list_df['review_count'] >= 10]\n",
    "\n",
    "# Remove the \"review_count\" column from the filtered DataFrame\n",
    "filtered1_df.head()"
   ]
  },
  {
   "cell_type": "code",
   "execution_count": null,
   "id": "6b930ace",
   "metadata": {},
   "outputs": [],
   "source": []
  },
  {
   "cell_type": "code",
   "execution_count": null,
   "id": "3c07c9ba",
   "metadata": {},
   "outputs": [],
   "source": []
  },
  {
   "cell_type": "code",
   "execution_count": 24,
   "id": "9444f3ff",
   "metadata": {},
   "outputs": [
    {
     "data": {
      "text/plain": [
       "(4.0, 5.0)"
      ]
     },
     "execution_count": 24,
     "metadata": {},
     "output_type": "execute_result"
    },
    {
     "data": {
      "image/png": "[encoded data removed]",
      "text/plain": [
       "<Figure size 1080x720 with 1 Axes>"
      ]
     },
     "metadata": {},
     "output_type": "display_data"
    }
   ],
   "source": [
    "grouped_means_graph(list_df, 'neighbourhood_group_cleansed', 'review_scores_value',(15,10))\n",
    "plt.ylim(4,5)"
   ]
  },
  {
   "cell_type": "code",
   "execution_count": 25,
   "id": "3bedcc6c",
   "metadata": {},
   "outputs": [
    {
     "data": {
      "image/png": "[encoded data removed]",
      "text/plain": [
       "<Figure size 1080x720 with 1 Axes>"
      ]
     },
     "metadata": {},
     "output_type": "display_data"
    }
   ],
   "source": [
    "grouped_means_graph(list_df, 'neighbourhood_cleansed', 'review_scores_value',(15,10))\n",
    "plt.ylim(4,5);"
   ]
  },
  {
   "cell_type": "code",
   "execution_count": null,
   "id": "afe9f88d",
   "metadata": {},
   "outputs": [],
   "source": []
  },
  {
   "cell_type": "code",
   "execution_count": null,
   "id": "0d6ccc2d",
   "metadata": {},
   "outputs": [],
   "source": []
  },
  {
   "cell_type": "markdown",
   "id": "0864bb5a",
   "metadata": {},
   "source": [
    "Let's look at some attributes of the AirBNBs."
   ]
  },
  {
   "cell_type": "code",
   "execution_count": 26,
   "id": "e3d0697c",
   "metadata": {},
   "outputs": [
    {
     "data": {
      "text/plain": [
       "1.0     2902\n",
       "2.0     1874\n",
       "3.0     1077\n",
       "4.0      495\n",
       "5.0      216\n",
       "6.0      122\n",
       "7.0       64\n",
       "NaN       56\n",
       "8.0       36\n",
       "9.0       20\n",
       "10.0      11\n",
       "12.0       3\n",
       "14.0       2\n",
       "15.0       2\n",
       "16.0       1\n",
       "11.0       1\n",
       "Name: beds, dtype: int64"
      ]
     },
     "execution_count": 26,
     "metadata": {},
     "output_type": "execute_result"
    }
   ],
   "source": [
    "list_df['beds'].value_counts(dropna=False)"
   ]
  },
  {
   "cell_type": "code",
   "execution_count": 27,
   "id": "aad1f16c",
   "metadata": {
    "scrolled": false
   },
   "outputs": [
    {
     "data": {
      "text/plain": [
       "2     2457\n",
       "4     1607\n",
       "6      818\n",
       "3      531\n",
       "5      358\n",
       "8      325\n",
       "1      269\n",
       "7      141\n",
       "10     132\n",
       "12      74\n",
       "16      60\n",
       "9       46\n",
       "11      28\n",
       "14      23\n",
       "15       7\n",
       "13       6\n",
       "Name: accommodates, dtype: int64"
      ]
     },
     "execution_count": 27,
     "metadata": {},
     "output_type": "execute_result"
    }
   ],
   "source": [
    "list_df['accommodates'].value_counts(dropna=False)"
   ]
  },
  {
   "cell_type": "code",
   "execution_count": 28,
   "id": "63268489",
   "metadata": {
    "scrolled": true
   },
   "outputs": [
    {
     "data": {
      "text/plain": [
       "1 bath               3940\n",
       "2 baths              1029\n",
       "2.5 baths             367\n",
       "1 private bath        329\n",
       "1.5 baths             313\n",
       "1 shared bath         298\n",
       "3 baths               229\n",
       "3.5 baths             136\n",
       "2 shared baths         68\n",
       "1.5 shared baths       60\n",
       "4 baths                34\n",
       "3 shared baths         23\n",
       "4.5 baths              10\n",
       "Half-bath               9\n",
       "0 baths                 8\n",
       "0 shared baths          6\n",
       "6 baths                 5\n",
       "16 shared baths         4\n",
       "4 shared baths          2\n",
       "2.5 shared baths        2\n",
       "6.5 baths               2\n",
       "7 baths                 2\n",
       "5 baths                 2\n",
       "3.5 shared baths        1\n",
       "Shared half-bath        1\n",
       "Private half-bath       1\n",
       "5.5 baths               1\n",
       "Name: bathrooms_text, dtype: int64"
      ]
     },
     "execution_count": 28,
     "metadata": {},
     "output_type": "execute_result"
    }
   ],
   "source": [
    "list_df['bathrooms_text'].value_counts(dropna=False)"
   ]
  },
  {
   "cell_type": "markdown",
   "id": "f4eb843f",
   "metadata": {},
   "source": [
    "The number of beds and people accomodated are already in good shape, but bathrooms will take some work. There's two variables here: how many bathrooms, and whether those bathrooms are shared. We'll need number of baths and a binary variable for shared or not. First, let's turn half-bath into .5"
   ]
  },
  {
   "cell_type": "code",
   "execution_count": 29,
   "id": "44f4cfd6",
   "metadata": {},
   "outputs": [],
   "source": [
    "list_df['bathrooms_text'] = list_df['bathrooms_text'].str.replace('half-bath', \"0.5\")\n",
    "list_df['bathrooms_text'] = list_df['bathrooms_text'].str.replace('Half-bath', \"0.5\")"
   ]
  },
  {
   "cell_type": "code",
   "execution_count": 30,
   "id": "fc932c8b",
   "metadata": {},
   "outputs": [
    {
     "data": {
      "text/plain": [
       "1 bath              3940\n",
       "2 baths             1029\n",
       "2.5 baths            367\n",
       "1 private bath       329\n",
       "1.5 baths            313\n",
       "1 shared bath        298\n",
       "3 baths              229\n",
       "3.5 baths            136\n",
       "2 shared baths        68\n",
       "1.5 shared baths      60\n",
       "4 baths               34\n",
       "3 shared baths        23\n",
       "4.5 baths             10\n",
       "0.5                    9\n",
       "0 baths                8\n",
       "0 shared baths         6\n",
       "6 baths                5\n",
       "16 shared baths        4\n",
       "4 shared baths         2\n",
       "2.5 shared baths       2\n",
       "6.5 baths              2\n",
       "7 baths                2\n",
       "5 baths                2\n",
       "3.5 shared baths       1\n",
       "Shared 0.5             1\n",
       "Private 0.5            1\n",
       "5.5 baths              1\n",
       "Name: bathrooms_text, dtype: int64"
      ]
     },
     "execution_count": 30,
     "metadata": {},
     "output_type": "execute_result"
    }
   ],
   "source": [
    "list_df['bathrooms_text'].value_counts(dropna=False)"
   ]
  },
  {
   "cell_type": "markdown",
   "id": "2600aa05",
   "metadata": {},
   "source": [
    "Now, let's extract the number of bathrooms. "
   ]
  },
  {
   "cell_type": "code",
   "execution_count": 31,
   "id": "3640a189",
   "metadata": {},
   "outputs": [],
   "source": [
    "list_df['no_of_bathrooms'] = list_df['bathrooms_text'].str.extract('(\\d+.?\\d*)').astype(float)"
   ]
  },
  {
   "cell_type": "code",
   "execution_count": 32,
   "id": "204ea882",
   "metadata": {},
   "outputs": [
    {
     "data": {
      "text/plain": [
       "1.0     4567\n",
       "2.0     1097\n",
       "1.5      373\n",
       "2.5      369\n",
       "3.0      252\n",
       "3.5      137\n",
       "4.0       36\n",
       "0.0       14\n",
       "0.5       11\n",
       "4.5       10\n",
       "6.0        5\n",
       "16.0       4\n",
       "6.5        2\n",
       "7.0        2\n",
       "5.0        2\n",
       "5.5        1\n",
       "Name: no_of_bathrooms, dtype: int64"
      ]
     },
     "execution_count": 32,
     "metadata": {},
     "output_type": "execute_result"
    }
   ],
   "source": [
    "list_df['no_of_bathrooms'].value_counts(dropna=False)"
   ]
  },
  {
   "cell_type": "markdown",
   "id": "9ba13e7f",
   "metadata": {},
   "source": [
    "Next, let's pick out the shared bathrooms. "
   ]
  },
  {
   "cell_type": "code",
   "execution_count": 33,
   "id": "a41edc12",
   "metadata": {},
   "outputs": [],
   "source": [
    "list_df['shared'] = list_df['bathrooms_text'].str.contains('shared').astype(int)"
   ]
  },
  {
   "cell_type": "code",
   "execution_count": 34,
   "id": "236e4d0b",
   "metadata": {},
   "outputs": [
    {
     "data": {
      "text/plain": [
       "0    6418\n",
       "1     464\n",
       "Name: shared, dtype: int64"
      ]
     },
     "execution_count": 34,
     "metadata": {},
     "output_type": "execute_result"
    }
   ],
   "source": [
    "list_df['shared'].value_counts(dropna=False)"
   ]
  },
  {
   "cell_type": "code",
   "execution_count": 35,
   "id": "7780b433",
   "metadata": {},
   "outputs": [
    {
     "data": {
      "text/html": [
       "<div>\n",
       "<style scoped>\n",
       "    .dataframe tbody tr th:only-of-type {\n",
       "        vertical-align: middle;\n",
       "    }\n",
       "\n",
       "    .dataframe tbody tr th {\n",
       "        vertical-align: top;\n",
       "    }\n",
       "\n",
       "    .dataframe thead th {\n",
       "        text-align: right;\n",
       "    }\n",
       "</style>\n",
       "<table border=\"1\" class=\"dataframe\">\n",
       "  <thead>\n",
       "    <tr style=\"text-align: right;\">\n",
       "      <th></th>\n",
       "      <th>id</th>\n",
       "      <th>listing_url</th>\n",
       "      <th>scrape_id</th>\n",
       "      <th>last_scraped</th>\n",
       "      <th>source</th>\n",
       "      <th>name</th>\n",
       "      <th>description</th>\n",
       "      <th>neighborhood_overview</th>\n",
       "      <th>picture_url</th>\n",
       "      <th>host_id</th>\n",
       "      <th>...</th>\n",
       "      <th>instant_bookable</th>\n",
       "      <th>calculated_host_listings_count</th>\n",
       "      <th>calculated_host_listings_count_entire_homes</th>\n",
       "      <th>calculated_host_listings_count_private_rooms</th>\n",
       "      <th>calculated_host_listings_count_shared_rooms</th>\n",
       "      <th>reviews_per_month</th>\n",
       "      <th>price_float</th>\n",
       "      <th>review_count</th>\n",
       "      <th>no_of_bathrooms</th>\n",
       "      <th>shared</th>\n",
       "    </tr>\n",
       "  </thead>\n",
       "  <tbody>\n",
       "    <tr>\n",
       "      <th>0</th>\n",
       "      <td>6606</td>\n",
       "      <td>https://www.airbnb.com/rooms/6606</td>\n",
       "      <td>20231220185704</td>\n",
       "      <td>2023-12-21</td>\n",
       "      <td>city scrape</td>\n",
       "      <td>Guesthouse in Seattle · ★4.60 · 1 bedroom · 1 ...</td>\n",
       "      <td>NaN</td>\n",
       "      <td>A peaceful yet highly accessible neighborhood,...</td>\n",
       "      <td>https://a0.muscache.com/pictures/45742/21116d7...</td>\n",
       "      <td>14942</td>\n",
       "      <td>...</td>\n",
       "      <td>f</td>\n",
       "      <td>2</td>\n",
       "      <td>2</td>\n",
       "      <td>0</td>\n",
       "      <td>0</td>\n",
       "      <td>0.91</td>\n",
       "      <td>99.0</td>\n",
       "      <td>225</td>\n",
       "      <td>1.0</td>\n",
       "      <td>0</td>\n",
       "    </tr>\n",
       "    <tr>\n",
       "      <th>1</th>\n",
       "      <td>9419</td>\n",
       "      <td>https://www.airbnb.com/rooms/9419</td>\n",
       "      <td>20231220185704</td>\n",
       "      <td>2023-12-20</td>\n",
       "      <td>city scrape</td>\n",
       "      <td>Rental unit in Seattle · ★4.72 · 1 bedroom · 1...</td>\n",
       "      <td>NaN</td>\n",
       "      <td>Lots of restaurants (see our guide book) bars,...</td>\n",
       "      <td>https://a0.muscache.com/pictures/56645186/e5fb...</td>\n",
       "      <td>30559</td>\n",
       "      <td>...</td>\n",
       "      <td>f</td>\n",
       "      <td>9</td>\n",
       "      <td>0</td>\n",
       "      <td>9</td>\n",
       "      <td>0</td>\n",
       "      <td>1.19</td>\n",
       "      <td>67.0</td>\n",
       "      <td>23</td>\n",
       "      <td>3.0</td>\n",
       "      <td>1</td>\n",
       "    </tr>\n",
       "    <tr>\n",
       "      <th>2</th>\n",
       "      <td>9531</td>\n",
       "      <td>https://www.airbnb.com/rooms/9531</td>\n",
       "      <td>20231220185704</td>\n",
       "      <td>2023-12-20</td>\n",
       "      <td>city scrape</td>\n",
       "      <td>Home in Seattle · ★4.97 · 2 bedrooms · 3 beds ...</td>\n",
       "      <td>NaN</td>\n",
       "      <td>The neighborhood is awesome!  Just far enough ...</td>\n",
       "      <td>https://a0.muscache.com/pictures/30470355/052c...</td>\n",
       "      <td>31481</td>\n",
       "      <td>...</td>\n",
       "      <td>f</td>\n",
       "      <td>2</td>\n",
       "      <td>2</td>\n",
       "      <td>0</td>\n",
       "      <td>0</td>\n",
       "      <td>0.59</td>\n",
       "      <td>184.0</td>\n",
       "      <td>49</td>\n",
       "      <td>1.0</td>\n",
       "      <td>0</td>\n",
       "    </tr>\n",
       "    <tr>\n",
       "      <th>3</th>\n",
       "      <td>9534</td>\n",
       "      <td>https://www.airbnb.com/rooms/9534</td>\n",
       "      <td>20231220185704</td>\n",
       "      <td>2023-12-20</td>\n",
       "      <td>city scrape</td>\n",
       "      <td>Guest suite in Seattle · ★4.99 · 2 bedrooms · ...</td>\n",
       "      <td>NaN</td>\n",
       "      <td>The neighborhood is the best of two worlds...w...</td>\n",
       "      <td>https://a0.muscache.com/pictures/30476721/0751...</td>\n",
       "      <td>31481</td>\n",
       "      <td>...</td>\n",
       "      <td>f</td>\n",
       "      <td>2</td>\n",
       "      <td>2</td>\n",
       "      <td>0</td>\n",
       "      <td>0</td>\n",
       "      <td>0.52</td>\n",
       "      <td>155.0</td>\n",
       "      <td>49</td>\n",
       "      <td>1.0</td>\n",
       "      <td>0</td>\n",
       "    </tr>\n",
       "    <tr>\n",
       "      <th>4</th>\n",
       "      <td>9596</td>\n",
       "      <td>https://www.airbnb.com/rooms/9596</td>\n",
       "      <td>20231220185704</td>\n",
       "      <td>2023-12-21</td>\n",
       "      <td>previous scrape</td>\n",
       "      <td>Rental unit in Seattle · ★4.56 · 1 bedroom · 4...</td>\n",
       "      <td>NaN</td>\n",
       "      <td>if you arrive early for check in at 3,  I reco...</td>\n",
       "      <td>https://a0.muscache.com/pictures/665252/102d18...</td>\n",
       "      <td>14942</td>\n",
       "      <td>...</td>\n",
       "      <td>f</td>\n",
       "      <td>2</td>\n",
       "      <td>2</td>\n",
       "      <td>0</td>\n",
       "      <td>0</td>\n",
       "      <td>0.63</td>\n",
       "      <td>NaN</td>\n",
       "      <td>225</td>\n",
       "      <td>1.0</td>\n",
       "      <td>0</td>\n",
       "    </tr>\n",
       "  </tbody>\n",
       "</table>\n",
       "<p>5 rows × 79 columns</p>\n",
       "</div>"
      ],
      "text/plain": [
       "     id                        listing_url       scrape_id last_scraped  \\\n",
       "0  6606  https://www.airbnb.com/rooms/6606  20231220185704   2023-12-21   \n",
       "1  9419  https://www.airbnb.com/rooms/9419  20231220185704   2023-12-20   \n",
       "2  9531  https://www.airbnb.com/rooms/9531  20231220185704   2023-12-20   \n",
       "3  9534  https://www.airbnb.com/rooms/9534  20231220185704   2023-12-20   \n",
       "4  9596  https://www.airbnb.com/rooms/9596  20231220185704   2023-12-21   \n",
       "\n",
       "            source                                               name  \\\n",
       "0      city scrape  Guesthouse in Seattle · ★4.60 · 1 bedroom · 1 ...   \n",
       "1      city scrape  Rental unit in Seattle · ★4.72 · 1 bedroom · 1...   \n",
       "2      city scrape  Home in Seattle · ★4.97 · 2 bedrooms · 3 beds ...   \n",
       "3      city scrape  Guest suite in Seattle · ★4.99 · 2 bedrooms · ...   \n",
       "4  previous scrape  Rental unit in Seattle · ★4.56 · 1 bedroom · 4...   \n",
       "\n",
       "   description                              neighborhood_overview  \\\n",
       "0          NaN  A peaceful yet highly accessible neighborhood,...   \n",
       "1          NaN  Lots of restaurants (see our guide book) bars,...   \n",
       "2          NaN  The neighborhood is awesome!  Just far enough ...   \n",
       "3          NaN  The neighborhood is the best of two worlds...w...   \n",
       "4          NaN  if you arrive early for check in at 3,  I reco...   \n",
       "\n",
       "                                         picture_url  host_id  ...  \\\n",
       "0  https://a0.muscache.com/pictures/45742/21116d7...    14942  ...   \n",
       "1  https://a0.muscache.com/pictures/56645186/e5fb...    30559  ...   \n",
       "2  https://a0.muscache.com/pictures/30470355/052c...    31481  ...   \n",
       "3  https://a0.muscache.com/pictures/30476721/0751...    31481  ...   \n",
       "4  https://a0.muscache.com/pictures/665252/102d18...    14942  ...   \n",
       "\n",
       "  instant_bookable calculated_host_listings_count  \\\n",
       "0                f                              2   \n",
       "1                f                              9   \n",
       "2                f                              2   \n",
       "3                f                              2   \n",
       "4                f                              2   \n",
       "\n",
       "  calculated_host_listings_count_entire_homes  \\\n",
       "0                                           2   \n",
       "1                                           0   \n",
       "2                                           2   \n",
       "3                                           2   \n",
       "4                                           2   \n",
       "\n",
       "  calculated_host_listings_count_private_rooms  \\\n",
       "0                                            0   \n",
       "1                                            9   \n",
       "2                                            0   \n",
       "3                                            0   \n",
       "4                                            0   \n",
       "\n",
       "  calculated_host_listings_count_shared_rooms reviews_per_month price_float  \\\n",
       "0                                           0              0.91        99.0   \n",
       "1                                           0              1.19        67.0   \n",
       "2                                           0              0.59       184.0   \n",
       "3                                           0              0.52       155.0   \n",
       "4                                           0              0.63         NaN   \n",
       "\n",
       "  review_count no_of_bathrooms shared  \n",
       "0          225             1.0      0  \n",
       "1           23             3.0      1  \n",
       "2           49             1.0      0  \n",
       "3           49             1.0      0  \n",
       "4          225             1.0      0  \n",
       "\n",
       "[5 rows x 79 columns]"
      ]
     },
     "execution_count": 35,
     "metadata": {},
     "output_type": "execute_result"
    }
   ],
   "source": [
    "list_df.head()"
   ]
  },
  {
   "cell_type": "code",
   "execution_count": 36,
   "id": "78ab7058",
   "metadata": {},
   "outputs": [
    {
     "data": {
      "text/plain": [
       "Entire home                           1842\n",
       "Entire rental unit                    1701\n",
       "Private room in home                   689\n",
       "Entire guest suite                     585\n",
       "Entire condo                           559\n",
       "Entire townhouse                       525\n",
       "Entire guesthouse                      269\n",
       "Private room in townhouse              108\n",
       "Entire serviced apartment               88\n",
       "Room in boutique hotel                  73\n",
       "Private room in rental unit             71\n",
       "Entire loft                             50\n",
       "Entire cottage                          48\n",
       "Room in hotel                           39\n",
       "Private room in guest suite             30\n",
       "Entire bungalow                         29\n",
       "Tiny home                               22\n",
       "Private room in bed and breakfast       21\n",
       "Entire vacation home                    18\n",
       "Private room in bungalow                11\n",
       "Private room in condo                   11\n",
       "Private room in villa                    8\n",
       "Entire villa                             6\n",
       "Entire cabin                             6\n",
       "Shared room in rental unit               6\n",
       "Houseboat                                6\n",
       "Room in aparthotel                       6\n",
       "Camper/RV                                5\n",
       "Boat                                     5\n",
       "Private room                             5\n",
       "Private room in serviced apartment       4\n",
       "Shared room                              4\n",
       "Shared room in home                      3\n",
       "Private room in loft                     3\n",
       "Entire place                             3\n",
       "Casa particular                          3\n",
       "Shared room in hostel                    2\n",
       "Private room in guesthouse               2\n",
       "Private room in boat                     2\n",
       "Private room in cottage                  2\n",
       "Farm stay                                1\n",
       "Private room in casa particular          1\n",
       "Bus                                      1\n",
       "Shared room in condo                     1\n",
       "Tent                                     1\n",
       "Shared room in bed and breakfast         1\n",
       "Private room in tiny home                1\n",
       "Shared room in townhouse                 1\n",
       "Shared room in loft                      1\n",
       "Private room in hostel                   1\n",
       "Private room in treehouse                1\n",
       "Barn                                     1\n",
       "Name: property_type, dtype: int64"
      ]
     },
     "execution_count": 36,
     "metadata": {},
     "output_type": "execute_result"
    }
   ],
   "source": [
    "list_df['property_type'].value_counts(dropna=False)"
   ]
  },
  {
   "cell_type": "code",
   "execution_count": 37,
   "id": "c3281c61",
   "metadata": {},
   "outputs": [
    {
     "data": {
      "text/plain": [
       "Entire home/apt    5780\n",
       "Private room       1083\n",
       "Shared room          19\n",
       "Name: room_type, dtype: int64"
      ]
     },
     "execution_count": 37,
     "metadata": {},
     "output_type": "execute_result"
    }
   ],
   "source": [
    "list_df['room_type'].value_counts(dropna=False)"
   ]
  },
  {
   "cell_type": "markdown",
   "id": "7009dc8f",
   "metadata": {},
   "source": [
    "Although property type contains more info than room type, I don't think encoding property type will add any value beyond what room type already does; what matters is whether the listing is an entire property, private room, or shared room. "
   ]
  },
  {
   "cell_type": "markdown",
   "id": "659dfcdf",
   "metadata": {},
   "source": [
    "Time to return to the missing prices. What can we learn about the properties with missing prices? "
   ]
  },
  {
   "cell_type": "markdown",
   "id": "df292056",
   "metadata": {},
   "source": [
    "There's also another source of price data, in the calendar dataframe. Let's see if this listing has price info there. "
   ]
  },
  {
   "cell_type": "code",
   "execution_count": 38,
   "id": "1019e20f",
   "metadata": {},
   "outputs": [
    {
     "data": {
      "text/html": [
       "<div>\n",
       "<style scoped>\n",
       "    .dataframe tbody tr th:only-of-type {\n",
       "        vertical-align: middle;\n",
       "    }\n",
       "\n",
       "    .dataframe tbody tr th {\n",
       "        vertical-align: top;\n",
       "    }\n",
       "\n",
       "    .dataframe thead th {\n",
       "        text-align: right;\n",
       "    }\n",
       "</style>\n",
       "<table border=\"1\" class=\"dataframe\">\n",
       "  <thead>\n",
       "    <tr style=\"text-align: right;\">\n",
       "      <th></th>\n",
       "      <th>listing_id</th>\n",
       "      <th>date</th>\n",
       "      <th>available</th>\n",
       "      <th>price</th>\n",
       "      <th>adjusted_price</th>\n",
       "      <th>minimum_nights</th>\n",
       "      <th>maximum_nights</th>\n",
       "    </tr>\n",
       "  </thead>\n",
       "  <tbody>\n",
       "    <tr>\n",
       "      <th>2488254</th>\n",
       "      <td>1042867741784045446</td>\n",
       "      <td>2023-12-21</td>\n",
       "      <td>f</td>\n",
       "      <td>$125.00</td>\n",
       "      <td>NaN</td>\n",
       "      <td>30.0</td>\n",
       "      <td>90.0</td>\n",
       "    </tr>\n",
       "    <tr>\n",
       "      <th>2488255</th>\n",
       "      <td>1042867741784045446</td>\n",
       "      <td>2023-12-22</td>\n",
       "      <td>t</td>\n",
       "      <td>$125.00</td>\n",
       "      <td>NaN</td>\n",
       "      <td>30.0</td>\n",
       "      <td>90.0</td>\n",
       "    </tr>\n",
       "    <tr>\n",
       "      <th>2488256</th>\n",
       "      <td>1042867741784045446</td>\n",
       "      <td>2023-12-23</td>\n",
       "      <td>t</td>\n",
       "      <td>$125.00</td>\n",
       "      <td>NaN</td>\n",
       "      <td>30.0</td>\n",
       "      <td>90.0</td>\n",
       "    </tr>\n",
       "    <tr>\n",
       "      <th>2488257</th>\n",
       "      <td>1042867741784045446</td>\n",
       "      <td>2023-12-24</td>\n",
       "      <td>t</td>\n",
       "      <td>$125.00</td>\n",
       "      <td>NaN</td>\n",
       "      <td>30.0</td>\n",
       "      <td>90.0</td>\n",
       "    </tr>\n",
       "    <tr>\n",
       "      <th>2488258</th>\n",
       "      <td>1042867741784045446</td>\n",
       "      <td>2023-12-25</td>\n",
       "      <td>t</td>\n",
       "      <td>$125.00</td>\n",
       "      <td>NaN</td>\n",
       "      <td>30.0</td>\n",
       "      <td>90.0</td>\n",
       "    </tr>\n",
       "    <tr>\n",
       "      <th>...</th>\n",
       "      <td>...</td>\n",
       "      <td>...</td>\n",
       "      <td>...</td>\n",
       "      <td>...</td>\n",
       "      <td>...</td>\n",
       "      <td>...</td>\n",
       "      <td>...</td>\n",
       "    </tr>\n",
       "    <tr>\n",
       "      <th>2488614</th>\n",
       "      <td>1042867741784045446</td>\n",
       "      <td>2024-12-15</td>\n",
       "      <td>f</td>\n",
       "      <td>$125.00</td>\n",
       "      <td>NaN</td>\n",
       "      <td>30.0</td>\n",
       "      <td>90.0</td>\n",
       "    </tr>\n",
       "    <tr>\n",
       "      <th>2488615</th>\n",
       "      <td>1042867741784045446</td>\n",
       "      <td>2024-12-16</td>\n",
       "      <td>f</td>\n",
       "      <td>$125.00</td>\n",
       "      <td>NaN</td>\n",
       "      <td>30.0</td>\n",
       "      <td>90.0</td>\n",
       "    </tr>\n",
       "    <tr>\n",
       "      <th>2488616</th>\n",
       "      <td>1042867741784045446</td>\n",
       "      <td>2024-12-17</td>\n",
       "      <td>f</td>\n",
       "      <td>$125.00</td>\n",
       "      <td>NaN</td>\n",
       "      <td>30.0</td>\n",
       "      <td>90.0</td>\n",
       "    </tr>\n",
       "    <tr>\n",
       "      <th>2488617</th>\n",
       "      <td>1042867741784045446</td>\n",
       "      <td>2024-12-18</td>\n",
       "      <td>f</td>\n",
       "      <td>$125.00</td>\n",
       "      <td>NaN</td>\n",
       "      <td>30.0</td>\n",
       "      <td>90.0</td>\n",
       "    </tr>\n",
       "    <tr>\n",
       "      <th>2488618</th>\n",
       "      <td>1042867741784045446</td>\n",
       "      <td>2024-12-19</td>\n",
       "      <td>f</td>\n",
       "      <td>$125.00</td>\n",
       "      <td>NaN</td>\n",
       "      <td>30.0</td>\n",
       "      <td>90.0</td>\n",
       "    </tr>\n",
       "  </tbody>\n",
       "</table>\n",
       "<p>365 rows × 7 columns</p>\n",
       "</div>"
      ],
      "text/plain": [
       "                  listing_id        date available    price  adjusted_price  \\\n",
       "2488254  1042867741784045446  2023-12-21         f  $125.00             NaN   \n",
       "2488255  1042867741784045446  2023-12-22         t  $125.00             NaN   \n",
       "2488256  1042867741784045446  2023-12-23         t  $125.00             NaN   \n",
       "2488257  1042867741784045446  2023-12-24         t  $125.00             NaN   \n",
       "2488258  1042867741784045446  2023-12-25         t  $125.00             NaN   \n",
       "...                      ...         ...       ...      ...             ...   \n",
       "2488614  1042867741784045446  2024-12-15         f  $125.00             NaN   \n",
       "2488615  1042867741784045446  2024-12-16         f  $125.00             NaN   \n",
       "2488616  1042867741784045446  2024-12-17         f  $125.00             NaN   \n",
       "2488617  1042867741784045446  2024-12-18         f  $125.00             NaN   \n",
       "2488618  1042867741784045446  2024-12-19         f  $125.00             NaN   \n",
       "\n",
       "         minimum_nights  maximum_nights  \n",
       "2488254            30.0            90.0  \n",
       "2488255            30.0            90.0  \n",
       "2488256            30.0            90.0  \n",
       "2488257            30.0            90.0  \n",
       "2488258            30.0            90.0  \n",
       "...                 ...             ...  \n",
       "2488614            30.0            90.0  \n",
       "2488615            30.0            90.0  \n",
       "2488616            30.0            90.0  \n",
       "2488617            30.0            90.0  \n",
       "2488618            30.0            90.0  \n",
       "\n",
       "[365 rows x 7 columns]"
      ]
     },
     "execution_count": 38,
     "metadata": {},
     "output_type": "execute_result"
    }
   ],
   "source": [
    "cal_df[cal_df[\"listing_id\"] == 1042867741784045446]"
   ]
  },
  {
   "cell_type": "markdown",
   "id": "091918a6",
   "metadata": {},
   "source": [
    "Aha! The calendar dataframe may have the info we need for price. "
   ]
  },
  {
   "cell_type": "code",
   "execution_count": 39,
   "id": "4f4919ec",
   "metadata": {},
   "outputs": [
    {
     "data": {
      "text/plain": [
       "$150.00      70458\n",
       "$100.00      67868\n",
       "$125.00      60241\n",
       "$250.00      54758\n",
       "$200.00      47457\n",
       "             ...  \n",
       "$36.00         365\n",
       "$316.00        365\n",
       "$795.00        365\n",
       "$1,051.00      365\n",
       "$616.00        365\n",
       "Name: price, Length: 526, dtype: int64"
      ]
     },
     "execution_count": 39,
     "metadata": {},
     "output_type": "execute_result"
    }
   ],
   "source": [
    "cal_df['price'].value_counts(dropna=False)"
   ]
  },
  {
   "cell_type": "code",
   "execution_count": 40,
   "id": "cb4c5863",
   "metadata": {
    "scrolled": false
   },
   "outputs": [
    {
     "data": {
      "text/plain": [
       "0"
      ]
     },
     "execution_count": 40,
     "metadata": {},
     "output_type": "execute_result"
    }
   ],
   "source": [
    "cal_df['price'].isnull().sum()"
   ]
  },
  {
   "cell_type": "markdown",
   "id": "d0e56202",
   "metadata": {},
   "source": [
    "Perfect. There are no properties with missing prices. Let's turn them into numbers and figure out how to combine them with the listing dataframe. "
   ]
  },
  {
   "cell_type": "code",
   "execution_count": 41,
   "id": "aea343eb",
   "metadata": {},
   "outputs": [],
   "source": [
    "cal_df['price_float'] = cal_df['price'].str.split(\"$\").str[1]\n",
    "cal_df['price_float'] = cal_df['price_float'].str.replace(\",\",\"\")\n",
    "cal_df['price_float'] = cal_df['price_float'].astype('float64')"
   ]
  },
  {
   "cell_type": "markdown",
   "id": "53dba80f",
   "metadata": {},
   "source": [
    "Great. There's a line in the calendar dataframe for every night in the next year; we don't need to bring each of those lines into this new database. We can create a new dataframe that groups each listing by the mean that will have the same number of rows as our listing dataframe. "
   ]
  },
  {
   "cell_type": "code",
   "execution_count": 42,
   "id": "65255cdf",
   "metadata": {},
   "outputs": [],
   "source": [
    "df3 = cal_df.groupby('listing_id').mean().reset_index()"
   ]
  },
  {
   "cell_type": "code",
   "execution_count": 43,
   "id": "ab3614b6",
   "metadata": {
    "scrolled": true
   },
   "outputs": [
    {
     "name": "stdout",
     "output_type": "stream",
     "text": [
      "<class 'pandas.core.frame.DataFrame'>\n",
      "RangeIndex: 6882 entries, 0 to 6881\n",
      "Data columns (total 5 columns):\n",
      " #   Column          Non-Null Count  Dtype  \n",
      "---  ------          --------------  -----  \n",
      " 0   listing_id      6882 non-null   int64  \n",
      " 1   adjusted_price  0 non-null      float64\n",
      " 2   minimum_nights  6882 non-null   float64\n",
      " 3   maximum_nights  6882 non-null   float64\n",
      " 4   price_float     6882 non-null   float64\n",
      "dtypes: float64(4), int64(1)\n",
      "memory usage: 269.0 KB\n"
     ]
    }
   ],
   "source": [
    "df3.info()"
   ]
  },
  {
   "cell_type": "markdown",
   "id": "20366cb4",
   "metadata": {},
   "source": [
    "Perfect. Now we can merge this mean price dataframe into the listing data frame. "
   ]
  },
  {
   "cell_type": "code",
   "execution_count": 44,
   "id": "8c9bd40a",
   "metadata": {},
   "outputs": [],
   "source": [
    "merged_df = list_df.merge(df3, left_on='id', right_on='listing_id')"
   ]
  },
  {
   "cell_type": "code",
   "execution_count": 45,
   "id": "c7f8a2d3",
   "metadata": {
    "scrolled": true
   },
   "outputs": [
    {
     "name": "stdout",
     "output_type": "stream",
     "text": [
      "<class 'pandas.core.frame.DataFrame'>\n",
      "Int64Index: 6882 entries, 0 to 6881\n",
      "Data columns (total 84 columns):\n",
      " #   Column                                        Non-Null Count  Dtype  \n",
      "---  ------                                        --------------  -----  \n",
      " 0   id                                            6882 non-null   int64  \n",
      " 1   listing_url                                   6882 non-null   object \n",
      " 2   scrape_id                                     6882 non-null   int64  \n",
      " 3   last_scraped                                  6882 non-null   object \n",
      " 4   source                                        6882 non-null   object \n",
      " 5   name                                          6882 non-null   object \n",
      " 6   description                                   0 non-null      float64\n",
      " 7   neighborhood_overview                         5013 non-null   object \n",
      " 8   picture_url                                   6882 non-null   object \n",
      " 9   host_id                                       6882 non-null   int64  \n",
      " 10  host_url                                      6882 non-null   object \n",
      " 11  host_name                                     6882 non-null   object \n",
      " 12  host_since                                    6882 non-null   object \n",
      " 13  host_location                                 5816 non-null   object \n",
      " 14  host_about                                    4747 non-null   object \n",
      " 15  host_response_time                            5940 non-null   object \n",
      " 16  host_response_rate                            5940 non-null   object \n",
      " 17  host_acceptance_rate                          6297 non-null   object \n",
      " 18  host_is_superhost                             6864 non-null   object \n",
      " 19  host_thumbnail_url                            6882 non-null   object \n",
      " 20  host_picture_url                              6882 non-null   object \n",
      " 21  host_neighbourhood                            6552 non-null   object \n",
      " 22  host_listings_count                           6882 non-null   int64  \n",
      " 23  host_total_listings_count                     6882 non-null   int64  \n",
      " 24  host_verifications                            6882 non-null   object \n",
      " 25  host_has_profile_pic                          6882 non-null   object \n",
      " 26  host_identity_verified                        6882 non-null   object \n",
      " 27  neighbourhood                                 5013 non-null   object \n",
      " 28  neighbourhood_cleansed                        6882 non-null   object \n",
      " 29  neighbourhood_group_cleansed                  6882 non-null   object \n",
      " 30  latitude                                      6882 non-null   float64\n",
      " 31  longitude                                     6882 non-null   float64\n",
      " 32  property_type                                 6882 non-null   object \n",
      " 33  room_type                                     6882 non-null   object \n",
      " 34  accommodates                                  6882 non-null   int64  \n",
      " 35  bathrooms                                     0 non-null      float64\n",
      " 36  bathrooms_text                                6882 non-null   object \n",
      " 37  bedrooms                                      0 non-null      float64\n",
      " 38  beds                                          6826 non-null   float64\n",
      " 39  amenities                                     6882 non-null   object \n",
      " 40  price                                         6504 non-null   object \n",
      " 41  minimum_nights_x                              6882 non-null   int64  \n",
      " 42  maximum_nights_x                              6882 non-null   int64  \n",
      " 43  minimum_minimum_nights                        6882 non-null   int64  \n",
      " 44  maximum_minimum_nights                        6882 non-null   int64  \n",
      " 45  minimum_maximum_nights                        6882 non-null   int64  \n",
      " 46  maximum_maximum_nights                        6882 non-null   int64  \n",
      " 47  minimum_nights_avg_ntm                        6882 non-null   float64\n",
      " 48  maximum_nights_avg_ntm                        6882 non-null   float64\n",
      " 49  calendar_updated                              0 non-null      float64\n",
      " 50  has_availability                              6504 non-null   object \n",
      " 51  availability_30                               6882 non-null   int64  \n",
      " 52  availability_60                               6882 non-null   int64  \n",
      " 53  availability_90                               6882 non-null   int64  \n",
      " 54  availability_365                              6882 non-null   int64  \n",
      " 55  calendar_last_scraped                         6882 non-null   object \n",
      " 56  number_of_reviews                             6882 non-null   int64  \n",
      " 57  number_of_reviews_ltm                         6882 non-null   int64  \n",
      " 58  number_of_reviews_l30d                        6882 non-null   int64  \n",
      " 59  first_review                                  5809 non-null   object \n",
      " 60  last_review                                   5809 non-null   object \n",
      " 61  review_scores_rating                          5812 non-null   float64\n",
      " 62  review_scores_accuracy                        5812 non-null   float64\n",
      " 63  review_scores_cleanliness                     5812 non-null   float64\n",
      " 64  review_scores_checkin                         5812 non-null   float64\n",
      " 65  review_scores_communication                   5812 non-null   float64\n",
      " 66  review_scores_location                        5812 non-null   float64\n",
      " 67  review_scores_value                           5811 non-null   float64\n",
      " 68  license                                       5462 non-null   object \n",
      " 69  instant_bookable                              6882 non-null   object \n",
      " 70  calculated_host_listings_count                6882 non-null   int64  \n",
      " 71  calculated_host_listings_count_entire_homes   6882 non-null   int64  \n",
      " 72  calculated_host_listings_count_private_rooms  6882 non-null   int64  \n",
      " 73  calculated_host_listings_count_shared_rooms   6882 non-null   int64  \n",
      " 74  reviews_per_month                             5809 non-null   float64\n",
      " 75  price_float_x                                 6504 non-null   float64\n",
      " 76  review_count                                  6882 non-null   int64  \n",
      " 77  no_of_bathrooms                               6882 non-null   float64\n",
      " 78  shared                                        6882 non-null   int32  \n",
      " 79  listing_id                                    6882 non-null   int64  \n",
      " 80  adjusted_price                                0 non-null      float64\n",
      " 81  minimum_nights_y                              6882 non-null   float64\n",
      " 82  maximum_nights_y                              6882 non-null   float64\n",
      " 83  price_float_y                                 6882 non-null   float64\n",
      "dtypes: float64(23), int32(1), int64(25), object(35)\n",
      "memory usage: 4.4+ MB\n"
     ]
    }
   ],
   "source": [
    "merged_df.info()"
   ]
  },
  {
   "cell_type": "code",
   "execution_count": 46,
   "id": "006403ae",
   "metadata": {},
   "outputs": [
    {
     "data": {
      "text/plain": [
       "('instant_bookable', 'no_of_bathrooms', 'shared')"
      ]
     },
     "execution_count": 46,
     "metadata": {},
     "output_type": "execute_result"
    }
   ],
   "source": [
    "\"neighbourhood_cleansed\",\"neighbourhood_group_cleansed\",\"room_type\",\"accommodates\",\"beds\",\"minimum_nights_avg_ntm\",\"maximum_nights_avg_ntm\",\"review_scores_rating\",\n",
    "\"review_scores_accuracy\",\"review_scores_cleanliness\",\"review_scores_checkin\",\"review_scores_communication\",\"review_scores_location\",\"review_scores_value\",\n",
    "\"instant_bookable\",\"no_of_bathrooms\",\"shared\""
   ]
  },
  {
   "cell_type": "code",
   "execution_count": 47,
   "id": "7a202d28",
   "metadata": {},
   "outputs": [
    {
     "data": {
      "text/plain": [
       "150.0    193\n",
       "100.0    186\n",
       "125.0    165\n",
       "250.0    150\n",
       "200.0    130\n",
       "        ... \n",
       "331.0      1\n",
       "364.0      1\n",
       "530.0      1\n",
       "316.0      1\n",
       "616.0      1\n",
       "Name: price_float_y, Length: 527, dtype: int64"
      ]
     },
     "execution_count": 47,
     "metadata": {},
     "output_type": "execute_result"
    }
   ],
   "source": [
    "merged_df['price_float_y'].value_counts(dropna=False)"
   ]
  },
  {
   "cell_type": "code",
   "execution_count": 48,
   "id": "c35d3751",
   "metadata": {},
   "outputs": [
    {
     "data": {
      "text/plain": [
       "0"
      ]
     },
     "execution_count": 48,
     "metadata": {},
     "output_type": "execute_result"
    }
   ],
   "source": [
    "merged_df['price_float_y'].isnull().sum()"
   ]
  },
  {
   "cell_type": "markdown",
   "id": "edb1d38f",
   "metadata": {},
   "source": [
    "Excellent. Every listing has a price pulled from the listing dataframe. \n",
    "\n",
    "Now that we've been able to impute the missing price information, let's look at properties that have no reviews. "
   ]
  },
  {
   "cell_type": "code",
   "execution_count": 49,
   "id": "a5587057",
   "metadata": {},
   "outputs": [],
   "source": [
    "no_reviews_df = list_df[list_df['review_scores_rating'].isnull()]"
   ]
  },
  {
   "cell_type": "code",
   "execution_count": 50,
   "id": "5aabb7b4",
   "metadata": {
    "scrolled": true
   },
   "outputs": [
    {
     "data": {
      "text/html": [
       "<div>\n",
       "<style scoped>\n",
       "    .dataframe tbody tr th:only-of-type {\n",
       "        vertical-align: middle;\n",
       "    }\n",
       "\n",
       "    .dataframe tbody tr th {\n",
       "        vertical-align: top;\n",
       "    }\n",
       "\n",
       "    .dataframe thead th {\n",
       "        text-align: right;\n",
       "    }\n",
       "</style>\n",
       "<table border=\"1\" class=\"dataframe\">\n",
       "  <thead>\n",
       "    <tr style=\"text-align: right;\">\n",
       "      <th></th>\n",
       "      <th>id</th>\n",
       "      <th>listing_url</th>\n",
       "      <th>scrape_id</th>\n",
       "      <th>last_scraped</th>\n",
       "      <th>source</th>\n",
       "      <th>name</th>\n",
       "      <th>description</th>\n",
       "      <th>neighborhood_overview</th>\n",
       "      <th>picture_url</th>\n",
       "      <th>host_id</th>\n",
       "      <th>...</th>\n",
       "      <th>instant_bookable</th>\n",
       "      <th>calculated_host_listings_count</th>\n",
       "      <th>calculated_host_listings_count_entire_homes</th>\n",
       "      <th>calculated_host_listings_count_private_rooms</th>\n",
       "      <th>calculated_host_listings_count_shared_rooms</th>\n",
       "      <th>reviews_per_month</th>\n",
       "      <th>price_float</th>\n",
       "      <th>review_count</th>\n",
       "      <th>no_of_bathrooms</th>\n",
       "      <th>shared</th>\n",
       "    </tr>\n",
       "  </thead>\n",
       "  <tbody>\n",
       "    <tr>\n",
       "      <th>28</th>\n",
       "      <td>340738</td>\n",
       "      <td>https://www.airbnb.com/rooms/340738</td>\n",
       "      <td>20231220185704</td>\n",
       "      <td>2023-12-21</td>\n",
       "      <td>previous scrape</td>\n",
       "      <td>Rental unit in Seattle · 2 bedrooms · 2 beds ·...</td>\n",
       "      <td>NaN</td>\n",
       "      <td>NaN</td>\n",
       "      <td>https://a0.muscache.com/pictures/c5a0b674-18b5...</td>\n",
       "      <td>1729224</td>\n",
       "      <td>...</td>\n",
       "      <td>f</td>\n",
       "      <td>6</td>\n",
       "      <td>6</td>\n",
       "      <td>0</td>\n",
       "      <td>0</td>\n",
       "      <td>NaN</td>\n",
       "      <td>495.0</td>\n",
       "      <td>120</td>\n",
       "      <td>1.0</td>\n",
       "      <td>0</td>\n",
       "    </tr>\n",
       "    <tr>\n",
       "      <th>38</th>\n",
       "      <td>408526</td>\n",
       "      <td>https://www.airbnb.com/rooms/408526</td>\n",
       "      <td>20231220185704</td>\n",
       "      <td>2023-12-21</td>\n",
       "      <td>city scrape</td>\n",
       "      <td>Home in Seattle · 3 bedrooms · 3 beds · 4 baths</td>\n",
       "      <td>NaN</td>\n",
       "      <td>Cherry blossoms (Sakura) in the spring, everyt...</td>\n",
       "      <td>https://a0.muscache.com/pictures/26753241/c47d...</td>\n",
       "      <td>2034501</td>\n",
       "      <td>...</td>\n",
       "      <td>f</td>\n",
       "      <td>1</td>\n",
       "      <td>1</td>\n",
       "      <td>0</td>\n",
       "      <td>0</td>\n",
       "      <td>NaN</td>\n",
       "      <td>221.0</td>\n",
       "      <td>84</td>\n",
       "      <td>4.0</td>\n",
       "      <td>0</td>\n",
       "    </tr>\n",
       "    <tr>\n",
       "      <th>218</th>\n",
       "      <td>3114514</td>\n",
       "      <td>https://www.airbnb.com/rooms/3114514</td>\n",
       "      <td>20231220185704</td>\n",
       "      <td>2023-12-21</td>\n",
       "      <td>city scrape</td>\n",
       "      <td>Rental unit in Seattle · Studio · 1 bed · 1 bath</td>\n",
       "      <td>NaN</td>\n",
       "      <td>Great neighborhood full of new and old buildin...</td>\n",
       "      <td>https://a0.muscache.com/pictures/31707d7d-b4da...</td>\n",
       "      <td>15825781</td>\n",
       "      <td>...</td>\n",
       "      <td>f</td>\n",
       "      <td>1</td>\n",
       "      <td>1</td>\n",
       "      <td>0</td>\n",
       "      <td>0</td>\n",
       "      <td>NaN</td>\n",
       "      <td>84.0</td>\n",
       "      <td>313</td>\n",
       "      <td>1.0</td>\n",
       "      <td>0</td>\n",
       "    </tr>\n",
       "    <tr>\n",
       "      <th>256</th>\n",
       "      <td>3773845</td>\n",
       "      <td>https://www.airbnb.com/rooms/3773845</td>\n",
       "      <td>20231220185704</td>\n",
       "      <td>2023-12-21</td>\n",
       "      <td>previous scrape</td>\n",
       "      <td>Home in Seattle · 1 bedroom · 1 bed · 1 bath</td>\n",
       "      <td>NaN</td>\n",
       "      <td>NaN</td>\n",
       "      <td>https://a0.muscache.com/pictures/47487359/36cc...</td>\n",
       "      <td>19346435</td>\n",
       "      <td>...</td>\n",
       "      <td>f</td>\n",
       "      <td>1</td>\n",
       "      <td>0</td>\n",
       "      <td>1</td>\n",
       "      <td>0</td>\n",
       "      <td>NaN</td>\n",
       "      <td>13.0</td>\n",
       "      <td>150</td>\n",
       "      <td>1.0</td>\n",
       "      <td>0</td>\n",
       "    </tr>\n",
       "    <tr>\n",
       "      <th>283</th>\n",
       "      <td>4276672</td>\n",
       "      <td>https://www.airbnb.com/rooms/4276672</td>\n",
       "      <td>20231220185704</td>\n",
       "      <td>2023-12-20</td>\n",
       "      <td>city scrape</td>\n",
       "      <td>Home in Seattle · 1 bedroom · 1 bed · 1 bath</td>\n",
       "      <td>NaN</td>\n",
       "      <td>NaN</td>\n",
       "      <td>https://a0.muscache.com/pictures/miso/Hosting-...</td>\n",
       "      <td>2824268</td>\n",
       "      <td>...</td>\n",
       "      <td>f</td>\n",
       "      <td>2</td>\n",
       "      <td>2</td>\n",
       "      <td>0</td>\n",
       "      <td>0</td>\n",
       "      <td>NaN</td>\n",
       "      <td>125.0</td>\n",
       "      <td>0</td>\n",
       "      <td>1.0</td>\n",
       "      <td>0</td>\n",
       "    </tr>\n",
       "  </tbody>\n",
       "</table>\n",
       "<p>5 rows × 79 columns</p>\n",
       "</div>"
      ],
      "text/plain": [
       "          id                           listing_url       scrape_id  \\\n",
       "28    340738   https://www.airbnb.com/rooms/340738  20231220185704   \n",
       "38    408526   https://www.airbnb.com/rooms/408526  20231220185704   \n",
       "218  3114514  https://www.airbnb.com/rooms/3114514  20231220185704   \n",
       "256  3773845  https://www.airbnb.com/rooms/3773845  20231220185704   \n",
       "283  4276672  https://www.airbnb.com/rooms/4276672  20231220185704   \n",
       "\n",
       "    last_scraped           source  \\\n",
       "28    2023-12-21  previous scrape   \n",
       "38    2023-12-21      city scrape   \n",
       "218   2023-12-21      city scrape   \n",
       "256   2023-12-21  previous scrape   \n",
       "283   2023-12-20      city scrape   \n",
       "\n",
       "                                                  name  description  \\\n",
       "28   Rental unit in Seattle · 2 bedrooms · 2 beds ·...          NaN   \n",
       "38     Home in Seattle · 3 bedrooms · 3 beds · 4 baths          NaN   \n",
       "218   Rental unit in Seattle · Studio · 1 bed · 1 bath          NaN   \n",
       "256       Home in Seattle · 1 bedroom · 1 bed · 1 bath          NaN   \n",
       "283       Home in Seattle · 1 bedroom · 1 bed · 1 bath          NaN   \n",
       "\n",
       "                                 neighborhood_overview  \\\n",
       "28                                                 NaN   \n",
       "38   Cherry blossoms (Sakura) in the spring, everyt...   \n",
       "218  Great neighborhood full of new and old buildin...   \n",
       "256                                                NaN   \n",
       "283                                                NaN   \n",
       "\n",
       "                                           picture_url   host_id  ...  \\\n",
       "28   https://a0.muscache.com/pictures/c5a0b674-18b5...   1729224  ...   \n",
       "38   https://a0.muscache.com/pictures/26753241/c47d...   2034501  ...   \n",
       "218  https://a0.muscache.com/pictures/31707d7d-b4da...  15825781  ...   \n",
       "256  https://a0.muscache.com/pictures/47487359/36cc...  19346435  ...   \n",
       "283  https://a0.muscache.com/pictures/miso/Hosting-...   2824268  ...   \n",
       "\n",
       "    instant_bookable calculated_host_listings_count  \\\n",
       "28                 f                              6   \n",
       "38                 f                              1   \n",
       "218                f                              1   \n",
       "256                f                              1   \n",
       "283                f                              2   \n",
       "\n",
       "    calculated_host_listings_count_entire_homes  \\\n",
       "28                                            6   \n",
       "38                                            1   \n",
       "218                                           1   \n",
       "256                                           0   \n",
       "283                                           2   \n",
       "\n",
       "    calculated_host_listings_count_private_rooms  \\\n",
       "28                                             0   \n",
       "38                                             0   \n",
       "218                                            0   \n",
       "256                                            1   \n",
       "283                                            0   \n",
       "\n",
       "    calculated_host_listings_count_shared_rooms reviews_per_month price_float  \\\n",
       "28                                            0               NaN       495.0   \n",
       "38                                            0               NaN       221.0   \n",
       "218                                           0               NaN        84.0   \n",
       "256                                           0               NaN        13.0   \n",
       "283                                           0               NaN       125.0   \n",
       "\n",
       "    review_count no_of_bathrooms shared  \n",
       "28           120             1.0      0  \n",
       "38            84             4.0      0  \n",
       "218          313             1.0      0  \n",
       "256          150             1.0      0  \n",
       "283            0             1.0      0  \n",
       "\n",
       "[5 rows x 79 columns]"
      ]
     },
     "execution_count": 50,
     "metadata": {},
     "output_type": "execute_result"
    }
   ],
   "source": [
    "no_reviews_df.head()"
   ]
  },
  {
   "cell_type": "code",
   "execution_count": 51,
   "id": "47f7242a",
   "metadata": {},
   "outputs": [
    {
     "data": {
      "text/plain": [
       "NaN    1070\n",
       "Name: review_scores_rating, dtype: int64"
      ]
     },
     "execution_count": 51,
     "metadata": {},
     "output_type": "execute_result"
    }
   ],
   "source": [
    "no_reviews_df['review_scores_rating'].value_counts(dropna=False)"
   ]
  },
  {
   "cell_type": "code",
   "execution_count": 52,
   "id": "1e20e38a",
   "metadata": {
    "scrolled": false
   },
   "outputs": [
    {
     "data": {
      "text/plain": [
       "t      993\n",
       "NaN     71\n",
       "f        6\n",
       "Name: has_availability, dtype: int64"
      ]
     },
     "execution_count": 52,
     "metadata": {},
     "output_type": "execute_result"
    }
   ],
   "source": [
    "no_reviews_df['has_availability'].value_counts(dropna=False)"
   ]
  },
  {
   "cell_type": "code",
   "execution_count": 53,
   "id": "bfb304a7",
   "metadata": {},
   "outputs": [
    {
     "data": {
      "text/plain": [
       "389    286\n",
       "1      247\n",
       "2       67\n",
       "69      63\n",
       "54      45\n",
       "49      35\n",
       "5       29\n",
       "30      29\n",
       "3       28\n",
       "6       27\n",
       "4       25\n",
       "14      25\n",
       "7       24\n",
       "42      24\n",
       "13      20\n",
       "8       19\n",
       "23      17\n",
       "9       11\n",
       "12       9\n",
       "25       8\n",
       "10       7\n",
       "29       6\n",
       "11       5\n",
       "19       4\n",
       "83       3\n",
       "15       2\n",
       "26       2\n",
       "45       1\n",
       "70       1\n",
       "56       1\n",
       "Name: calculated_host_listings_count, dtype: int64"
      ]
     },
     "execution_count": 53,
     "metadata": {},
     "output_type": "execute_result"
    }
   ],
   "source": [
    "no_reviews_df['calculated_host_listings_count'].value_counts(dropna=False)"
   ]
  },
  {
   "cell_type": "code",
   "execution_count": 54,
   "id": "674d5a87",
   "metadata": {},
   "outputs": [
    {
     "data": {
      "text/plain": [
       "1      2858\n",
       "2       896\n",
       "389     389\n",
       "3       378\n",
       "4       212\n",
       "6       198\n",
       "5       190\n",
       "7       133\n",
       "116     116\n",
       "14      112\n",
       "54      108\n",
       "8        96\n",
       "83       83\n",
       "11       77\n",
       "25       75\n",
       "70       70\n",
       "10       70\n",
       "69       69\n",
       "9        63\n",
       "29       58\n",
       "56       56\n",
       "49       49\n",
       "48       48\n",
       "12       48\n",
       "45       45\n",
       "15       45\n",
       "42       42\n",
       "13       39\n",
       "19       38\n",
       "17       34\n",
       "34       34\n",
       "16       32\n",
       "30       30\n",
       "26       26\n",
       "23       23\n",
       "22       22\n",
       "20       20\n",
       "Name: calculated_host_listings_count, dtype: int64"
      ]
     },
     "execution_count": 54,
     "metadata": {},
     "output_type": "execute_result"
    }
   ],
   "source": [
    "list_df['calculated_host_listings_count'].value_counts(dropna=False)"
   ]
  },
  {
   "cell_type": "code",
   "execution_count": 55,
   "id": "1182bef5",
   "metadata": {},
   "outputs": [
    {
     "data": {
      "text/plain": [
       "NaN        71\n",
       "$400.00    29\n",
       "$79.00     16\n",
       "$90.00     14\n",
       "$200.00    14\n",
       "           ..\n",
       "$237.00     1\n",
       "$167.00     1\n",
       "$184.00     1\n",
       "$420.00     1\n",
       "$269.00     1\n",
       "Name: price, Length: 296, dtype: int64"
      ]
     },
     "execution_count": 55,
     "metadata": {},
     "output_type": "execute_result"
    }
   ],
   "source": [
    "no_reviews_df['price'].value_counts(dropna=False)\n"
   ]
  },
  {
   "cell_type": "code",
   "execution_count": 56,
   "id": "b6b825ef",
   "metadata": {},
   "outputs": [
    {
     "data": {
      "text/plain": [
       "2016-12-16    286\n",
       "2019-05-22     63\n",
       "2023-02-20     41\n",
       "2022-10-24     38\n",
       "2018-05-19     35\n",
       "             ... \n",
       "2016-04-27      1\n",
       "2021-12-30      1\n",
       "2022-10-20      1\n",
       "2017-03-06      1\n",
       "2017-03-30      1\n",
       "Name: host_since, Length: 402, dtype: int64"
      ]
     },
     "execution_count": 56,
     "metadata": {},
     "output_type": "execute_result"
    }
   ],
   "source": [
    "no_reviews_df['host_since'].value_counts(dropna=False)"
   ]
  },
  {
   "cell_type": "markdown",
   "id": "f2819fe3",
   "metadata": {},
   "source": [
    "There is nothing that stands out about why these listings are unlike the others. Most of them have availability. It's no more likely than the original listing dataframe that the host only has this one property (although there is someone with 389 properties and fully 286 don't have a single review!). The prices cover similar ranges. The hosts aren't obviously all new hosts. There is no column that can tell us how many stays a place has had or when the listing was added, both of which might differ for listings with and without reviews. But given the information available, there is no reason to think that the properties without reviews systematically differ from those with reviews, so I will use mean imputation for the review column and all its subtypes. "
   ]
  },
  {
   "cell_type": "markdown",
   "id": "34b0be96",
   "metadata": {},
   "source": [
    "### What predicts price?\n",
    "\n",
    "Now that the data is in good shape, let's build our dataframe for the training model. I'm using a selection of variables that I think are most likely to influence price: neighborhood, review scores, number of beds and bathrooms, minimum and maximum nights, shared or private bathrooms and rooms and whether the property can be booked instantly. I'm excluding the number of reviews; price likely impacts number of reviews, which is not the casaul direction I'm interested in right now. \n",
    "\n",
    "To build the dataframe, I'll write a function to do the remaining steps to clean the data: divide the data into two dataframes, impute the means for numeric columns, and create categorical variables for the string columns. \n",
    "\n",
    "I'm starting with specific neighborhoods, and I'll also look at neighborhood groups in the next model. The neighborhood groups model is a subset model of the neighborhoods model, since every neighborhood is sorted into a neighborhood group. I'll be able to compare which does a better job at predicting price. "
   ]
  },
  {
   "cell_type": "code",
   "execution_count": 57,
   "id": "98088a73",
   "metadata": {
    "scrolled": true
   },
   "outputs": [
    {
     "name": "stderr",
     "output_type": "stream",
     "text": [
      "C:\\Users\\Darcy\\AppData\\Local\\Temp\\ipykernel_43556\\4230153802.py:27: SettingWithCopyWarning: \n",
      "A value is trying to be set on a copy of a slice from a DataFrame\n",
      "\n",
      "See the caveats in the documentation: https://pandas.pydata.org/pandas-docs/stable/user_guide/indexing.html#returning-a-view-versus-a-copy\n",
      "  df[col].fillna((df[col].mean()), inplace=True)\n"
     ]
    }
   ],
   "source": [
    "def clean_data(df, x, y):\n",
    "    '''\n",
    "    INPUT\n",
    "    df - pandas dataframe \n",
    "    \n",
    "    OUTPUT\n",
    "    X - A matrix holding all of the variables you want to consider when predicting the response\n",
    "    y - the corresponding response vector\n",
    "    \n",
    "    This function cleans df using the following steps to produce X and y:\n",
    "    1. Drop all the rows with no salaries\n",
    "    2. Create X as all the columns that are not the Salary column\n",
    "    3. Create y as the Salary column\n",
    "    4. Drop the Salary, Respondent, and the ExpectedSalary columns from X\n",
    "    5. For each numeric variable in X, fill the column with the mean value of the column.\n",
    "    6. Create dummy columns for all the categorical variables in X, drop the original columns\n",
    "    '''\n",
    "    #Use the relevant y variable\n",
    "    y = df[y]\n",
    "    \n",
    "    #Use the relevant x variables\n",
    "    df = df[x]\n",
    "    \n",
    "    # Fill numeric columns with the mean\n",
    "    num_vars = df.select_dtypes(include=['float', 'int']).columns\n",
    "    for col in num_vars:\n",
    "        df[col].fillna((df[col].mean()), inplace=True)\n",
    "        \n",
    "    # Dummy the categorical variables\n",
    "    cat_vars = df.select_dtypes(include=['object']).copy().columns\n",
    "    for var in  cat_vars:\n",
    "        # for each cat add dummy var, drop original column\n",
    "        df = pd.concat([df.drop(var, axis=1), pd.get_dummies(df[var], prefix=var, prefix_sep='_', drop_first=True)], axis=1)\n",
    "    \n",
    "    X = df\n",
    "    return X, y\n",
    "    \n",
    "#Use the function to create X and y\n",
    "X, y = clean_data(merged_df,[\"neighbourhood_cleansed\",\"room_type\",\"accommodates\",\"beds\",\"minimum_nights_avg_ntm\",\"maximum_nights_avg_ntm\",\"review_scores_rating\",\n",
    "\"review_scores_accuracy\",\"review_scores_cleanliness\",\"review_scores_checkin\",\"review_scores_communication\",\"review_scores_location\",\"review_scores_value\",\n",
    "\"instant_bookable\",\"no_of_bathrooms\",\"shared\"] , 'price_float_y')    "
   ]
  },
  {
   "cell_type": "code",
   "execution_count": 58,
   "id": "99a809d1",
   "metadata": {
    "scrolled": false
   },
   "outputs": [
    {
     "name": "stdout",
     "output_type": "stream",
     "text": [
      "<class 'pandas.core.frame.DataFrame'>\n",
      "Int64Index: 6882 entries, 0 to 6881\n",
      "Columns: 104 entries, accommodates to instant_bookable_t\n",
      "dtypes: float64(11), int32(1), int64(1), uint8(91)\n",
      "memory usage: 1.3 MB\n"
     ]
    }
   ],
   "source": [
    "X.info()"
   ]
  },
  {
   "cell_type": "code",
   "execution_count": 59,
   "id": "0bb788f0",
   "metadata": {
    "scrolled": true
   },
   "outputs": [
    {
     "data": {
      "text/plain": [
       "0     90.0\n",
       "1     62.0\n",
       "2    175.0\n",
       "3    125.0\n",
       "4    120.0\n",
       "Name: price_float_y, dtype: float64"
      ]
     },
     "execution_count": 59,
     "metadata": {},
     "output_type": "execute_result"
    }
   ],
   "source": [
    "y.head()"
   ]
  },
  {
   "cell_type": "markdown",
   "id": "83077f25",
   "metadata": {},
   "source": [
    "Now, let's train the model. "
   ]
  },
  {
   "cell_type": "code",
   "execution_count": 60,
   "id": "fc5cf636",
   "metadata": {},
   "outputs": [
    {
     "data": {
      "text/plain": [
       "'The r-squared score for your model was 0.11124147992855216 on 2065 values.'"
      ]
     },
     "execution_count": 60,
     "metadata": {},
     "output_type": "execute_result"
    }
   ],
   "source": [
    "X_train, X_test, y_train, y_test = train_test_split(X, y, test_size = .30, random_state=42)\n",
    "\n",
    "#Four steps:\n",
    "\n",
    "#Instantiate\n",
    "lm_model = LinearRegression() \n",
    "\n",
    "#Fit \n",
    "lm_model.fit(X_train, y_train) \n",
    "\n",
    "#Predict and score the model\n",
    "y_test_preds = lm_model.predict(X_test) \n",
    "\n",
    "#Rsquared and y_test\n",
    "rsquared_score = r2_score(y_test, y_test_preds)\n",
    "length_y_test = len(y_test)\n",
    "\n",
    "\"The r-squared score for your model was {} on {} values.\".format(rsquared_score, length_y_test)\n"
   ]
  },
  {
   "cell_type": "markdown",
   "id": "d8531e05",
   "metadata": {},
   "source": [
    "R squared is low, but let's look at the coefficient weights to see what drives the greatest impact on price. I'll define a function to do so, since it'll be useful multiple times. "
   ]
  },
  {
   "cell_type": "code",
   "execution_count": 61,
   "id": "21d72b0e",
   "metadata": {},
   "outputs": [
    {
     "data": {
      "text/html": [
       "<div>\n",
       "<style scoped>\n",
       "    .dataframe tbody tr th:only-of-type {\n",
       "        vertical-align: middle;\n",
       "    }\n",
       "\n",
       "    .dataframe tbody tr th {\n",
       "        vertical-align: top;\n",
       "    }\n",
       "\n",
       "    .dataframe thead th {\n",
       "        text-align: right;\n",
       "    }\n",
       "</style>\n",
       "<table border=\"1\" class=\"dataframe\">\n",
       "  <thead>\n",
       "    <tr style=\"text-align: right;\">\n",
       "      <th></th>\n",
       "      <th>est_int</th>\n",
       "      <th>coefs</th>\n",
       "      <th>abs_coefs</th>\n",
       "    </tr>\n",
       "  </thead>\n",
       "  <tbody>\n",
       "    <tr>\n",
       "      <th>71</th>\n",
       "      <td>neighbourhood_cleansed_Pike-Market</td>\n",
       "      <td>309.706982</td>\n",
       "      <td>309.706982</td>\n",
       "    </tr>\n",
       "    <tr>\n",
       "      <th>83</th>\n",
       "      <td>neighbourhood_cleansed_South Beacon Hill</td>\n",
       "      <td>-170.906308</td>\n",
       "      <td>170.906308</td>\n",
       "    </tr>\n",
       "    <tr>\n",
       "      <th>59</th>\n",
       "      <td>neighbourhood_cleansed_Mid-Beacon Hill</td>\n",
       "      <td>-165.933624</td>\n",
       "      <td>165.933624</td>\n",
       "    </tr>\n",
       "    <tr>\n",
       "      <th>91</th>\n",
       "      <td>neighbourhood_cleansed_Victory Heights</td>\n",
       "      <td>-136.347891</td>\n",
       "      <td>136.347891</td>\n",
       "    </tr>\n",
       "    <tr>\n",
       "      <th>76</th>\n",
       "      <td>neighbourhood_cleansed_Rainier View</td>\n",
       "      <td>-128.067785</td>\n",
       "      <td>128.067785</td>\n",
       "    </tr>\n",
       "    <tr>\n",
       "      <th>72</th>\n",
       "      <td>neighbourhood_cleansed_Pinehurst</td>\n",
       "      <td>-127.909306</td>\n",
       "      <td>127.909306</td>\n",
       "    </tr>\n",
       "    <tr>\n",
       "      <th>26</th>\n",
       "      <td>neighbourhood_cleansed_Crown Hill</td>\n",
       "      <td>-123.167265</td>\n",
       "      <td>123.167265</td>\n",
       "    </tr>\n",
       "    <tr>\n",
       "      <th>94</th>\n",
       "      <td>neighbourhood_cleansed_Wedgwood</td>\n",
       "      <td>-122.964397</td>\n",
       "      <td>122.964397</td>\n",
       "    </tr>\n",
       "    <tr>\n",
       "      <th>36</th>\n",
       "      <td>neighbourhood_cleansed_Georgetown</td>\n",
       "      <td>-121.235104</td>\n",
       "      <td>121.235104</td>\n",
       "    </tr>\n",
       "    <tr>\n",
       "      <th>5</th>\n",
       "      <td>review_scores_accuracy</td>\n",
       "      <td>-117.950246</td>\n",
       "      <td>117.950246</td>\n",
       "    </tr>\n",
       "    <tr>\n",
       "      <th>84</th>\n",
       "      <td>neighbourhood_cleansed_South Delridge</td>\n",
       "      <td>-117.540842</td>\n",
       "      <td>117.540842</td>\n",
       "    </tr>\n",
       "    <tr>\n",
       "      <th>92</th>\n",
       "      <td>neighbourhood_cleansed_View Ridge</td>\n",
       "      <td>-116.316025</td>\n",
       "      <td>116.316025</td>\n",
       "    </tr>\n",
       "    <tr>\n",
       "      <th>55</th>\n",
       "      <td>neighbourhood_cleansed_Mann</td>\n",
       "      <td>-115.888838</td>\n",
       "      <td>115.888838</td>\n",
       "    </tr>\n",
       "    <tr>\n",
       "      <th>78</th>\n",
       "      <td>neighbourhood_cleansed_Riverview</td>\n",
       "      <td>-114.873856</td>\n",
       "      <td>114.873856</td>\n",
       "    </tr>\n",
       "    <tr>\n",
       "      <th>19</th>\n",
       "      <td>neighbourhood_cleansed_Brighton</td>\n",
       "      <td>-109.622097</td>\n",
       "      <td>109.622097</td>\n",
       "    </tr>\n",
       "    <tr>\n",
       "      <th>39</th>\n",
       "      <td>neighbourhood_cleansed_Haller Lake</td>\n",
       "      <td>-108.609224</td>\n",
       "      <td>108.609224</td>\n",
       "    </tr>\n",
       "    <tr>\n",
       "      <th>75</th>\n",
       "      <td>neighbourhood_cleansed_Rainier Beach</td>\n",
       "      <td>-104.569087</td>\n",
       "      <td>104.569087</td>\n",
       "    </tr>\n",
       "    <tr>\n",
       "      <th>57</th>\n",
       "      <td>neighbourhood_cleansed_Matthews Beach</td>\n",
       "      <td>-103.716723</td>\n",
       "      <td>103.716723</td>\n",
       "    </tr>\n",
       "    <tr>\n",
       "      <th>67</th>\n",
       "      <td>neighbourhood_cleansed_North Delridge</td>\n",
       "      <td>-102.824501</td>\n",
       "      <td>102.824501</td>\n",
       "    </tr>\n",
       "    <tr>\n",
       "      <th>69</th>\n",
       "      <td>neighbourhood_cleansed_Olympic Hills</td>\n",
       "      <td>-102.360822</td>\n",
       "      <td>102.360822</td>\n",
       "    </tr>\n",
       "    <tr>\n",
       "      <th>27</th>\n",
       "      <td>neighbourhood_cleansed_Dunlap</td>\n",
       "      <td>-95.939580</td>\n",
       "      <td>95.939580</td>\n",
       "    </tr>\n",
       "    <tr>\n",
       "      <th>23</th>\n",
       "      <td>neighbourhood_cleansed_Cedar Park</td>\n",
       "      <td>-95.629140</td>\n",
       "      <td>95.629140</td>\n",
       "    </tr>\n",
       "    <tr>\n",
       "      <th>65</th>\n",
       "      <td>neighbourhood_cleansed_North Beacon Hill</td>\n",
       "      <td>-94.638442</td>\n",
       "      <td>94.638442</td>\n",
       "    </tr>\n",
       "    <tr>\n",
       "      <th>25</th>\n",
       "      <td>neighbourhood_cleansed_Columbia City</td>\n",
       "      <td>-91.429927</td>\n",
       "      <td>91.429927</td>\n",
       "    </tr>\n",
       "    <tr>\n",
       "      <th>43</th>\n",
       "      <td>neighbourhood_cleansed_Highland Park</td>\n",
       "      <td>-90.717533</td>\n",
       "      <td>90.717533</td>\n",
       "    </tr>\n",
       "    <tr>\n",
       "      <th>56</th>\n",
       "      <td>neighbourhood_cleansed_Maple Leaf</td>\n",
       "      <td>-87.478758</td>\n",
       "      <td>87.478758</td>\n",
       "    </tr>\n",
       "    <tr>\n",
       "      <th>20</th>\n",
       "      <td>neighbourhood_cleansed_Broadview</td>\n",
       "      <td>-84.719350</td>\n",
       "      <td>84.719350</td>\n",
       "    </tr>\n",
       "    <tr>\n",
       "      <th>80</th>\n",
       "      <td>neighbourhood_cleansed_Roxhill</td>\n",
       "      <td>-82.714541</td>\n",
       "      <td>82.714541</td>\n",
       "    </tr>\n",
       "    <tr>\n",
       "      <th>90</th>\n",
       "      <td>neighbourhood_cleansed_University District</td>\n",
       "      <td>-82.616034</td>\n",
       "      <td>82.616034</td>\n",
       "    </tr>\n",
       "    <tr>\n",
       "      <th>15</th>\n",
       "      <td>neighbourhood_cleansed_Atlantic</td>\n",
       "      <td>-82.524395</td>\n",
       "      <td>82.524395</td>\n",
       "    </tr>\n",
       "    <tr>\n",
       "      <th>58</th>\n",
       "      <td>neighbourhood_cleansed_Meadowbrook</td>\n",
       "      <td>-81.320000</td>\n",
       "      <td>81.320000</td>\n",
       "    </tr>\n",
       "    <tr>\n",
       "      <th>35</th>\n",
       "      <td>neighbourhood_cleansed_Genesee</td>\n",
       "      <td>-80.739749</td>\n",
       "      <td>80.739749</td>\n",
       "    </tr>\n",
       "    <tr>\n",
       "      <th>82</th>\n",
       "      <td>neighbourhood_cleansed_Seward Park</td>\n",
       "      <td>-80.041703</td>\n",
       "      <td>80.041703</td>\n",
       "    </tr>\n",
       "    <tr>\n",
       "      <th>45</th>\n",
       "      <td>neighbourhood_cleansed_Industrial District</td>\n",
       "      <td>-79.372912</td>\n",
       "      <td>79.372912</td>\n",
       "    </tr>\n",
       "    <tr>\n",
       "      <th>46</th>\n",
       "      <td>neighbourhood_cleansed_Interbay</td>\n",
       "      <td>-79.352705</td>\n",
       "      <td>79.352705</td>\n",
       "    </tr>\n",
       "    <tr>\n",
       "      <th>42</th>\n",
       "      <td>neighbourhood_cleansed_High Point</td>\n",
       "      <td>-77.926119</td>\n",
       "      <td>77.926119</td>\n",
       "    </tr>\n",
       "    <tr>\n",
       "      <th>17</th>\n",
       "      <td>neighbourhood_cleansed_Bitter Lake</td>\n",
       "      <td>-76.588355</td>\n",
       "      <td>76.588355</td>\n",
       "    </tr>\n",
       "    <tr>\n",
       "      <th>98</th>\n",
       "      <td>neighbourhood_cleansed_Whittier Heights</td>\n",
       "      <td>75.618461</td>\n",
       "      <td>75.618461</td>\n",
       "    </tr>\n",
       "    <tr>\n",
       "      <th>31</th>\n",
       "      <td>neighbourhood_cleansed_Fauntleroy</td>\n",
       "      <td>-75.035756</td>\n",
       "      <td>75.035756</td>\n",
       "    </tr>\n",
       "    <tr>\n",
       "      <th>54</th>\n",
       "      <td>neighbourhood_cleansed_Madrona</td>\n",
       "      <td>73.898851</td>\n",
       "      <td>73.898851</td>\n",
       "    </tr>\n",
       "    <tr>\n",
       "      <th>77</th>\n",
       "      <td>neighbourhood_cleansed_Ravenna</td>\n",
       "      <td>-73.069101</td>\n",
       "      <td>73.069101</td>\n",
       "    </tr>\n",
       "    <tr>\n",
       "      <th>14</th>\n",
       "      <td>neighbourhood_cleansed_Arbor Heights</td>\n",
       "      <td>-72.832673</td>\n",
       "      <td>72.832673</td>\n",
       "    </tr>\n",
       "    <tr>\n",
       "      <th>86</th>\n",
       "      <td>neighbourhood_cleansed_South Park</td>\n",
       "      <td>72.582434</td>\n",
       "      <td>72.582434</td>\n",
       "    </tr>\n",
       "    <tr>\n",
       "      <th>53</th>\n",
       "      <td>neighbourhood_cleansed_Madison Park</td>\n",
       "      <td>71.675704</td>\n",
       "      <td>71.675704</td>\n",
       "    </tr>\n",
       "    <tr>\n",
       "      <th>18</th>\n",
       "      <td>neighbourhood_cleansed_Briarcliff</td>\n",
       "      <td>-71.499160</td>\n",
       "      <td>71.499160</td>\n",
       "    </tr>\n",
       "    <tr>\n",
       "      <th>47</th>\n",
       "      <td>neighbourhood_cleansed_International District</td>\n",
       "      <td>-70.692399</td>\n",
       "      <td>70.692399</td>\n",
       "    </tr>\n",
       "    <tr>\n",
       "      <th>61</th>\n",
       "      <td>neighbourhood_cleansed_Montlake</td>\n",
       "      <td>-70.366672</td>\n",
       "      <td>70.366672</td>\n",
       "    </tr>\n",
       "    <tr>\n",
       "      <th>52</th>\n",
       "      <td>neighbourhood_cleansed_Loyal Heights</td>\n",
       "      <td>-69.745437</td>\n",
       "      <td>69.745437</td>\n",
       "    </tr>\n",
       "    <tr>\n",
       "      <th>30</th>\n",
       "      <td>neighbourhood_cleansed_Fairmount Park</td>\n",
       "      <td>-69.723247</td>\n",
       "      <td>69.723247</td>\n",
       "    </tr>\n",
       "    <tr>\n",
       "      <th>22</th>\n",
       "      <td>neighbourhood_cleansed_Bryant</td>\n",
       "      <td>-69.406983</td>\n",
       "      <td>69.406983</td>\n",
       "    </tr>\n",
       "  </tbody>\n",
       "</table>\n",
       "</div>"
      ],
      "text/plain": [
       "                                          est_int       coefs   abs_coefs\n",
       "71             neighbourhood_cleansed_Pike-Market  309.706982  309.706982\n",
       "83       neighbourhood_cleansed_South Beacon Hill -170.906308  170.906308\n",
       "59         neighbourhood_cleansed_Mid-Beacon Hill -165.933624  165.933624\n",
       "91         neighbourhood_cleansed_Victory Heights -136.347891  136.347891\n",
       "76            neighbourhood_cleansed_Rainier View -128.067785  128.067785\n",
       "72               neighbourhood_cleansed_Pinehurst -127.909306  127.909306\n",
       "26              neighbourhood_cleansed_Crown Hill -123.167265  123.167265\n",
       "94                neighbourhood_cleansed_Wedgwood -122.964397  122.964397\n",
       "36              neighbourhood_cleansed_Georgetown -121.235104  121.235104\n",
       "5                          review_scores_accuracy -117.950246  117.950246\n",
       "84          neighbourhood_cleansed_South Delridge -117.540842  117.540842\n",
       "92              neighbourhood_cleansed_View Ridge -116.316025  116.316025\n",
       "55                    neighbourhood_cleansed_Mann -115.888838  115.888838\n",
       "78               neighbourhood_cleansed_Riverview -114.873856  114.873856\n",
       "19                neighbourhood_cleansed_Brighton -109.622097  109.622097\n",
       "39             neighbourhood_cleansed_Haller Lake -108.609224  108.609224\n",
       "75           neighbourhood_cleansed_Rainier Beach -104.569087  104.569087\n",
       "57          neighbourhood_cleansed_Matthews Beach -103.716723  103.716723\n",
       "67          neighbourhood_cleansed_North Delridge -102.824501  102.824501\n",
       "69           neighbourhood_cleansed_Olympic Hills -102.360822  102.360822\n",
       "27                  neighbourhood_cleansed_Dunlap  -95.939580   95.939580\n",
       "23              neighbourhood_cleansed_Cedar Park  -95.629140   95.629140\n",
       "65       neighbourhood_cleansed_North Beacon Hill  -94.638442   94.638442\n",
       "25           neighbourhood_cleansed_Columbia City  -91.429927   91.429927\n",
       "43           neighbourhood_cleansed_Highland Park  -90.717533   90.717533\n",
       "56              neighbourhood_cleansed_Maple Leaf  -87.478758   87.478758\n",
       "20               neighbourhood_cleansed_Broadview  -84.719350   84.719350\n",
       "80                 neighbourhood_cleansed_Roxhill  -82.714541   82.714541\n",
       "90     neighbourhood_cleansed_University District  -82.616034   82.616034\n",
       "15                neighbourhood_cleansed_Atlantic  -82.524395   82.524395\n",
       "58             neighbourhood_cleansed_Meadowbrook  -81.320000   81.320000\n",
       "35                 neighbourhood_cleansed_Genesee  -80.739749   80.739749\n",
       "82             neighbourhood_cleansed_Seward Park  -80.041703   80.041703\n",
       "45     neighbourhood_cleansed_Industrial District  -79.372912   79.372912\n",
       "46                neighbourhood_cleansed_Interbay  -79.352705   79.352705\n",
       "42              neighbourhood_cleansed_High Point  -77.926119   77.926119\n",
       "17             neighbourhood_cleansed_Bitter Lake  -76.588355   76.588355\n",
       "98        neighbourhood_cleansed_Whittier Heights   75.618461   75.618461\n",
       "31              neighbourhood_cleansed_Fauntleroy  -75.035756   75.035756\n",
       "54                 neighbourhood_cleansed_Madrona   73.898851   73.898851\n",
       "77                 neighbourhood_cleansed_Ravenna  -73.069101   73.069101\n",
       "14           neighbourhood_cleansed_Arbor Heights  -72.832673   72.832673\n",
       "86              neighbourhood_cleansed_South Park   72.582434   72.582434\n",
       "53            neighbourhood_cleansed_Madison Park   71.675704   71.675704\n",
       "18              neighbourhood_cleansed_Briarcliff  -71.499160   71.499160\n",
       "47  neighbourhood_cleansed_International District  -70.692399   70.692399\n",
       "61                neighbourhood_cleansed_Montlake  -70.366672   70.366672\n",
       "52           neighbourhood_cleansed_Loyal Heights  -69.745437   69.745437\n",
       "30          neighbourhood_cleansed_Fairmount Park  -69.723247   69.723247\n",
       "22                  neighbourhood_cleansed_Bryant  -69.406983   69.406983"
      ]
     },
     "execution_count": 61,
     "metadata": {},
     "output_type": "execute_result"
    }
   ],
   "source": [
    "def coef_weights(coefficients, X_train):\n",
    "    '''\n",
    "    INPUT:\n",
    "    coefficients - the coefficients of the linear model \n",
    "    X_train - the training data, so the column names can be used\n",
    "    OUTPUT:\n",
    "    coefs_df - a dataframe holding the coefficient, estimate, and abs(estimate)\n",
    "    \n",
    "    Provides a dataframe that can be used to understand the most influential coefficients\n",
    "    in a linear model by providing the coefficient estimates along with the name of the \n",
    "    variable attached to the coefficient.\n",
    "    '''\n",
    "    coefs_df = pd.DataFrame()\n",
    "    coefs_df['est_int'] = X_train.columns\n",
    "    coefs_df['coefs'] = lm_model.coef_\n",
    "    coefs_df['abs_coefs'] = np.abs(lm_model.coef_)\n",
    "    coefs_df = coefs_df.sort_values('abs_coefs', ascending=False)\n",
    "    return coefs_df\n",
    "\n",
    "#Use the function\n",
    "coef_df = coef_weights(lm_model.coef_, X_train)\n",
    "\n",
    "#A quick look at the top results\n",
    "coef_df.head(50)"
   ]
  },
  {
   "cell_type": "markdown",
   "id": "214bba50",
   "metadata": {},
   "source": [
    "Pike Place commands much higher prices, while neighborhoods like Mid and South Beacon Hill and Victory Heights lower the price substantially. I live in Seattle, so I see some interesting things. Some of the bougie neighborhoods actually lower the price, but some raise it (compare Wedgwood to Madrona; both are fancy neighborhood, but one lowers the price and one raises it). But most of the neighborhoods that lower the price are further from downtown or are otherwise inconvenient if you want to go to the major tourist attractions in Seattle. \n",
    "\n",
    "Now let's try again using the subset model for neighborhood group. "
   ]
  },
  {
   "cell_type": "code",
   "execution_count": 62,
   "id": "f66fb5db",
   "metadata": {
    "scrolled": true
   },
   "outputs": [
    {
     "name": "stderr",
     "output_type": "stream",
     "text": [
      "C:\\Users\\Darcy\\AppData\\Local\\Temp\\ipykernel_43556\\4230153802.py:27: SettingWithCopyWarning: \n",
      "A value is trying to be set on a copy of a slice from a DataFrame\n",
      "\n",
      "See the caveats in the documentation: https://pandas.pydata.org/pandas-docs/stable/user_guide/indexing.html#returning-a-view-versus-a-copy\n",
      "  df[col].fillna((df[col].mean()), inplace=True)\n"
     ]
    }
   ],
   "source": [
    "X, y = clean_data(merged_df,[\"neighbourhood_group_cleansed\",\"room_type\",\"accommodates\",\"beds\",\"minimum_nights_avg_ntm\",\"maximum_nights_avg_ntm\",\"review_scores_rating\",\n",
    "\"review_scores_accuracy\",\"review_scores_cleanliness\",\"review_scores_checkin\",\"review_scores_communication\",\"review_scores_location\",\"review_scores_value\",\n",
    "\"instant_bookable\",\"no_of_bathrooms\",\"shared\"] , 'price_float_y')      "
   ]
  },
  {
   "cell_type": "code",
   "execution_count": 63,
   "id": "db3470b3",
   "metadata": {},
   "outputs": [
    {
     "data": {
      "text/plain": [
       "'The r-squared score for your model was 0.08433411332632768 on 2065 values.'"
      ]
     },
     "execution_count": 63,
     "metadata": {},
     "output_type": "execute_result"
    }
   ],
   "source": [
    "X_train, X_test, y_train, y_test = train_test_split(X, y, test_size = .30, random_state=42)\n",
    "\n",
    "#Four steps:\n",
    "\n",
    "#Instantiate\n",
    "lm_model = LinearRegression() \n",
    "\n",
    "#Fit \n",
    "lm_model.fit(X_train, y_train) \n",
    "\n",
    "#Predict and score the model\n",
    "y_test_preds = lm_model.predict(X_test) \n",
    "\n",
    "#Rsquared and y_test\n",
    "rsquared_score = r2_score(y_test, y_test_preds)\n",
    "length_y_test = len(y_test)\n",
    "\n",
    "\"The r-squared score for your model was {} on {} values.\".format(rsquared_score, length_y_test)"
   ]
  },
  {
   "cell_type": "markdown",
   "id": "84ca8508",
   "metadata": {},
   "source": [
    "This model looks worse, but let's take a look at the coefficients again. "
   ]
  },
  {
   "cell_type": "code",
   "execution_count": 64,
   "id": "f1ad2f1a",
   "metadata": {
    "scrolled": true
   },
   "outputs": [
    {
     "data": {
      "text/html": [
       "<div>\n",
       "<style scoped>\n",
       "    .dataframe tbody tr th:only-of-type {\n",
       "        vertical-align: middle;\n",
       "    }\n",
       "\n",
       "    .dataframe tbody tr th {\n",
       "        vertical-align: top;\n",
       "    }\n",
       "\n",
       "    .dataframe thead th {\n",
       "        text-align: right;\n",
       "    }\n",
       "</style>\n",
       "<table border=\"1\" class=\"dataframe\">\n",
       "  <thead>\n",
       "    <tr style=\"text-align: right;\">\n",
       "      <th></th>\n",
       "      <th>est_int</th>\n",
       "      <th>coefs</th>\n",
       "      <th>abs_coefs</th>\n",
       "    </tr>\n",
       "  </thead>\n",
       "  <tbody>\n",
       "    <tr>\n",
       "      <th>5</th>\n",
       "      <td>review_scores_accuracy</td>\n",
       "      <td>-121.556646</td>\n",
       "      <td>121.556646</td>\n",
       "    </tr>\n",
       "    <tr>\n",
       "      <th>30</th>\n",
       "      <td>room_type_Shared room</td>\n",
       "      <td>-108.086814</td>\n",
       "      <td>108.086814</td>\n",
       "    </tr>\n",
       "    <tr>\n",
       "      <th>13</th>\n",
       "      <td>neighbourhood_group_cleansed_Beacon Hill</td>\n",
       "      <td>-105.565468</td>\n",
       "      <td>105.565468</td>\n",
       "    </tr>\n",
       "    <tr>\n",
       "      <th>20</th>\n",
       "      <td>neighbourhood_group_cleansed_Lake City</td>\n",
       "      <td>-82.368702</td>\n",
       "      <td>82.368702</td>\n",
       "    </tr>\n",
       "    <tr>\n",
       "      <th>17</th>\n",
       "      <td>neighbourhood_group_cleansed_Delridge</td>\n",
       "      <td>-80.201784</td>\n",
       "      <td>80.201784</td>\n",
       "    </tr>\n",
       "    <tr>\n",
       "      <th>10</th>\n",
       "      <td>review_scores_value</td>\n",
       "      <td>-73.229595</td>\n",
       "      <td>73.229595</td>\n",
       "    </tr>\n",
       "    <tr>\n",
       "      <th>6</th>\n",
       "      <td>review_scores_cleanliness</td>\n",
       "      <td>71.882797</td>\n",
       "      <td>71.882797</td>\n",
       "    </tr>\n",
       "    <tr>\n",
       "      <th>25</th>\n",
       "      <td>neighbourhood_group_cleansed_Rainier Valley</td>\n",
       "      <td>-67.704977</td>\n",
       "      <td>67.704977</td>\n",
       "    </tr>\n",
       "    <tr>\n",
       "      <th>4</th>\n",
       "      <td>review_scores_rating</td>\n",
       "      <td>61.883375</td>\n",
       "      <td>61.883375</td>\n",
       "    </tr>\n",
       "    <tr>\n",
       "      <th>19</th>\n",
       "      <td>neighbourhood_group_cleansed_Interbay</td>\n",
       "      <td>-60.594689</td>\n",
       "      <td>60.594689</td>\n",
       "    </tr>\n",
       "    <tr>\n",
       "      <th>27</th>\n",
       "      <td>neighbourhood_group_cleansed_University District</td>\n",
       "      <td>-59.893098</td>\n",
       "      <td>59.893098</td>\n",
       "    </tr>\n",
       "    <tr>\n",
       "      <th>8</th>\n",
       "      <td>review_scores_communication</td>\n",
       "      <td>59.612512</td>\n",
       "      <td>59.612512</td>\n",
       "    </tr>\n",
       "    <tr>\n",
       "      <th>26</th>\n",
       "      <td>neighbourhood_group_cleansed_Seward Park</td>\n",
       "      <td>-58.709940</td>\n",
       "      <td>58.709940</td>\n",
       "    </tr>\n",
       "    <tr>\n",
       "      <th>11</th>\n",
       "      <td>no_of_bathrooms</td>\n",
       "      <td>57.712013</td>\n",
       "      <td>57.712013</td>\n",
       "    </tr>\n",
       "    <tr>\n",
       "      <th>22</th>\n",
       "      <td>neighbourhood_group_cleansed_Northgate</td>\n",
       "      <td>-56.932061</td>\n",
       "      <td>56.932061</td>\n",
       "    </tr>\n",
       "    <tr>\n",
       "      <th>9</th>\n",
       "      <td>review_scores_location</td>\n",
       "      <td>-48.066275</td>\n",
       "      <td>48.066275</td>\n",
       "    </tr>\n",
       "    <tr>\n",
       "      <th>18</th>\n",
       "      <td>neighbourhood_group_cleansed_Downtown</td>\n",
       "      <td>43.503513</td>\n",
       "      <td>43.503513</td>\n",
       "    </tr>\n",
       "    <tr>\n",
       "      <th>12</th>\n",
       "      <td>shared</td>\n",
       "      <td>-41.123514</td>\n",
       "      <td>41.123514</td>\n",
       "    </tr>\n",
       "    <tr>\n",
       "      <th>16</th>\n",
       "      <td>neighbourhood_group_cleansed_Central Area</td>\n",
       "      <td>-31.131676</td>\n",
       "      <td>31.131676</td>\n",
       "    </tr>\n",
       "    <tr>\n",
       "      <th>0</th>\n",
       "      <td>accommodates</td>\n",
       "      <td>31.109383</td>\n",
       "      <td>31.109383</td>\n",
       "    </tr>\n",
       "    <tr>\n",
       "      <th>15</th>\n",
       "      <td>neighbourhood_group_cleansed_Cascade</td>\n",
       "      <td>17.756274</td>\n",
       "      <td>17.756274</td>\n",
       "    </tr>\n",
       "    <tr>\n",
       "      <th>21</th>\n",
       "      <td>neighbourhood_group_cleansed_Magnolia</td>\n",
       "      <td>-16.627052</td>\n",
       "      <td>16.627052</td>\n",
       "    </tr>\n",
       "    <tr>\n",
       "      <th>24</th>\n",
       "      <td>neighbourhood_group_cleansed_Queen Anne</td>\n",
       "      <td>14.854454</td>\n",
       "      <td>14.854454</td>\n",
       "    </tr>\n",
       "    <tr>\n",
       "      <th>7</th>\n",
       "      <td>review_scores_checkin</td>\n",
       "      <td>-10.464160</td>\n",
       "      <td>10.464160</td>\n",
       "    </tr>\n",
       "    <tr>\n",
       "      <th>28</th>\n",
       "      <td>neighbourhood_group_cleansed_West Seattle</td>\n",
       "      <td>-8.955694</td>\n",
       "      <td>8.955694</td>\n",
       "    </tr>\n",
       "    <tr>\n",
       "      <th>29</th>\n",
       "      <td>room_type_Private room</td>\n",
       "      <td>6.882378</td>\n",
       "      <td>6.882378</td>\n",
       "    </tr>\n",
       "    <tr>\n",
       "      <th>14</th>\n",
       "      <td>neighbourhood_group_cleansed_Capitol Hill</td>\n",
       "      <td>3.432355</td>\n",
       "      <td>3.432355</td>\n",
       "    </tr>\n",
       "    <tr>\n",
       "      <th>31</th>\n",
       "      <td>instant_bookable_t</td>\n",
       "      <td>2.468702</td>\n",
       "      <td>2.468702</td>\n",
       "    </tr>\n",
       "    <tr>\n",
       "      <th>1</th>\n",
       "      <td>beds</td>\n",
       "      <td>0.806575</td>\n",
       "      <td>0.806575</td>\n",
       "    </tr>\n",
       "    <tr>\n",
       "      <th>23</th>\n",
       "      <td>neighbourhood_group_cleansed_Other neighborhoods</td>\n",
       "      <td>-0.532097</td>\n",
       "      <td>0.532097</td>\n",
       "    </tr>\n",
       "    <tr>\n",
       "      <th>2</th>\n",
       "      <td>minimum_nights_avg_ntm</td>\n",
       "      <td>-0.160285</td>\n",
       "      <td>0.160285</td>\n",
       "    </tr>\n",
       "    <tr>\n",
       "      <th>3</th>\n",
       "      <td>maximum_nights_avg_ntm</td>\n",
       "      <td>0.000005</td>\n",
       "      <td>0.000005</td>\n",
       "    </tr>\n",
       "  </tbody>\n",
       "</table>\n",
       "</div>"
      ],
      "text/plain": [
       "                                             est_int       coefs   abs_coefs\n",
       "5                             review_scores_accuracy -121.556646  121.556646\n",
       "30                             room_type_Shared room -108.086814  108.086814\n",
       "13          neighbourhood_group_cleansed_Beacon Hill -105.565468  105.565468\n",
       "20            neighbourhood_group_cleansed_Lake City  -82.368702   82.368702\n",
       "17             neighbourhood_group_cleansed_Delridge  -80.201784   80.201784\n",
       "10                               review_scores_value  -73.229595   73.229595\n",
       "6                          review_scores_cleanliness   71.882797   71.882797\n",
       "25       neighbourhood_group_cleansed_Rainier Valley  -67.704977   67.704977\n",
       "4                               review_scores_rating   61.883375   61.883375\n",
       "19             neighbourhood_group_cleansed_Interbay  -60.594689   60.594689\n",
       "27  neighbourhood_group_cleansed_University District  -59.893098   59.893098\n",
       "8                        review_scores_communication   59.612512   59.612512\n",
       "26          neighbourhood_group_cleansed_Seward Park  -58.709940   58.709940\n",
       "11                                   no_of_bathrooms   57.712013   57.712013\n",
       "22            neighbourhood_group_cleansed_Northgate  -56.932061   56.932061\n",
       "9                             review_scores_location  -48.066275   48.066275\n",
       "18             neighbourhood_group_cleansed_Downtown   43.503513   43.503513\n",
       "12                                            shared  -41.123514   41.123514\n",
       "16         neighbourhood_group_cleansed_Central Area  -31.131676   31.131676\n",
       "0                                       accommodates   31.109383   31.109383\n",
       "15              neighbourhood_group_cleansed_Cascade   17.756274   17.756274\n",
       "21             neighbourhood_group_cleansed_Magnolia  -16.627052   16.627052\n",
       "24           neighbourhood_group_cleansed_Queen Anne   14.854454   14.854454\n",
       "7                              review_scores_checkin  -10.464160   10.464160\n",
       "28         neighbourhood_group_cleansed_West Seattle   -8.955694    8.955694\n",
       "29                            room_type_Private room    6.882378    6.882378\n",
       "14         neighbourhood_group_cleansed_Capitol Hill    3.432355    3.432355\n",
       "31                                instant_bookable_t    2.468702    2.468702\n",
       "1                                               beds    0.806575    0.806575\n",
       "23  neighbourhood_group_cleansed_Other neighborhoods   -0.532097    0.532097\n",
       "2                             minimum_nights_avg_ntm   -0.160285    0.160285\n",
       "3                             maximum_nights_avg_ntm    0.000005    0.000005"
      ]
     },
     "execution_count": 64,
     "metadata": {},
     "output_type": "execute_result"
    }
   ],
   "source": [
    "#Use the function\n",
    "coef_df = coef_weights(lm_model.coef_, X_train)\n",
    "\n",
    "#A quick look at the top results\n",
    "coef_df.head(50)"
   ]
  },
  {
   "cell_type": "markdown",
   "id": "ddc7668a",
   "metadata": {},
   "source": [
    "Given the much smaller number of neighborhood groups (there are about 60 neighborhoods compared to about 15 neighborhood groups), we can see more impact from other features in the model. Higher review accuracy lowers price, which is fairly surprising, but sharing a room also lowers it which makes perfect sense. Higher value also lowers the price; if the price is lower, guests might perceive the value of the rental as higher. \n",
    "\n",
    "The relationship between price and the input variables may not be linear, though. The difference between 100 and 500 is not exactly like the difference between 500 and 900. The relationship may be better captured by taking the log of the price and then training the linear model. Let's write a function to do so, and try it out. "
   ]
  },
  {
   "cell_type": "code",
   "execution_count": 65,
   "id": "2a2e5969",
   "metadata": {},
   "outputs": [
    {
     "name": "stderr",
     "output_type": "stream",
     "text": [
      "C:\\Users\\Darcy\\AppData\\Local\\Temp\\ipykernel_43556\\2243582005.py:26: SettingWithCopyWarning: \n",
      "A value is trying to be set on a copy of a slice from a DataFrame\n",
      "\n",
      "See the caveats in the documentation: https://pandas.pydata.org/pandas-docs/stable/user_guide/indexing.html#returning-a-view-versus-a-copy\n",
      "  df[col].fillna((df[col].mean()), inplace=True)\n"
     ]
    }
   ],
   "source": [
    "def clean_data_log(df, x, y):\n",
    "    '''\n",
    "    INPUT\n",
    "    df - pandas dataframe \n",
    "    \n",
    "    OUTPUT\n",
    "    X - A matrix holding all of the variables you want to consider when predicting the response\n",
    "    y - the corresponding response vector\n",
    "    \n",
    "    This function cleans df using the following steps to produce X and y:\n",
    "    1. Drop all the rows with no salaries\n",
    "    2. Create X as all the columns that are not the Salary column\n",
    "    3. Create y as the Salary column\n",
    "    4. Drop the Salary, Respondent, and the ExpectedSalary columns from X\n",
    "    5. For each numeric variable in X, fill the column with the mean value of the column.\n",
    "    6. Create dummy columns for all the categorical variables in X, drop the original columns\n",
    "    '''\n",
    "    y = np.log10(df[y])\n",
    "    \n",
    "    #Drop respondent and expected salary columns\n",
    "    df = df[x]\n",
    "    \n",
    "    # Fill numeric columns with the mean\n",
    "    num_vars = df.select_dtypes(include=['float', 'int']).columns\n",
    "    for col in num_vars:\n",
    "        df[col].fillna((df[col].mean()), inplace=True)\n",
    "        \n",
    "    # Dummy the categorical variables\n",
    "    cat_vars = df.select_dtypes(include=['object']).copy().columns\n",
    "    for var in  cat_vars:\n",
    "        # for each cat add dummy var, drop original column\n",
    "        df = pd.concat([df.drop(var, axis=1), pd.get_dummies(df[var], prefix=var, prefix_sep='_', drop_first=True)], axis=1)\n",
    "    \n",
    "    X = df\n",
    "    return X, y\n",
    "\n",
    "#Use the function to create X and y\n",
    "X, y = clean_data_log(merged_df,[\"neighbourhood_cleansed\",\"room_type\",\"accommodates\",\"beds\",\"minimum_nights_avg_ntm\",\"maximum_nights_avg_ntm\",\"review_scores_rating\",\n",
    "\"review_scores_accuracy\",\"review_scores_cleanliness\",\"review_scores_checkin\",\"review_scores_communication\",\"review_scores_location\",\"review_scores_value\",\n",
    "\"instant_bookable\",\"no_of_bathrooms\",\"shared\"] , 'price_float_y')"
   ]
  },
  {
   "cell_type": "code",
   "execution_count": 66,
   "id": "d2f7102e",
   "metadata": {},
   "outputs": [
    {
     "data": {
      "text/plain": [
       "'The r-squared score for your model was 0.45029355683720906 on 2065 values.'"
      ]
     },
     "execution_count": 66,
     "metadata": {},
     "output_type": "execute_result"
    }
   ],
   "source": [
    "X_train, X_test, y_train, y_test = train_test_split(X, y, test_size = .30, random_state=42)\n",
    "\n",
    "#Four steps:\n",
    "\n",
    "#Instantiate\n",
    "lm_model = LinearRegression() \n",
    "\n",
    "#Fit \n",
    "lm_model.fit(X_train, y_train) \n",
    "\n",
    "#Predict and score the model\n",
    "y_test_preds = lm_model.predict(X_test) \n",
    "\n",
    "#Rsquared and y_test\n",
    "rsquared_score = r2_score(y_test, y_test_preds)\n",
    "length_y_test = len(y_test)\n",
    "\n",
    "\"The r-squared score for your model was {} on {} values.\".format(rsquared_score, length_y_test)"
   ]
  },
  {
   "cell_type": "markdown",
   "id": "18915208",
   "metadata": {},
   "source": [
    "Much better! Let's look again at the coefficients. "
   ]
  },
  {
   "cell_type": "code",
   "execution_count": 67,
   "id": "8df09db4",
   "metadata": {},
   "outputs": [
    {
     "data": {
      "text/html": [
       "<div>\n",
       "<style scoped>\n",
       "    .dataframe tbody tr th:only-of-type {\n",
       "        vertical-align: middle;\n",
       "    }\n",
       "\n",
       "    .dataframe tbody tr th {\n",
       "        vertical-align: top;\n",
       "    }\n",
       "\n",
       "    .dataframe thead th {\n",
       "        text-align: right;\n",
       "    }\n",
       "</style>\n",
       "<table border=\"1\" class=\"dataframe\">\n",
       "  <thead>\n",
       "    <tr style=\"text-align: right;\">\n",
       "      <th></th>\n",
       "      <th>est_int</th>\n",
       "      <th>coefs</th>\n",
       "      <th>abs_coefs</th>\n",
       "    </tr>\n",
       "  </thead>\n",
       "  <tbody>\n",
       "    <tr>\n",
       "      <th>83</th>\n",
       "      <td>neighbourhood_cleansed_South Beacon Hill</td>\n",
       "      <td>-0.247777</td>\n",
       "      <td>0.247777</td>\n",
       "    </tr>\n",
       "    <tr>\n",
       "      <th>80</th>\n",
       "      <td>neighbourhood_cleansed_Roxhill</td>\n",
       "      <td>-0.242919</td>\n",
       "      <td>0.242919</td>\n",
       "    </tr>\n",
       "    <tr>\n",
       "      <th>102</th>\n",
       "      <td>room_type_Shared room</td>\n",
       "      <td>-0.230261</td>\n",
       "      <td>0.230261</td>\n",
       "    </tr>\n",
       "    <tr>\n",
       "      <th>71</th>\n",
       "      <td>neighbourhood_cleansed_Pike-Market</td>\n",
       "      <td>0.215662</td>\n",
       "      <td>0.215662</td>\n",
       "    </tr>\n",
       "    <tr>\n",
       "      <th>27</th>\n",
       "      <td>neighbourhood_cleansed_Dunlap</td>\n",
       "      <td>-0.200505</td>\n",
       "      <td>0.200505</td>\n",
       "    </tr>\n",
       "    <tr>\n",
       "      <th>72</th>\n",
       "      <td>neighbourhood_cleansed_Pinehurst</td>\n",
       "      <td>-0.189402</td>\n",
       "      <td>0.189402</td>\n",
       "    </tr>\n",
       "    <tr>\n",
       "      <th>59</th>\n",
       "      <td>neighbourhood_cleansed_Mid-Beacon Hill</td>\n",
       "      <td>-0.187421</td>\n",
       "      <td>0.187421</td>\n",
       "    </tr>\n",
       "    <tr>\n",
       "      <th>78</th>\n",
       "      <td>neighbourhood_cleansed_Riverview</td>\n",
       "      <td>-0.186437</td>\n",
       "      <td>0.186437</td>\n",
       "    </tr>\n",
       "    <tr>\n",
       "      <th>75</th>\n",
       "      <td>neighbourhood_cleansed_Rainier Beach</td>\n",
       "      <td>-0.185510</td>\n",
       "      <td>0.185510</td>\n",
       "    </tr>\n",
       "    <tr>\n",
       "      <th>26</th>\n",
       "      <td>neighbourhood_cleansed_Crown Hill</td>\n",
       "      <td>-0.179690</td>\n",
       "      <td>0.179690</td>\n",
       "    </tr>\n",
       "    <tr>\n",
       "      <th>91</th>\n",
       "      <td>neighbourhood_cleansed_Victory Heights</td>\n",
       "      <td>-0.177795</td>\n",
       "      <td>0.177795</td>\n",
       "    </tr>\n",
       "    <tr>\n",
       "      <th>43</th>\n",
       "      <td>neighbourhood_cleansed_Highland Park</td>\n",
       "      <td>-0.173260</td>\n",
       "      <td>0.173260</td>\n",
       "    </tr>\n",
       "    <tr>\n",
       "      <th>57</th>\n",
       "      <td>neighbourhood_cleansed_Matthews Beach</td>\n",
       "      <td>-0.163324</td>\n",
       "      <td>0.163324</td>\n",
       "    </tr>\n",
       "    <tr>\n",
       "      <th>76</th>\n",
       "      <td>neighbourhood_cleansed_Rainier View</td>\n",
       "      <td>-0.159077</td>\n",
       "      <td>0.159077</td>\n",
       "    </tr>\n",
       "    <tr>\n",
       "      <th>94</th>\n",
       "      <td>neighbourhood_cleansed_Wedgwood</td>\n",
       "      <td>-0.152761</td>\n",
       "      <td>0.152761</td>\n",
       "    </tr>\n",
       "    <tr>\n",
       "      <th>84</th>\n",
       "      <td>neighbourhood_cleansed_South Delridge</td>\n",
       "      <td>-0.152455</td>\n",
       "      <td>0.152455</td>\n",
       "    </tr>\n",
       "    <tr>\n",
       "      <th>92</th>\n",
       "      <td>neighbourhood_cleansed_View Ridge</td>\n",
       "      <td>-0.149518</td>\n",
       "      <td>0.149518</td>\n",
       "    </tr>\n",
       "    <tr>\n",
       "      <th>55</th>\n",
       "      <td>neighbourhood_cleansed_Mann</td>\n",
       "      <td>-0.143244</td>\n",
       "      <td>0.143244</td>\n",
       "    </tr>\n",
       "    <tr>\n",
       "      <th>90</th>\n",
       "      <td>neighbourhood_cleansed_University District</td>\n",
       "      <td>-0.139531</td>\n",
       "      <td>0.139531</td>\n",
       "    </tr>\n",
       "    <tr>\n",
       "      <th>69</th>\n",
       "      <td>neighbourhood_cleansed_Olympic Hills</td>\n",
       "      <td>-0.139056</td>\n",
       "      <td>0.139056</td>\n",
       "    </tr>\n",
       "    <tr>\n",
       "      <th>56</th>\n",
       "      <td>neighbourhood_cleansed_Maple Leaf</td>\n",
       "      <td>-0.137244</td>\n",
       "      <td>0.137244</td>\n",
       "    </tr>\n",
       "    <tr>\n",
       "      <th>67</th>\n",
       "      <td>neighbourhood_cleansed_North Delridge</td>\n",
       "      <td>-0.135452</td>\n",
       "      <td>0.135452</td>\n",
       "    </tr>\n",
       "    <tr>\n",
       "      <th>12</th>\n",
       "      <td>shared</td>\n",
       "      <td>-0.132919</td>\n",
       "      <td>0.132919</td>\n",
       "    </tr>\n",
       "    <tr>\n",
       "      <th>58</th>\n",
       "      <td>neighbourhood_cleansed_Meadowbrook</td>\n",
       "      <td>-0.125603</td>\n",
       "      <td>0.125603</td>\n",
       "    </tr>\n",
       "    <tr>\n",
       "      <th>19</th>\n",
       "      <td>neighbourhood_cleansed_Brighton</td>\n",
       "      <td>-0.125430</td>\n",
       "      <td>0.125430</td>\n",
       "    </tr>\n",
       "    <tr>\n",
       "      <th>23</th>\n",
       "      <td>neighbourhood_cleansed_Cedar Park</td>\n",
       "      <td>-0.120737</td>\n",
       "      <td>0.120737</td>\n",
       "    </tr>\n",
       "    <tr>\n",
       "      <th>17</th>\n",
       "      <td>neighbourhood_cleansed_Bitter Lake</td>\n",
       "      <td>-0.120675</td>\n",
       "      <td>0.120675</td>\n",
       "    </tr>\n",
       "    <tr>\n",
       "      <th>15</th>\n",
       "      <td>neighbourhood_cleansed_Atlantic</td>\n",
       "      <td>-0.118216</td>\n",
       "      <td>0.118216</td>\n",
       "    </tr>\n",
       "    <tr>\n",
       "      <th>25</th>\n",
       "      <td>neighbourhood_cleansed_Columbia City</td>\n",
       "      <td>-0.112603</td>\n",
       "      <td>0.112603</td>\n",
       "    </tr>\n",
       "    <tr>\n",
       "      <th>42</th>\n",
       "      <td>neighbourhood_cleansed_High Point</td>\n",
       "      <td>-0.111520</td>\n",
       "      <td>0.111520</td>\n",
       "    </tr>\n",
       "    <tr>\n",
       "      <th>77</th>\n",
       "      <td>neighbourhood_cleansed_Ravenna</td>\n",
       "      <td>-0.109538</td>\n",
       "      <td>0.109538</td>\n",
       "    </tr>\n",
       "    <tr>\n",
       "      <th>20</th>\n",
       "      <td>neighbourhood_cleansed_Broadview</td>\n",
       "      <td>-0.108322</td>\n",
       "      <td>0.108322</td>\n",
       "    </tr>\n",
       "    <tr>\n",
       "      <th>14</th>\n",
       "      <td>neighbourhood_cleansed_Arbor Heights</td>\n",
       "      <td>-0.107082</td>\n",
       "      <td>0.107082</td>\n",
       "    </tr>\n",
       "    <tr>\n",
       "      <th>65</th>\n",
       "      <td>neighbourhood_cleansed_North Beacon Hill</td>\n",
       "      <td>-0.106874</td>\n",
       "      <td>0.106874</td>\n",
       "    </tr>\n",
       "    <tr>\n",
       "      <th>22</th>\n",
       "      <td>neighbourhood_cleansed_Bryant</td>\n",
       "      <td>-0.104481</td>\n",
       "      <td>0.104481</td>\n",
       "    </tr>\n",
       "    <tr>\n",
       "      <th>39</th>\n",
       "      <td>neighbourhood_cleansed_Haller Lake</td>\n",
       "      <td>-0.102289</td>\n",
       "      <td>0.102289</td>\n",
       "    </tr>\n",
       "    <tr>\n",
       "      <th>100</th>\n",
       "      <td>neighbourhood_cleansed_Yesler Terrace</td>\n",
       "      <td>-0.102067</td>\n",
       "      <td>0.102067</td>\n",
       "    </tr>\n",
       "    <tr>\n",
       "      <th>81</th>\n",
       "      <td>neighbourhood_cleansed_Seaview</td>\n",
       "      <td>-0.101567</td>\n",
       "      <td>0.101567</td>\n",
       "    </tr>\n",
       "    <tr>\n",
       "      <th>53</th>\n",
       "      <td>neighbourhood_cleansed_Madison Park</td>\n",
       "      <td>0.101326</td>\n",
       "      <td>0.101326</td>\n",
       "    </tr>\n",
       "    <tr>\n",
       "      <th>35</th>\n",
       "      <td>neighbourhood_cleansed_Genesee</td>\n",
       "      <td>-0.101198</td>\n",
       "      <td>0.101198</td>\n",
       "    </tr>\n",
       "    <tr>\n",
       "      <th>61</th>\n",
       "      <td>neighbourhood_cleansed_Montlake</td>\n",
       "      <td>-0.098037</td>\n",
       "      <td>0.098037</td>\n",
       "    </tr>\n",
       "    <tr>\n",
       "      <th>85</th>\n",
       "      <td>neighbourhood_cleansed_South Lake Union</td>\n",
       "      <td>0.097447</td>\n",
       "      <td>0.097447</td>\n",
       "    </tr>\n",
       "    <tr>\n",
       "      <th>36</th>\n",
       "      <td>neighbourhood_cleansed_Georgetown</td>\n",
       "      <td>-0.097273</td>\n",
       "      <td>0.097273</td>\n",
       "    </tr>\n",
       "    <tr>\n",
       "      <th>82</th>\n",
       "      <td>neighbourhood_cleansed_Seward Park</td>\n",
       "      <td>-0.096098</td>\n",
       "      <td>0.096098</td>\n",
       "    </tr>\n",
       "    <tr>\n",
       "      <th>101</th>\n",
       "      <td>room_type_Private room</td>\n",
       "      <td>-0.092647</td>\n",
       "      <td>0.092647</td>\n",
       "    </tr>\n",
       "    <tr>\n",
       "      <th>98</th>\n",
       "      <td>neighbourhood_cleansed_Whittier Heights</td>\n",
       "      <td>0.087494</td>\n",
       "      <td>0.087494</td>\n",
       "    </tr>\n",
       "    <tr>\n",
       "      <th>38</th>\n",
       "      <td>neighbourhood_cleansed_Greenwood</td>\n",
       "      <td>-0.086524</td>\n",
       "      <td>0.086524</td>\n",
       "    </tr>\n",
       "    <tr>\n",
       "      <th>31</th>\n",
       "      <td>neighbourhood_cleansed_Fauntleroy</td>\n",
       "      <td>-0.079763</td>\n",
       "      <td>0.079763</td>\n",
       "    </tr>\n",
       "    <tr>\n",
       "      <th>6</th>\n",
       "      <td>review_scores_cleanliness</td>\n",
       "      <td>0.077549</td>\n",
       "      <td>0.077549</td>\n",
       "    </tr>\n",
       "    <tr>\n",
       "      <th>46</th>\n",
       "      <td>neighbourhood_cleansed_Interbay</td>\n",
       "      <td>-0.077541</td>\n",
       "      <td>0.077541</td>\n",
       "    </tr>\n",
       "  </tbody>\n",
       "</table>\n",
       "</div>"
      ],
      "text/plain": [
       "                                        est_int     coefs  abs_coefs\n",
       "83     neighbourhood_cleansed_South Beacon Hill -0.247777   0.247777\n",
       "80               neighbourhood_cleansed_Roxhill -0.242919   0.242919\n",
       "102                       room_type_Shared room -0.230261   0.230261\n",
       "71           neighbourhood_cleansed_Pike-Market  0.215662   0.215662\n",
       "27                neighbourhood_cleansed_Dunlap -0.200505   0.200505\n",
       "72             neighbourhood_cleansed_Pinehurst -0.189402   0.189402\n",
       "59       neighbourhood_cleansed_Mid-Beacon Hill -0.187421   0.187421\n",
       "78             neighbourhood_cleansed_Riverview -0.186437   0.186437\n",
       "75         neighbourhood_cleansed_Rainier Beach -0.185510   0.185510\n",
       "26            neighbourhood_cleansed_Crown Hill -0.179690   0.179690\n",
       "91       neighbourhood_cleansed_Victory Heights -0.177795   0.177795\n",
       "43         neighbourhood_cleansed_Highland Park -0.173260   0.173260\n",
       "57        neighbourhood_cleansed_Matthews Beach -0.163324   0.163324\n",
       "76          neighbourhood_cleansed_Rainier View -0.159077   0.159077\n",
       "94              neighbourhood_cleansed_Wedgwood -0.152761   0.152761\n",
       "84        neighbourhood_cleansed_South Delridge -0.152455   0.152455\n",
       "92            neighbourhood_cleansed_View Ridge -0.149518   0.149518\n",
       "55                  neighbourhood_cleansed_Mann -0.143244   0.143244\n",
       "90   neighbourhood_cleansed_University District -0.139531   0.139531\n",
       "69         neighbourhood_cleansed_Olympic Hills -0.139056   0.139056\n",
       "56            neighbourhood_cleansed_Maple Leaf -0.137244   0.137244\n",
       "67        neighbourhood_cleansed_North Delridge -0.135452   0.135452\n",
       "12                                       shared -0.132919   0.132919\n",
       "58           neighbourhood_cleansed_Meadowbrook -0.125603   0.125603\n",
       "19              neighbourhood_cleansed_Brighton -0.125430   0.125430\n",
       "23            neighbourhood_cleansed_Cedar Park -0.120737   0.120737\n",
       "17           neighbourhood_cleansed_Bitter Lake -0.120675   0.120675\n",
       "15              neighbourhood_cleansed_Atlantic -0.118216   0.118216\n",
       "25         neighbourhood_cleansed_Columbia City -0.112603   0.112603\n",
       "42            neighbourhood_cleansed_High Point -0.111520   0.111520\n",
       "77               neighbourhood_cleansed_Ravenna -0.109538   0.109538\n",
       "20             neighbourhood_cleansed_Broadview -0.108322   0.108322\n",
       "14         neighbourhood_cleansed_Arbor Heights -0.107082   0.107082\n",
       "65     neighbourhood_cleansed_North Beacon Hill -0.106874   0.106874\n",
       "22                neighbourhood_cleansed_Bryant -0.104481   0.104481\n",
       "39           neighbourhood_cleansed_Haller Lake -0.102289   0.102289\n",
       "100       neighbourhood_cleansed_Yesler Terrace -0.102067   0.102067\n",
       "81               neighbourhood_cleansed_Seaview -0.101567   0.101567\n",
       "53          neighbourhood_cleansed_Madison Park  0.101326   0.101326\n",
       "35               neighbourhood_cleansed_Genesee -0.101198   0.101198\n",
       "61              neighbourhood_cleansed_Montlake -0.098037   0.098037\n",
       "85      neighbourhood_cleansed_South Lake Union  0.097447   0.097447\n",
       "36            neighbourhood_cleansed_Georgetown -0.097273   0.097273\n",
       "82           neighbourhood_cleansed_Seward Park -0.096098   0.096098\n",
       "101                      room_type_Private room -0.092647   0.092647\n",
       "98      neighbourhood_cleansed_Whittier Heights  0.087494   0.087494\n",
       "38             neighbourhood_cleansed_Greenwood -0.086524   0.086524\n",
       "31            neighbourhood_cleansed_Fauntleroy -0.079763   0.079763\n",
       "6                     review_scores_cleanliness  0.077549   0.077549\n",
       "46              neighbourhood_cleansed_Interbay -0.077541   0.077541"
      ]
     },
     "execution_count": 67,
     "metadata": {},
     "output_type": "execute_result"
    }
   ],
   "source": [
    "#Use the function\n",
    "coef_df = coef_weights(lm_model.coef_, X_train)\n",
    "\n",
    "#A quick look at the top results\n",
    "coef_df.head(50)"
   ]
  },
  {
   "cell_type": "markdown",
   "id": "84f5a6a2",
   "metadata": {},
   "source": [
    "The coefficients themselves are harder to intepret, since we need to raise each to the tenth power to find the actual change in price, but the direction is clear. More outlying neighborhoods still drive the price down, while more central ones increase the price. \n",
    "Let's look at the neighborhood groups to more easily see what other factors might be driving price than just neighborhood. "
   ]
  },
  {
   "cell_type": "code",
   "execution_count": 68,
   "id": "f18358c9",
   "metadata": {},
   "outputs": [
    {
     "name": "stderr",
     "output_type": "stream",
     "text": [
      "C:\\Users\\Darcy\\AppData\\Local\\Temp\\ipykernel_43556\\2243582005.py:26: SettingWithCopyWarning: \n",
      "A value is trying to be set on a copy of a slice from a DataFrame\n",
      "\n",
      "See the caveats in the documentation: https://pandas.pydata.org/pandas-docs/stable/user_guide/indexing.html#returning-a-view-versus-a-copy\n",
      "  df[col].fillna((df[col].mean()), inplace=True)\n"
     ]
    }
   ],
   "source": [
    "X, y = clean_data_log(merged_df,[\"neighbourhood_group_cleansed\",\"room_type\",\"accommodates\",\"beds\",\"minimum_nights_avg_ntm\",\"maximum_nights_avg_ntm\",\"review_scores_rating\",\n",
    "\"review_scores_accuracy\",\"review_scores_cleanliness\",\"review_scores_checkin\",\"review_scores_communication\",\"review_scores_location\",\"review_scores_value\",\n",
    "\"instant_bookable\",\"no_of_bathrooms\",\"shared\"] , 'price_float_y')      "
   ]
  },
  {
   "cell_type": "code",
   "execution_count": 69,
   "id": "f32c6fec",
   "metadata": {
    "scrolled": true
   },
   "outputs": [
    {
     "data": {
      "text/plain": [
       "'The r-squared score for your model was 0.42717776134049124 on 2065 values.'"
      ]
     },
     "execution_count": 69,
     "metadata": {},
     "output_type": "execute_result"
    }
   ],
   "source": [
    "X_train, X_test, y_train, y_test = train_test_split(X, y, test_size = .30, random_state=42)\n",
    "\n",
    "#Four steps:\n",
    "\n",
    "#Instantiate\n",
    "lm_model = LinearRegression() \n",
    "\n",
    "#Fit \n",
    "lm_model.fit(X_train, y_train) \n",
    "\n",
    "#Predict and score the model\n",
    "y_test_preds = lm_model.predict(X_test) \n",
    "\n",
    "#Rsquared and y_test\n",
    "rsquared_score = r2_score(y_test, y_test_preds)\n",
    "length_y_test = len(y_test)\n",
    "\n",
    "\"The r-squared score for your model was {} on {} values.\".format(rsquared_score, length_y_test)"
   ]
  },
  {
   "cell_type": "markdown",
   "id": "9473b8c8",
   "metadata": {},
   "source": [
    "A little worse, but still quite good in comparison to the non-log models. "
   ]
  },
  {
   "cell_type": "code",
   "execution_count": 70,
   "id": "f7189774",
   "metadata": {},
   "outputs": [
    {
     "data": {
      "text/html": [
       "<div>\n",
       "<style scoped>\n",
       "    .dataframe tbody tr th:only-of-type {\n",
       "        vertical-align: middle;\n",
       "    }\n",
       "\n",
       "    .dataframe tbody tr th {\n",
       "        vertical-align: top;\n",
       "    }\n",
       "\n",
       "    .dataframe thead th {\n",
       "        text-align: right;\n",
       "    }\n",
       "</style>\n",
       "<table border=\"1\" class=\"dataframe\">\n",
       "  <thead>\n",
       "    <tr style=\"text-align: right;\">\n",
       "      <th></th>\n",
       "      <th>est_int</th>\n",
       "      <th>coefs</th>\n",
       "      <th>abs_coefs</th>\n",
       "    </tr>\n",
       "  </thead>\n",
       "  <tbody>\n",
       "    <tr>\n",
       "      <th>30</th>\n",
       "      <td>room_type_Shared room</td>\n",
       "      <td>-0.248253</td>\n",
       "      <td>0.248253</td>\n",
       "    </tr>\n",
       "    <tr>\n",
       "      <th>17</th>\n",
       "      <td>neighbourhood_group_cleansed_Delridge</td>\n",
       "      <td>-0.137655</td>\n",
       "      <td>0.137655</td>\n",
       "    </tr>\n",
       "    <tr>\n",
       "      <th>12</th>\n",
       "      <td>shared</td>\n",
       "      <td>-0.133132</td>\n",
       "      <td>0.133132</td>\n",
       "    </tr>\n",
       "    <tr>\n",
       "      <th>13</th>\n",
       "      <td>neighbourhood_group_cleansed_Beacon Hill</td>\n",
       "      <td>-0.132347</td>\n",
       "      <td>0.132347</td>\n",
       "    </tr>\n",
       "    <tr>\n",
       "      <th>20</th>\n",
       "      <td>neighbourhood_group_cleansed_Lake City</td>\n",
       "      <td>-0.125353</td>\n",
       "      <td>0.125353</td>\n",
       "    </tr>\n",
       "    <tr>\n",
       "      <th>27</th>\n",
       "      <td>neighbourhood_group_cleansed_University District</td>\n",
       "      <td>-0.118395</td>\n",
       "      <td>0.118395</td>\n",
       "    </tr>\n",
       "    <tr>\n",
       "      <th>29</th>\n",
       "      <td>room_type_Private room</td>\n",
       "      <td>-0.103343</td>\n",
       "      <td>0.103343</td>\n",
       "    </tr>\n",
       "    <tr>\n",
       "      <th>25</th>\n",
       "      <td>neighbourhood_group_cleansed_Rainier Valley</td>\n",
       "      <td>-0.101599</td>\n",
       "      <td>0.101599</td>\n",
       "    </tr>\n",
       "    <tr>\n",
       "      <th>6</th>\n",
       "      <td>review_scores_cleanliness</td>\n",
       "      <td>0.089026</td>\n",
       "      <td>0.089026</td>\n",
       "    </tr>\n",
       "    <tr>\n",
       "      <th>10</th>\n",
       "      <td>review_scores_value</td>\n",
       "      <td>-0.081804</td>\n",
       "      <td>0.081804</td>\n",
       "    </tr>\n",
       "    <tr>\n",
       "      <th>22</th>\n",
       "      <td>neighbourhood_group_cleansed_Northgate</td>\n",
       "      <td>-0.080504</td>\n",
       "      <td>0.080504</td>\n",
       "    </tr>\n",
       "    <tr>\n",
       "      <th>4</th>\n",
       "      <td>review_scores_rating</td>\n",
       "      <td>0.077733</td>\n",
       "      <td>0.077733</td>\n",
       "    </tr>\n",
       "    <tr>\n",
       "      <th>26</th>\n",
       "      <td>neighbourhood_group_cleansed_Seward Park</td>\n",
       "      <td>-0.076413</td>\n",
       "      <td>0.076413</td>\n",
       "    </tr>\n",
       "    <tr>\n",
       "      <th>18</th>\n",
       "      <td>neighbourhood_group_cleansed_Downtown</td>\n",
       "      <td>0.070294</td>\n",
       "      <td>0.070294</td>\n",
       "    </tr>\n",
       "    <tr>\n",
       "      <th>19</th>\n",
       "      <td>neighbourhood_group_cleansed_Interbay</td>\n",
       "      <td>-0.063129</td>\n",
       "      <td>0.063129</td>\n",
       "    </tr>\n",
       "    <tr>\n",
       "      <th>11</th>\n",
       "      <td>no_of_bathrooms</td>\n",
       "      <td>0.063024</td>\n",
       "      <td>0.063024</td>\n",
       "    </tr>\n",
       "    <tr>\n",
       "      <th>15</th>\n",
       "      <td>neighbourhood_group_cleansed_Cascade</td>\n",
       "      <td>0.051096</td>\n",
       "      <td>0.051096</td>\n",
       "    </tr>\n",
       "    <tr>\n",
       "      <th>0</th>\n",
       "      <td>accommodates</td>\n",
       "      <td>0.047451</td>\n",
       "      <td>0.047451</td>\n",
       "    </tr>\n",
       "    <tr>\n",
       "      <th>16</th>\n",
       "      <td>neighbourhood_group_cleansed_Central Area</td>\n",
       "      <td>-0.045037</td>\n",
       "      <td>0.045037</td>\n",
       "    </tr>\n",
       "    <tr>\n",
       "      <th>23</th>\n",
       "      <td>neighbourhood_group_cleansed_Other neighborhoods</td>\n",
       "      <td>-0.040149</td>\n",
       "      <td>0.040149</td>\n",
       "    </tr>\n",
       "  </tbody>\n",
       "</table>\n",
       "</div>"
      ],
      "text/plain": [
       "                                             est_int     coefs  abs_coefs\n",
       "30                             room_type_Shared room -0.248253   0.248253\n",
       "17             neighbourhood_group_cleansed_Delridge -0.137655   0.137655\n",
       "12                                            shared -0.133132   0.133132\n",
       "13          neighbourhood_group_cleansed_Beacon Hill -0.132347   0.132347\n",
       "20            neighbourhood_group_cleansed_Lake City -0.125353   0.125353\n",
       "27  neighbourhood_group_cleansed_University District -0.118395   0.118395\n",
       "29                            room_type_Private room -0.103343   0.103343\n",
       "25       neighbourhood_group_cleansed_Rainier Valley -0.101599   0.101599\n",
       "6                          review_scores_cleanliness  0.089026   0.089026\n",
       "10                               review_scores_value -0.081804   0.081804\n",
       "22            neighbourhood_group_cleansed_Northgate -0.080504   0.080504\n",
       "4                               review_scores_rating  0.077733   0.077733\n",
       "26          neighbourhood_group_cleansed_Seward Park -0.076413   0.076413\n",
       "18             neighbourhood_group_cleansed_Downtown  0.070294   0.070294\n",
       "19             neighbourhood_group_cleansed_Interbay -0.063129   0.063129\n",
       "11                                   no_of_bathrooms  0.063024   0.063024\n",
       "15              neighbourhood_group_cleansed_Cascade  0.051096   0.051096\n",
       "0                                       accommodates  0.047451   0.047451\n",
       "16         neighbourhood_group_cleansed_Central Area -0.045037   0.045037\n",
       "23  neighbourhood_group_cleansed_Other neighborhoods -0.040149   0.040149"
      ]
     },
     "execution_count": 70,
     "metadata": {},
     "output_type": "execute_result"
    }
   ],
   "source": [
    "#Use the function\n",
    "coef_df = coef_weights(lm_model.coef_, X_train)\n",
    "\n",
    "#A quick look at the top results\n",
    "coef_df.head(20)"
   ]
  },
  {
   "cell_type": "markdown",
   "id": "593de2cf",
   "metadata": {},
   "source": [
    "Shared rooms and shared bathrooms as well as being in a private room (likely instead of a whole rental) lower the price, as do several outlying neighborhood groups. Good review scores and being downtown increase the price."
   ]
  },
  {
   "cell_type": "code",
   "execution_count": 71,
   "id": "306f447b",
   "metadata": {},
   "outputs": [
    {
     "name": "stderr",
     "output_type": "stream",
     "text": [
      "C:\\Users\\Darcy\\AppData\\Local\\Temp\\ipykernel_43556\\2243582005.py:26: SettingWithCopyWarning: \n",
      "A value is trying to be set on a copy of a slice from a DataFrame\n",
      "\n",
      "See the caveats in the documentation: https://pandas.pydata.org/pandas-docs/stable/user_guide/indexing.html#returning-a-view-versus-a-copy\n",
      "  df[col].fillna((df[col].mean()), inplace=True)\n"
     ]
    }
   ],
   "source": [
    "X, y = clean_data_log(merged_df,[\"neighbourhood_cleansed\",\"room_type\",\"accommodates\",\"beds\",\"minimum_nights_avg_ntm\",\"maximum_nights_avg_ntm\",\"review_scores_rating\",\n",
    "\"review_scores_accuracy\",\"review_scores_cleanliness\",\"review_scores_checkin\",\"review_scores_communication\",\"review_scores_location\",\"review_scores_value\",\n",
    "\"instant_bookable\",\"no_of_bathrooms\",\"shared\"] , 'price_float_y')\n",
    "\n",
    "X_train, X_test, y_train, y_test = train_test_split(X, y, test_size = .30, random_state=42)\n",
    "\n",
    "#Four steps:\n",
    "\n",
    "#Instantiate\n",
    "lm_model = LinearRegression() \n",
    "\n",
    "#Fit \n",
    "lm_model.fit(X_train, y_train) \n",
    "\n",
    "#Predict and score the model\n",
    "y_test_preds = lm_model.predict(X_test) \n",
    "\n",
    "#Rsquared and y_test\n",
    "rsquared_score = r2_score(y_test, y_test_preds)\n",
    "length_y_test = len(y_test)\n",
    "\n",
    "\"The r-squared score for your model was {} on {} values.\".format(rsquared_score, length_y_test)\n",
    "\n",
    "best_model = lm_model\n",
    "best_preds = y_test_preds\n",
    "best_X_test = X_test\n",
    "best_y_test = y_test"
   ]
  },
  {
   "cell_type": "code",
   "execution_count": 72,
   "id": "4d4186a6",
   "metadata": {},
   "outputs": [],
   "source": [
    "residual = (best_y_test - best_preds)"
   ]
  },
  {
   "cell_type": "code",
   "execution_count": 73,
   "id": "054c6e82",
   "metadata": {},
   "outputs": [
    {
     "name": "stdout",
     "output_type": "stream",
     "text": [
      "6455   -0.218336\n",
      "3833   -0.258080\n",
      "2594    0.241952\n",
      "2751   -0.111354\n",
      "4303    0.084419\n",
      "          ...   \n",
      "3950    0.135355\n",
      "2890   -0.032909\n",
      "3001    0.295309\n",
      "3580   -0.012050\n",
      "2941   -0.067088\n",
      "Name: price_float_y, Length: 2065, dtype: float64\n"
     ]
    }
   ],
   "source": [
    "print(residual)"
   ]
  },
  {
   "cell_type": "code",
   "execution_count": 74,
   "id": "39e66eba",
   "metadata": {},
   "outputs": [],
   "source": [
    "residual_df = pd.DataFrame(residual)"
   ]
  },
  {
   "cell_type": "code",
   "execution_count": 75,
   "id": "8bb10f5f",
   "metadata": {},
   "outputs": [
    {
     "data": {
      "text/html": [
       "<div>\n",
       "<style scoped>\n",
       "    .dataframe tbody tr th:only-of-type {\n",
       "        vertical-align: middle;\n",
       "    }\n",
       "\n",
       "    .dataframe tbody tr th {\n",
       "        vertical-align: top;\n",
       "    }\n",
       "\n",
       "    .dataframe thead th {\n",
       "        text-align: right;\n",
       "    }\n",
       "</style>\n",
       "<table border=\"1\" class=\"dataframe\">\n",
       "  <thead>\n",
       "    <tr style=\"text-align: right;\">\n",
       "      <th></th>\n",
       "      <th>price_float_y</th>\n",
       "    </tr>\n",
       "  </thead>\n",
       "  <tbody>\n",
       "    <tr>\n",
       "      <th>6455</th>\n",
       "      <td>-0.218336</td>\n",
       "    </tr>\n",
       "    <tr>\n",
       "      <th>3833</th>\n",
       "      <td>-0.258080</td>\n",
       "    </tr>\n",
       "    <tr>\n",
       "      <th>2594</th>\n",
       "      <td>0.241952</td>\n",
       "    </tr>\n",
       "    <tr>\n",
       "      <th>2751</th>\n",
       "      <td>-0.111354</td>\n",
       "    </tr>\n",
       "    <tr>\n",
       "      <th>4303</th>\n",
       "      <td>0.084419</td>\n",
       "    </tr>\n",
       "  </tbody>\n",
       "</table>\n",
       "</div>"
      ],
      "text/plain": [
       "      price_float_y\n",
       "6455      -0.218336\n",
       "3833      -0.258080\n",
       "2594       0.241952\n",
       "2751      -0.111354\n",
       "4303       0.084419"
      ]
     },
     "execution_count": 75,
     "metadata": {},
     "output_type": "execute_result"
    }
   ],
   "source": [
    "residual_df.head()"
   ]
  },
  {
   "cell_type": "code",
   "execution_count": 76,
   "id": "2c7a3a8a",
   "metadata": {},
   "outputs": [],
   "source": [
    "best_y_test_df = pd.DataFrame(best_y_test)"
   ]
  },
  {
   "cell_type": "code",
   "execution_count": 77,
   "id": "00284b14",
   "metadata": {},
   "outputs": [
    {
     "data": {
      "text/html": [
       "<div>\n",
       "<style scoped>\n",
       "    .dataframe tbody tr th:only-of-type {\n",
       "        vertical-align: middle;\n",
       "    }\n",
       "\n",
       "    .dataframe tbody tr th {\n",
       "        vertical-align: top;\n",
       "    }\n",
       "\n",
       "    .dataframe thead th {\n",
       "        text-align: right;\n",
       "    }\n",
       "</style>\n",
       "<table border=\"1\" class=\"dataframe\">\n",
       "  <thead>\n",
       "    <tr style=\"text-align: right;\">\n",
       "      <th></th>\n",
       "      <th>price_float_y</th>\n",
       "    </tr>\n",
       "  </thead>\n",
       "  <tbody>\n",
       "    <tr>\n",
       "      <th>6455</th>\n",
       "      <td>2.041393</td>\n",
       "    </tr>\n",
       "    <tr>\n",
       "      <th>3833</th>\n",
       "      <td>1.838849</td>\n",
       "    </tr>\n",
       "    <tr>\n",
       "      <th>2594</th>\n",
       "      <td>2.176091</td>\n",
       "    </tr>\n",
       "    <tr>\n",
       "      <th>2751</th>\n",
       "      <td>2.176091</td>\n",
       "    </tr>\n",
       "    <tr>\n",
       "      <th>4303</th>\n",
       "      <td>2.698101</td>\n",
       "    </tr>\n",
       "  </tbody>\n",
       "</table>\n",
       "</div>"
      ],
      "text/plain": [
       "      price_float_y\n",
       "6455       2.041393\n",
       "3833       1.838849\n",
       "2594       2.176091\n",
       "2751       2.176091\n",
       "4303       2.698101"
      ]
     },
     "execution_count": 77,
     "metadata": {},
     "output_type": "execute_result"
    }
   ],
   "source": [
    "best_y_test_df.head()"
   ]
  },
  {
   "cell_type": "code",
   "execution_count": null,
   "id": "cb75b49d",
   "metadata": {},
   "outputs": [],
   "source": []
  },
  {
   "cell_type": "code",
   "execution_count": null,
   "id": "bb615399",
   "metadata": {},
   "outputs": [],
   "source": []
  },
  {
   "cell_type": "code",
   "execution_count": 78,
   "id": "2be0f241",
   "metadata": {},
   "outputs": [
    {
     "name": "stdout",
     "output_type": "stream",
     "text": [
      "<class 'pandas.core.frame.DataFrame'>\n",
      "RangeIndex: 6882 entries, 0 to 6881\n",
      "Data columns (total 79 columns):\n",
      " #   Column                                        Non-Null Count  Dtype  \n",
      "---  ------                                        --------------  -----  \n",
      " 0   id                                            6882 non-null   int64  \n",
      " 1   listing_url                                   6882 non-null   object \n",
      " 2   scrape_id                                     6882 non-null   int64  \n",
      " 3   last_scraped                                  6882 non-null   object \n",
      " 4   source                                        6882 non-null   object \n",
      " 5   name                                          6882 non-null   object \n",
      " 6   description                                   0 non-null      float64\n",
      " 7   neighborhood_overview                         5013 non-null   object \n",
      " 8   picture_url                                   6882 non-null   object \n",
      " 9   host_id                                       6882 non-null   int64  \n",
      " 10  host_url                                      6882 non-null   object \n",
      " 11  host_name                                     6882 non-null   object \n",
      " 12  host_since                                    6882 non-null   object \n",
      " 13  host_location                                 5816 non-null   object \n",
      " 14  host_about                                    4747 non-null   object \n",
      " 15  host_response_time                            5940 non-null   object \n",
      " 16  host_response_rate                            5940 non-null   object \n",
      " 17  host_acceptance_rate                          6297 non-null   object \n",
      " 18  host_is_superhost                             6864 non-null   object \n",
      " 19  host_thumbnail_url                            6882 non-null   object \n",
      " 20  host_picture_url                              6882 non-null   object \n",
      " 21  host_neighbourhood                            6552 non-null   object \n",
      " 22  host_listings_count                           6882 non-null   int64  \n",
      " 23  host_total_listings_count                     6882 non-null   int64  \n",
      " 24  host_verifications                            6882 non-null   object \n",
      " 25  host_has_profile_pic                          6882 non-null   object \n",
      " 26  host_identity_verified                        6882 non-null   object \n",
      " 27  neighbourhood                                 5013 non-null   object \n",
      " 28  neighbourhood_cleansed                        6882 non-null   object \n",
      " 29  neighbourhood_group_cleansed                  6882 non-null   object \n",
      " 30  latitude                                      6882 non-null   float64\n",
      " 31  longitude                                     6882 non-null   float64\n",
      " 32  property_type                                 6882 non-null   object \n",
      " 33  room_type                                     6882 non-null   object \n",
      " 34  accommodates                                  6882 non-null   int64  \n",
      " 35  bathrooms                                     0 non-null      float64\n",
      " 36  bathrooms_text                                6882 non-null   object \n",
      " 37  bedrooms                                      0 non-null      float64\n",
      " 38  beds                                          6826 non-null   float64\n",
      " 39  amenities                                     6882 non-null   object \n",
      " 40  price                                         6504 non-null   object \n",
      " 41  minimum_nights                                6882 non-null   int64  \n",
      " 42  maximum_nights                                6882 non-null   int64  \n",
      " 43  minimum_minimum_nights                        6882 non-null   int64  \n",
      " 44  maximum_minimum_nights                        6882 non-null   int64  \n",
      " 45  minimum_maximum_nights                        6882 non-null   int64  \n",
      " 46  maximum_maximum_nights                        6882 non-null   int64  \n",
      " 47  minimum_nights_avg_ntm                        6882 non-null   float64\n",
      " 48  maximum_nights_avg_ntm                        6882 non-null   float64\n",
      " 49  calendar_updated                              0 non-null      float64\n",
      " 50  has_availability                              6504 non-null   object \n",
      " 51  availability_30                               6882 non-null   int64  \n",
      " 52  availability_60                               6882 non-null   int64  \n",
      " 53  availability_90                               6882 non-null   int64  \n",
      " 54  availability_365                              6882 non-null   int64  \n",
      " 55  calendar_last_scraped                         6882 non-null   object \n",
      " 56  number_of_reviews                             6882 non-null   int64  \n",
      " 57  number_of_reviews_ltm                         6882 non-null   int64  \n",
      " 58  number_of_reviews_l30d                        6882 non-null   int64  \n",
      " 59  first_review                                  5809 non-null   object \n",
      " 60  last_review                                   5809 non-null   object \n",
      " 61  review_scores_rating                          5812 non-null   float64\n",
      " 62  review_scores_accuracy                        5812 non-null   float64\n",
      " 63  review_scores_cleanliness                     5812 non-null   float64\n",
      " 64  review_scores_checkin                         5812 non-null   float64\n",
      " 65  review_scores_communication                   5812 non-null   float64\n",
      " 66  review_scores_location                        5812 non-null   float64\n",
      " 67  review_scores_value                           5811 non-null   float64\n",
      " 68  license                                       5462 non-null   object \n",
      " 69  instant_bookable                              6882 non-null   object \n",
      " 70  calculated_host_listings_count                6882 non-null   int64  \n",
      " 71  calculated_host_listings_count_entire_homes   6882 non-null   int64  \n",
      " 72  calculated_host_listings_count_private_rooms  6882 non-null   int64  \n",
      " 73  calculated_host_listings_count_shared_rooms   6882 non-null   int64  \n",
      " 74  reviews_per_month                             5809 non-null   float64\n",
      " 75  price_float                                   6504 non-null   float64\n",
      " 76  review_count                                  6882 non-null   int64  \n",
      " 77  no_of_bathrooms                               6882 non-null   float64\n",
      " 78  shared                                        6882 non-null   int32  \n",
      "dtypes: float64(19), int32(1), int64(24), object(35)\n",
      "memory usage: 4.1+ MB\n"
     ]
    }
   ],
   "source": [
    "list_df.info()"
   ]
  },
  {
   "cell_type": "code",
   "execution_count": 79,
   "id": "38dd2af3",
   "metadata": {
    "scrolled": true
   },
   "outputs": [
    {
     "data": {
      "text/plain": [
       "2023-11-26    272\n",
       "2023-11-25    220\n",
       "2023-12-03    192\n",
       "2023-12-17    170\n",
       "2023-11-27    158\n",
       "             ... \n",
       "2023-05-30      1\n",
       "2018-09-24      1\n",
       "2021-08-08      1\n",
       "2020-04-30      1\n",
       "2020-11-02      1\n",
       "Name: last_review, Length: 742, dtype: int64"
      ]
     },
     "execution_count": 79,
     "metadata": {},
     "output_type": "execute_result"
    }
   ],
   "source": [
    "list_df['last_review'].value_counts()"
   ]
  },
  {
   "cell_type": "code",
   "execution_count": 80,
   "id": "85e6459f",
   "metadata": {},
   "outputs": [
    {
     "data": {
      "text/plain": [
       "0     1731\n",
       "90     871\n",
       "89     324\n",
       "78     157\n",
       "79     148\n",
       "      ... \n",
       "22      13\n",
       "10      13\n",
       "8       12\n",
       "14      12\n",
       "24      12\n",
       "Name: availability_90, Length: 91, dtype: int64"
      ]
     },
     "execution_count": 80,
     "metadata": {},
     "output_type": "execute_result"
    }
   ],
   "source": [
    "list_df['availability_90'].value_counts()\n"
   ]
  },
  {
   "cell_type": "markdown",
   "id": "ce78e6f5",
   "metadata": {},
   "source": [
    "### What predicts availability?"
   ]
  },
  {
   "cell_type": "markdown",
   "id": "399d7a99",
   "metadata": {},
   "source": [
    "Let's try a different approach for avaiability. The relationship between the factors is unlikely to be linear, so let's use a random forest instead. "
   ]
  },
  {
   "cell_type": "code",
   "execution_count": 81,
   "id": "25b8ad25",
   "metadata": {
    "scrolled": true
   },
   "outputs": [
    {
     "name": "stderr",
     "output_type": "stream",
     "text": [
      "C:\\Users\\Darcy\\AppData\\Local\\Temp\\ipykernel_43556\\4230153802.py:27: SettingWithCopyWarning: \n",
      "A value is trying to be set on a copy of a slice from a DataFrame\n",
      "\n",
      "See the caveats in the documentation: https://pandas.pydata.org/pandas-docs/stable/user_guide/indexing.html#returning-a-view-versus-a-copy\n",
      "  df[col].fillna((df[col].mean()), inplace=True)\n"
     ]
    }
   ],
   "source": [
    "X, y = clean_data(merged_df,[\"room_type\",\"accommodates\",\"neighbourhood_group_cleansed\",\"beds\",\"minimum_nights_avg_ntm\",\"maximum_nights_avg_ntm\",\"review_scores_rating\",\n",
    "\"review_scores_accuracy\",\"review_scores_cleanliness\",\"review_scores_checkin\",\"review_scores_communication\",\"review_scores_location\",\"review_scores_value\",\n",
    "\"instant_bookable\",\"no_of_bathrooms\",\"shared\",'price_float_y'] ,\"availability_90\" )   "
   ]
  },
  {
   "cell_type": "code",
   "execution_count": 82,
   "id": "75e92bcc",
   "metadata": {},
   "outputs": [],
   "source": [
    "from sklearn.ensemble import RandomForestClassifier as RFC"
   ]
  },
  {
   "cell_type": "code",
   "execution_count": 83,
   "id": "278db533",
   "metadata": {},
   "outputs": [],
   "source": [
    "clf=RFC(n_estimators=200,max_depth=20,random_state=42)"
   ]
  },
  {
   "cell_type": "code",
   "execution_count": 84,
   "id": "59a77b08",
   "metadata": {},
   "outputs": [],
   "source": [
    "X_train, X_test, y_train, y_test = train_test_split(X, y, test_size = .30, random_state=42)"
   ]
  },
  {
   "cell_type": "code",
   "execution_count": 85,
   "id": "cb6a6537",
   "metadata": {},
   "outputs": [
    {
     "data": {
      "text/plain": [
       "RandomForestClassifier(max_depth=20, n_estimators=200, random_state=42)"
      ]
     },
     "execution_count": 85,
     "metadata": {},
     "output_type": "execute_result"
    }
   ],
   "source": [
    "clf.fit(X_train,y_train)"
   ]
  },
  {
   "cell_type": "code",
   "execution_count": 86,
   "id": "de3a972b",
   "metadata": {},
   "outputs": [],
   "source": [
    "y_prediction=clf.predict(X_test)"
   ]
  },
  {
   "cell_type": "code",
   "execution_count": 87,
   "id": "a60dcd03",
   "metadata": {},
   "outputs": [
    {
     "data": {
      "text/plain": [
       "'The r-squared score for your model was -1.1754015350718996 on 2065 values.'"
      ]
     },
     "execution_count": 87,
     "metadata": {},
     "output_type": "execute_result"
    }
   ],
   "source": [
    "rsquared_score = r2_score(y_test, y_prediction)\n",
    "length_y_test = len(y_test)\n",
    "\n",
    "\"The r-squared score for your model was {} on {} values.\".format(rsquared_score, length_y_test)"
   ]
  },
  {
   "cell_type": "markdown",
   "id": "5e58d0ff",
   "metadata": {},
   "source": [
    "Well, that's not a good r-squared score. Let's investigate. "
   ]
  },
  {
   "cell_type": "code",
   "execution_count": 88,
   "id": "ca92c85e",
   "metadata": {
    "scrolled": true
   },
   "outputs": [
    {
     "name": "stdout",
     "output_type": "stream",
     "text": [
      "<class 'pandas.core.series.Series'>\n",
      "Int64Index: 6882 entries, 0 to 6881\n",
      "Series name: availability_90\n",
      "Non-Null Count  Dtype\n",
      "--------------  -----\n",
      "6882 non-null   int64\n",
      "dtypes: int64(1)\n",
      "memory usage: 107.5 KB\n"
     ]
    }
   ],
   "source": [
    "y.info()"
   ]
  },
  {
   "cell_type": "markdown",
   "id": "ba5043c0",
   "metadata": {},
   "source": [
    "Let's see if we can compare the predictions based on the model and X test to the actual values of y test. "
   ]
  },
  {
   "cell_type": "code",
   "execution_count": 89,
   "id": "8128b014",
   "metadata": {},
   "outputs": [],
   "source": [
    "y_prediction=clf.predict(X_test)\n"
   ]
  },
  {
   "cell_type": "code",
   "execution_count": 90,
   "id": "4514e29a",
   "metadata": {},
   "outputs": [
    {
     "name": "stdout",
     "output_type": "stream",
     "text": [
      "6455    86\n",
      "3833     0\n",
      "2594     0\n",
      "2751     0\n",
      "4303    76\n",
      "        ..\n",
      "3950    41\n",
      "2890    88\n",
      "3001    12\n",
      "3580     0\n",
      "2941     0\n",
      "Name: availability_90, Length: 2065, dtype: int64\n"
     ]
    }
   ],
   "source": [
    "print(y_test)"
   ]
  },
  {
   "cell_type": "code",
   "execution_count": 91,
   "id": "9447e467",
   "metadata": {},
   "outputs": [],
   "source": [
    "y_test_df = pd.DataFrame(y_test).reset_index()\n"
   ]
  },
  {
   "cell_type": "code",
   "execution_count": 92,
   "id": "fffe0430",
   "metadata": {},
   "outputs": [
    {
     "data": {
      "text/html": [
       "<div>\n",
       "<style scoped>\n",
       "    .dataframe tbody tr th:only-of-type {\n",
       "        vertical-align: middle;\n",
       "    }\n",
       "\n",
       "    .dataframe tbody tr th {\n",
       "        vertical-align: top;\n",
       "    }\n",
       "\n",
       "    .dataframe thead th {\n",
       "        text-align: right;\n",
       "    }\n",
       "</style>\n",
       "<table border=\"1\" class=\"dataframe\">\n",
       "  <thead>\n",
       "    <tr style=\"text-align: right;\">\n",
       "      <th></th>\n",
       "      <th>index</th>\n",
       "      <th>availability_90</th>\n",
       "    </tr>\n",
       "  </thead>\n",
       "  <tbody>\n",
       "    <tr>\n",
       "      <th>0</th>\n",
       "      <td>6455</td>\n",
       "      <td>86</td>\n",
       "    </tr>\n",
       "    <tr>\n",
       "      <th>1</th>\n",
       "      <td>3833</td>\n",
       "      <td>0</td>\n",
       "    </tr>\n",
       "    <tr>\n",
       "      <th>2</th>\n",
       "      <td>2594</td>\n",
       "      <td>0</td>\n",
       "    </tr>\n",
       "    <tr>\n",
       "      <th>3</th>\n",
       "      <td>2751</td>\n",
       "      <td>0</td>\n",
       "    </tr>\n",
       "    <tr>\n",
       "      <th>4</th>\n",
       "      <td>4303</td>\n",
       "      <td>76</td>\n",
       "    </tr>\n",
       "  </tbody>\n",
       "</table>\n",
       "</div>"
      ],
      "text/plain": [
       "   index  availability_90\n",
       "0   6455               86\n",
       "1   3833                0\n",
       "2   2594                0\n",
       "3   2751                0\n",
       "4   4303               76"
      ]
     },
     "execution_count": 92,
     "metadata": {},
     "output_type": "execute_result"
    }
   ],
   "source": [
    "y_test_df.head()"
   ]
  },
  {
   "cell_type": "code",
   "execution_count": 93,
   "id": "2762a20f",
   "metadata": {},
   "outputs": [
    {
     "name": "stdout",
     "output_type": "stream",
     "text": [
      "[90  0 90 ...  0 90  0]\n"
     ]
    }
   ],
   "source": [
    "print(y_prediction)"
   ]
  },
  {
   "cell_type": "code",
   "execution_count": 94,
   "id": "a5106db2",
   "metadata": {},
   "outputs": [
    {
     "data": {
      "text/plain": [
       "2065"
      ]
     },
     "execution_count": 94,
     "metadata": {},
     "output_type": "execute_result"
    }
   ],
   "source": [
    "len(y_prediction)"
   ]
  },
  {
   "cell_type": "code",
   "execution_count": 95,
   "id": "47b8f5ed",
   "metadata": {},
   "outputs": [
    {
     "data": {
      "text/plain": [
       "90"
      ]
     },
     "execution_count": 95,
     "metadata": {},
     "output_type": "execute_result"
    }
   ],
   "source": [
    "y_prediction[0]"
   ]
  },
  {
   "cell_type": "code",
   "execution_count": 96,
   "id": "8bc1b307",
   "metadata": {},
   "outputs": [],
   "source": [
    "y_pred_df = pd.DataFrame(y_prediction,columns=['prediction'])"
   ]
  },
  {
   "cell_type": "code",
   "execution_count": 97,
   "id": "2e8c5724",
   "metadata": {},
   "outputs": [
    {
     "data": {
      "text/html": [
       "<div>\n",
       "<style scoped>\n",
       "    .dataframe tbody tr th:only-of-type {\n",
       "        vertical-align: middle;\n",
       "    }\n",
       "\n",
       "    .dataframe tbody tr th {\n",
       "        vertical-align: top;\n",
       "    }\n",
       "\n",
       "    .dataframe thead th {\n",
       "        text-align: right;\n",
       "    }\n",
       "</style>\n",
       "<table border=\"1\" class=\"dataframe\">\n",
       "  <thead>\n",
       "    <tr style=\"text-align: right;\">\n",
       "      <th></th>\n",
       "      <th>prediction</th>\n",
       "    </tr>\n",
       "  </thead>\n",
       "  <tbody>\n",
       "    <tr>\n",
       "      <th>0</th>\n",
       "      <td>90</td>\n",
       "    </tr>\n",
       "    <tr>\n",
       "      <th>1</th>\n",
       "      <td>0</td>\n",
       "    </tr>\n",
       "    <tr>\n",
       "      <th>2</th>\n",
       "      <td>90</td>\n",
       "    </tr>\n",
       "    <tr>\n",
       "      <th>3</th>\n",
       "      <td>0</td>\n",
       "    </tr>\n",
       "    <tr>\n",
       "      <th>4</th>\n",
       "      <td>0</td>\n",
       "    </tr>\n",
       "  </tbody>\n",
       "</table>\n",
       "</div>"
      ],
      "text/plain": [
       "   prediction\n",
       "0          90\n",
       "1           0\n",
       "2          90\n",
       "3           0\n",
       "4           0"
      ]
     },
     "execution_count": 97,
     "metadata": {},
     "output_type": "execute_result"
    }
   ],
   "source": [
    "y_pred_df.head()"
   ]
  },
  {
   "cell_type": "code",
   "execution_count": 98,
   "id": "cdab323c",
   "metadata": {},
   "outputs": [
    {
     "data": {
      "text/plain": [
       "0     1539\n",
       "90     389\n",
       "89      33\n",
       "80      10\n",
       "81       7\n",
       "88       7\n",
       "79       5\n",
       "76       4\n",
       "87       4\n",
       "83       4\n",
       "62       4\n",
       "15       3\n",
       "71       3\n",
       "16       3\n",
       "47       3\n",
       "61       3\n",
       "85       3\n",
       "30       2\n",
       "40       2\n",
       "35       2\n",
       "9        2\n",
       "86       2\n",
       "74       2\n",
       "78       2\n",
       "37       2\n",
       "82       2\n",
       "77       2\n",
       "39       1\n",
       "66       1\n",
       "33       1\n",
       "1        1\n",
       "64       1\n",
       "48       1\n",
       "73       1\n",
       "22       1\n",
       "6        1\n",
       "84       1\n",
       "18       1\n",
       "72       1\n",
       "17       1\n",
       "69       1\n",
       "23       1\n",
       "52       1\n",
       "70       1\n",
       "65       1\n",
       "38       1\n",
       "67       1\n",
       "60       1\n",
       "Name: prediction, dtype: int64"
      ]
     },
     "execution_count": 98,
     "metadata": {},
     "output_type": "execute_result"
    }
   ],
   "source": [
    "y_pred_df['prediction'].value_counts()"
   ]
  },
  {
   "cell_type": "code",
   "execution_count": 99,
   "id": "f4483cdd",
   "metadata": {},
   "outputs": [],
   "source": [
    "y_graph = y_test_df"
   ]
  },
  {
   "cell_type": "code",
   "execution_count": 100,
   "id": "6608a736",
   "metadata": {},
   "outputs": [],
   "source": [
    "y_graph['prediction'] = y_pred_df['prediction']"
   ]
  },
  {
   "cell_type": "code",
   "execution_count": 101,
   "id": "14f4b6a0",
   "metadata": {},
   "outputs": [
    {
     "data": {
      "text/html": [
       "<div>\n",
       "<style scoped>\n",
       "    .dataframe tbody tr th:only-of-type {\n",
       "        vertical-align: middle;\n",
       "    }\n",
       "\n",
       "    .dataframe tbody tr th {\n",
       "        vertical-align: top;\n",
       "    }\n",
       "\n",
       "    .dataframe thead th {\n",
       "        text-align: right;\n",
       "    }\n",
       "</style>\n",
       "<table border=\"1\" class=\"dataframe\">\n",
       "  <thead>\n",
       "    <tr style=\"text-align: right;\">\n",
       "      <th></th>\n",
       "      <th>index</th>\n",
       "      <th>availability_90</th>\n",
       "      <th>prediction</th>\n",
       "    </tr>\n",
       "  </thead>\n",
       "  <tbody>\n",
       "    <tr>\n",
       "      <th>0</th>\n",
       "      <td>6455</td>\n",
       "      <td>86</td>\n",
       "      <td>90</td>\n",
       "    </tr>\n",
       "    <tr>\n",
       "      <th>1</th>\n",
       "      <td>3833</td>\n",
       "      <td>0</td>\n",
       "      <td>0</td>\n",
       "    </tr>\n",
       "    <tr>\n",
       "      <th>2</th>\n",
       "      <td>2594</td>\n",
       "      <td>0</td>\n",
       "      <td>90</td>\n",
       "    </tr>\n",
       "    <tr>\n",
       "      <th>3</th>\n",
       "      <td>2751</td>\n",
       "      <td>0</td>\n",
       "      <td>0</td>\n",
       "    </tr>\n",
       "    <tr>\n",
       "      <th>4</th>\n",
       "      <td>4303</td>\n",
       "      <td>76</td>\n",
       "      <td>0</td>\n",
       "    </tr>\n",
       "  </tbody>\n",
       "</table>\n",
       "</div>"
      ],
      "text/plain": [
       "   index  availability_90  prediction\n",
       "0   6455               86          90\n",
       "1   3833                0           0\n",
       "2   2594                0          90\n",
       "3   2751                0           0\n",
       "4   4303               76           0"
      ]
     },
     "execution_count": 101,
     "metadata": {},
     "output_type": "execute_result"
    }
   ],
   "source": [
    "y_graph.head()"
   ]
  },
  {
   "cell_type": "code",
   "execution_count": 102,
   "id": "aaf56cb1",
   "metadata": {},
   "outputs": [
    {
     "data": {
      "image/png": "[encoded data removed]",
      "text/plain": [
       "<Figure size 720x432 with 1 Axes>"
      ]
     },
     "metadata": {},
     "output_type": "display_data"
    }
   ],
   "source": [
    "plt.scatter(data=y_graph, x = \"availability_90\", y = \"prediction\");"
   ]
  },
  {
   "cell_type": "markdown",
   "id": "4a7bddf0",
   "metadata": {},
   "source": [
    "From the graph, it's clear that the model doesn't have a lot of predictive power. Let's check a linear regression. "
   ]
  },
  {
   "cell_type": "code",
   "execution_count": 103,
   "id": "4591260e",
   "metadata": {},
   "outputs": [
    {
     "name": "stderr",
     "output_type": "stream",
     "text": [
      "C:\\Users\\Darcy\\AppData\\Local\\Temp\\ipykernel_43556\\4230153802.py:27: SettingWithCopyWarning: \n",
      "A value is trying to be set on a copy of a slice from a DataFrame\n",
      "\n",
      "See the caveats in the documentation: https://pandas.pydata.org/pandas-docs/stable/user_guide/indexing.html#returning-a-view-versus-a-copy\n",
      "  df[col].fillna((df[col].mean()), inplace=True)\n"
     ]
    }
   ],
   "source": [
    "X, y = clean_data(merged_df,[\"room_type\",\"neighbourhood_group_cleansed\",\"accommodates\",\"beds\",\"minimum_nights_avg_ntm\",\"maximum_nights_avg_ntm\",\"review_scores_rating\",\n",
    "\"review_scores_accuracy\",\"review_scores_cleanliness\",\"review_scores_checkin\",\"review_scores_communication\",\"review_scores_location\",\"review_scores_value\",\n",
    "\"instant_bookable\",\"no_of_bathrooms\",\"shared\",'price_float_y'] ,\"availability_90\" )   "
   ]
  },
  {
   "cell_type": "code",
   "execution_count": 104,
   "id": "382c0514",
   "metadata": {},
   "outputs": [
    {
     "data": {
      "text/plain": [
       "'The r-squared score for your model was 0.02689205851664256 on 2065 values.'"
      ]
     },
     "execution_count": 104,
     "metadata": {},
     "output_type": "execute_result"
    }
   ],
   "source": [
    "X_train, X_test, y_train, y_test = train_test_split(X, y, test_size = .30, random_state=42)\n",
    "\n",
    "#Instantiate\n",
    "lm_model = LinearRegression() \n",
    "\n",
    "#Fit \n",
    "lm_model.fit(X_train, y_train) \n",
    "\n",
    "#Predict and score the model\n",
    "y_test_preds = lm_model.predict(X_test) \n",
    "\n",
    "#Rsquared and y_test\n",
    "rsquared_score = r2_score(y_test, y_test_preds)\n",
    "length_y_test = len(y_test)\n",
    "\n",
    "\"The r-squared score for your model was {} on {} values.\".format(rsquared_score, length_y_test)"
   ]
  },
  {
   "cell_type": "markdown",
   "id": "c6a01a15",
   "metadata": {},
   "source": [
    "Again, an even worse r squared. Finding the relationship likely requires a more sophisticated technique. "
   ]
  },
  {
   "cell_type": "markdown",
   "id": "bc2ac6c5",
   "metadata": {},
   "source": [
    "### What impacts number of reviews? \n",
    "I excluded number of reviews from previous analyses, because price and availablity likely drive the number of reviews. Let's test that intuition. \n"
   ]
  },
  {
   "cell_type": "code",
   "execution_count": 105,
   "id": "d4b6a69a",
   "metadata": {
    "scrolled": true
   },
   "outputs": [
    {
     "name": "stderr",
     "output_type": "stream",
     "text": [
      "C:\\Users\\Darcy\\AppData\\Local\\Temp\\ipykernel_43556\\4230153802.py:27: SettingWithCopyWarning: \n",
      "A value is trying to be set on a copy of a slice from a DataFrame\n",
      "\n",
      "See the caveats in the documentation: https://pandas.pydata.org/pandas-docs/stable/user_guide/indexing.html#returning-a-view-versus-a-copy\n",
      "  df[col].fillna((df[col].mean()), inplace=True)\n"
     ]
    }
   ],
   "source": [
    "X, y = clean_data(merged_df,['price_float_y',\"availability_90\"] ,\"number_of_reviews\")   "
   ]
  },
  {
   "cell_type": "code",
   "execution_count": 106,
   "id": "ca55c534",
   "metadata": {
    "scrolled": true
   },
   "outputs": [
    {
     "name": "stdout",
     "output_type": "stream",
     "text": [
      "<class 'pandas.core.frame.DataFrame'>\n",
      "Int64Index: 6882 entries, 0 to 6881\n",
      "Data columns (total 2 columns):\n",
      " #   Column           Non-Null Count  Dtype  \n",
      "---  ------           --------------  -----  \n",
      " 0   price_float_y    6882 non-null   float64\n",
      " 1   availability_90  6882 non-null   int64  \n",
      "dtypes: float64(1), int64(1)\n",
      "memory usage: 161.3 KB\n"
     ]
    }
   ],
   "source": [
    "X.info()"
   ]
  },
  {
   "cell_type": "code",
   "execution_count": 107,
   "id": "fef2eaa3",
   "metadata": {
    "scrolled": true
   },
   "outputs": [
    {
     "name": "stdout",
     "output_type": "stream",
     "text": [
      "10.0       1\n",
      "13.0       1\n",
      "20.0       1\n",
      "23.0       2\n",
      "27.0       3\n",
      "          ..\n",
      "4500.0     1\n",
      "4784.0     1\n",
      "4850.0     1\n",
      "9999.0     5\n",
      "10000.0    3\n",
      "Name: price_float_y, Length: 527, dtype: int64\n"
     ]
    }
   ],
   "source": [
    "value_counts_ordered = merged_df['price_float_y'].value_counts().sort_index()\n",
    "\n",
    "print(value_counts_ordered)"
   ]
  },
  {
   "cell_type": "code",
   "execution_count": 108,
   "id": "ffb26763",
   "metadata": {},
   "outputs": [
    {
     "name": "stdout",
     "output_type": "stream",
     "text": [
      "price_float_y      0\n",
      "availability_90    0\n",
      "dtype: int64\n"
     ]
    }
   ],
   "source": [
    "nan_values = X.isnull().sum()\n",
    "print(nan_values)"
   ]
  },
  {
   "cell_type": "code",
   "execution_count": 109,
   "id": "c3206ed0",
   "metadata": {
    "scrolled": true
   },
   "outputs": [
    {
     "data": {
      "text/html": [
       "<div>\n",
       "<style scoped>\n",
       "    .dataframe tbody tr th:only-of-type {\n",
       "        vertical-align: middle;\n",
       "    }\n",
       "\n",
       "    .dataframe tbody tr th {\n",
       "        vertical-align: top;\n",
       "    }\n",
       "\n",
       "    .dataframe thead th {\n",
       "        text-align: right;\n",
       "    }\n",
       "</style>\n",
       "<table border=\"1\" class=\"dataframe\">\n",
       "  <thead>\n",
       "    <tr style=\"text-align: right;\">\n",
       "      <th></th>\n",
       "      <th>price_float_y</th>\n",
       "      <th>availability_90</th>\n",
       "    </tr>\n",
       "  </thead>\n",
       "  <tbody>\n",
       "    <tr>\n",
       "      <th>count</th>\n",
       "      <td>6882.000000</td>\n",
       "      <td>6882.000000</td>\n",
       "    </tr>\n",
       "    <tr>\n",
       "      <th>mean</th>\n",
       "      <td>219.456557</td>\n",
       "      <td>50.055507</td>\n",
       "    </tr>\n",
       "    <tr>\n",
       "      <th>std</th>\n",
       "      <td>416.481421</td>\n",
       "      <td>36.280638</td>\n",
       "    </tr>\n",
       "    <tr>\n",
       "      <th>min</th>\n",
       "      <td>10.000000</td>\n",
       "      <td>0.000000</td>\n",
       "    </tr>\n",
       "    <tr>\n",
       "      <th>25%</th>\n",
       "      <td>99.000000</td>\n",
       "      <td>0.000000</td>\n",
       "    </tr>\n",
       "    <tr>\n",
       "      <th>50%</th>\n",
       "      <td>145.000000</td>\n",
       "      <td>64.000000</td>\n",
       "    </tr>\n",
       "    <tr>\n",
       "      <th>75%</th>\n",
       "      <td>239.000000</td>\n",
       "      <td>83.000000</td>\n",
       "    </tr>\n",
       "    <tr>\n",
       "      <th>max</th>\n",
       "      <td>10000.000000</td>\n",
       "      <td>90.000000</td>\n",
       "    </tr>\n",
       "  </tbody>\n",
       "</table>\n",
       "</div>"
      ],
      "text/plain": [
       "       price_float_y  availability_90\n",
       "count    6882.000000      6882.000000\n",
       "mean      219.456557        50.055507\n",
       "std       416.481421        36.280638\n",
       "min        10.000000         0.000000\n",
       "25%        99.000000         0.000000\n",
       "50%       145.000000        64.000000\n",
       "75%       239.000000        83.000000\n",
       "max     10000.000000        90.000000"
      ]
     },
     "execution_count": 109,
     "metadata": {},
     "output_type": "execute_result"
    }
   ],
   "source": [
    "X.describe()"
   ]
  },
  {
   "cell_type": "code",
   "execution_count": null,
   "id": "05ea78e0",
   "metadata": {},
   "outputs": [],
   "source": []
  },
  {
   "cell_type": "code",
   "execution_count": 110,
   "id": "bbf9e3d3",
   "metadata": {},
   "outputs": [
    {
     "data": {
      "text/plain": [
       "'The r-squared score for your model was 0.015329225650101752 on 2065 values.'"
      ]
     },
     "execution_count": 110,
     "metadata": {},
     "output_type": "execute_result"
    }
   ],
   "source": [
    "X_train, X_test, y_train, y_test = train_test_split(X, y, test_size = .30, random_state=42)\n",
    "\n",
    "#Instantiate\n",
    "lm_model = LinearRegression() \n",
    "\n",
    "#Fit \n",
    "lm_model.fit(X_train, y_train) \n",
    "\n",
    "#Predict and score the model\n",
    "y_test_preds = lm_model.predict(X_test) \n",
    "\n",
    "#Rsquared and y_test\n",
    "rsquared_score = r2_score(y_test, y_test_preds)\n",
    "length_y_test = len(y_test)\n",
    "\n",
    "\"The r-squared score for your model was {} on {} values.\".format(rsquared_score, length_y_test)"
   ]
  },
  {
   "cell_type": "markdown",
   "id": "be5399a9",
   "metadata": {},
   "source": [
    "Well.... not really. \n",
    "\n",
    "It seems that what predicts number of reviews will also require a more sophisticated technique. "
   ]
  },
  {
   "cell_type": "code",
   "execution_count": null,
   "id": "f2ef29a3",
   "metadata": {},
   "outputs": [],
   "source": []
  },
  {
   "cell_type": "code",
   "execution_count": null,
   "id": "a1b190a0",
   "metadata": {},
   "outputs": [],
   "source": []
  },
  {
   "cell_type": "code",
   "execution_count": null,
   "id": "05b6b2e8",
   "metadata": {},
   "outputs": [],
   "source": []
  },
  {
   "cell_type": "code",
   "execution_count": null,
   "id": "b531b3f9",
   "metadata": {},
   "outputs": [],
   "source": []
  },
  {
   "cell_type": "code",
   "execution_count": null,
   "id": "35b81227",
   "metadata": {},
   "outputs": [],
   "source": []
  },
  {
   "cell_type": "code",
   "execution_count": null,
   "id": "a0179e6f",
   "metadata": {},
   "outputs": [],
   "source": []
  }
 ],
 "metadata": {
  "kernelspec": {
   "display_name": "Python 3 (ipykernel)",
   "language": "python",
   "name": "python3"
  },
  "language_info": {
   "codemirror_mode": {
    "name": "ipython",
    "version": 3
   },
   "file_extension": ".py",
   "mimetype": "text/x-python",
   "name": "python",
   "nbconvert_exporter": "python",
   "pygments_lexer": "ipython3",
   "version": "3.9.12"
  }
 },
 "nbformat": 4,
 "nbformat_minor": 5
}
